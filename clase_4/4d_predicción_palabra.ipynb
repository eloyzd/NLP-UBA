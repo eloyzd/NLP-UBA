{
  "nbformat": 4,
  "nbformat_minor": 0,
  "metadata": {
    "colab": {
      "name": "4d - predicción_palabra.ipynb",
      "provenance": [],
      "collapsed_sections": []
    },
    "kernelspec": {
      "name": "python3",
      "display_name": "Python 3"
    },
    "language_info": {
      "name": "python"
    },
    "accelerator": "GPU"
  },
  "cells": [
    {
      "cell_type": "markdown",
      "metadata": {
        "id": "g3yeJGnCYxuF"
      },
      "source": [
        "<img src=\"https://github.com/hernancontigiani/ceia_memorias_especializacion/raw/master/Figures/logoFIUBA.jpg\" width=\"500\" align=\"center\">\n",
        "\n",
        "\n",
        "# Procesamiento de lenguaje natural\n",
        "## Predicción de próxima palabra"
      ]
    },
    {
      "cell_type": "markdown",
      "metadata": {
        "id": "Iv5PEwGzZA9-"
      },
      "source": [
        "### Objetivo\n",
        "El objetivo es utilizar documentos / corpus para crear embeddings de palabras basado en ese contexto utilizando la layer Embedding de Keras. Se utilizará esos embeddings junto con layers LSTM para predeccir la próxima posible palabra."
      ]
    },
    {
      "cell_type": "code",
      "metadata": {
        "id": "Y-QdFbHZYj7C"
      },
      "source": [
        "import random\n",
        "import io\n",
        "import pickle\n",
        "\n",
        "import numpy as np\n",
        "import pandas as pd\n",
        "\n",
        "from tensorflow import keras\n",
        "from tensorflow.keras import layers\n",
        "from keras.utils.np_utils import to_categorical\n",
        "from keras.models import Sequential\n",
        "from keras.layers import Dense, LSTM, Embedding, Dropout"
      ],
      "execution_count": 1,
      "outputs": []
    },
    {
      "cell_type": "markdown",
      "metadata": {
        "id": "xTvXlEKQZdqx"
      },
      "source": [
        "### Datos\n",
        "Utilizaremos como dataset canciones de bandas de habla inglés."
      ]
    },
    {
      "cell_type": "code",
      "metadata": {
        "id": "IkdPfrQJZdB5",
        "colab": {
          "base_uri": "https://localhost:8080/"
        },
        "outputId": "55ce58da-14ac-4d17-af1a-cf5b13a6c166"
      },
      "source": [
        "# Descargar la carpeta de dataset\n",
        "import os\n",
        "import platform\n",
        "if os.access('./songs_dataset', os.F_OK) is False:\n",
        "    if os.access('songs_dataset.zip', os.F_OK) is False:\n",
        "        if platform.system() == 'Windows':\n",
        "            !curl https://raw.githubusercontent.com/FIUBA-Posgrado-Inteligencia-Artificial/procesamiento_lenguaje_natural/main/datasets/songs_dataset.zip -o songs_dataset.zip\n",
        "        else:\n",
        "            !wget songs_dataset.zip https://github.com/FIUBA-Posgrado-Inteligencia-Artificial/procesamiento_lenguaje_natural/raw/main/datasets/songs_dataset.zip\n",
        "    !unzip -q songs_dataset.zip   \n",
        "else:\n",
        "    print(\"El dataset ya se encuentra descargado\")"
      ],
      "execution_count": 2,
      "outputs": [
        {
          "output_type": "stream",
          "name": "stdout",
          "text": [
            "--2022-08-03 12:38:43--  http://songs_dataset.zip/\n",
            "Resolving songs_dataset.zip (songs_dataset.zip)... failed: Name or service not known.\n",
            "wget: unable to resolve host address ‘songs_dataset.zip’\n",
            "--2022-08-03 12:38:43--  https://github.com/FIUBA-Posgrado-Inteligencia-Artificial/procesamiento_lenguaje_natural/raw/main/datasets/songs_dataset.zip\n",
            "Resolving github.com (github.com)... 192.30.255.113\n",
            "Connecting to github.com (github.com)|192.30.255.113|:443... connected.\n",
            "HTTP request sent, awaiting response... 302 Found\n",
            "Location: https://raw.githubusercontent.com/FIUBA-Posgrado-Inteligencia-Artificial/procesamiento_lenguaje_natural/main/datasets/songs_dataset.zip [following]\n",
            "--2022-08-03 12:38:43--  https://raw.githubusercontent.com/FIUBA-Posgrado-Inteligencia-Artificial/procesamiento_lenguaje_natural/main/datasets/songs_dataset.zip\n",
            "Resolving raw.githubusercontent.com (raw.githubusercontent.com)... 185.199.108.133, 185.199.109.133, 185.199.110.133, ...\n",
            "Connecting to raw.githubusercontent.com (raw.githubusercontent.com)|185.199.108.133|:443... connected.\n",
            "HTTP request sent, awaiting response... 200 OK\n",
            "Length: 2075036 (2.0M) [application/zip]\n",
            "Saving to: ‘songs_dataset.zip’\n",
            "\n",
            "songs_dataset.zip   100%[===================>]   1.98M  --.-KB/s    in 0.04s   \n",
            "\n",
            "2022-08-03 12:38:44 (48.2 MB/s) - ‘songs_dataset.zip’ saved [2075036/2075036]\n",
            "\n",
            "FINISHED --2022-08-03 12:38:44--\n",
            "Total wall clock time: 0.7s\n",
            "Downloaded: 1 files, 2.0M in 0.04s (48.2 MB/s)\n"
          ]
        }
      ]
    },
    {
      "cell_type": "code",
      "metadata": {
        "id": "6j-3nQ4lZjfb",
        "colab": {
          "base_uri": "https://localhost:8080/"
        },
        "outputId": "eb8a2af6-5ea7-4c42-f5b6-06c741951f54"
      },
      "source": [
        "# Posibles bandas\n",
        "os.listdir(\"./songs_dataset/\")"
      ],
      "execution_count": 3,
      "outputs": [
        {
          "output_type": "execute_result",
          "data": {
            "text/plain": [
              "['radiohead.txt',\n",
              " 'Lil_Wayne.txt',\n",
              " 'kanye.txt',\n",
              " 'janisjoplin.txt',\n",
              " 'amy-winehouse.txt',\n",
              " 'prince.txt',\n",
              " 'nirvana.txt',\n",
              " 'ludacris.txt',\n",
              " 'blink-182.txt',\n",
              " 'rihanna.txt',\n",
              " 'bieber.txt',\n",
              " 'leonard-cohen.txt',\n",
              " 'lorde.txt',\n",
              " 'r-kelly.txt',\n",
              " 'patti-smith.txt',\n",
              " 'dr-seuss.txt',\n",
              " 'jimi-hendrix.txt',\n",
              " 'britney-spears.txt',\n",
              " 'adele.txt',\n",
              " 'nicki-minaj.txt',\n",
              " 'lil-wayne.txt',\n",
              " 'dolly-parton.txt',\n",
              " 'bruno-mars.txt',\n",
              " 'bob-dylan.txt',\n",
              " 'al-green.txt',\n",
              " 'joni-mitchell.txt',\n",
              " 'michael-jackson.txt',\n",
              " 'notorious-big.txt',\n",
              " 'eminem.txt',\n",
              " 'alicia-keys.txt',\n",
              " 'cake.txt',\n",
              " 'bob-marley.txt',\n",
              " 'dickinson.txt',\n",
              " 'nickelback.txt',\n",
              " 'beatles.txt',\n",
              " 'dj-khaled.txt',\n",
              " 'missy-elliott.txt',\n",
              " 'notorious_big.txt',\n",
              " 'kanye-west.txt',\n",
              " 'disney.txt',\n",
              " 'bjork.txt',\n",
              " 'lin-manuel-miranda.txt',\n",
              " 'Kanye_West.txt',\n",
              " 'bruce-springsteen.txt',\n",
              " 'nursery_rhymes.txt',\n",
              " 'drake.txt',\n",
              " 'paul-simon.txt',\n",
              " 'lady-gaga.txt',\n",
              " 'johnny-cash.txt']"
            ]
          },
          "metadata": {},
          "execution_count": 3
        }
      ]
    },
    {
      "cell_type": "code",
      "metadata": {
        "id": "Gb39v3PaZmRH",
        "colab": {
          "base_uri": "https://localhost:8080/",
          "height": 261
        },
        "outputId": "db10c0ad-7fea-4220-edc9-a74a13930ea1"
      },
      "source": [
        "# Armar el dataset utilizando salto de línea para separar las oraciones/docs\n",
        "df = pd.read_csv('songs_dataset/lady-gaga.txt', sep='/n', header=None)\n",
        "df.head()"
      ],
      "execution_count": 6,
      "outputs": [
        {
          "output_type": "stream",
          "name": "stderr",
          "text": [
            "/usr/local/lib/python3.7/dist-packages/pandas/util/_decorators.py:311: ParserWarning: Falling back to the 'python' engine because the 'c' engine does not support regex separators (separators > 1 char and different from '\\s+' are interpreted as regex); you can avoid this warning by specifying engine='python'.\n",
            "  return func(*args, **kwargs)\n"
          ]
        },
        {
          "output_type": "execute_result",
          "data": {
            "text/plain": [
              "                                       0\n",
              "0  I'll undress you, 'cause you're tired\n",
              "1                Cover you as you desire\n",
              "2    When you fall asleep inside my arms\n",
              "3          May not have the fancy things\n",
              "4           But I'll give you everything"
            ],
            "text/html": [
              "\n",
              "  <div id=\"df-4857f724-343e-4f52-be09-012d44c2eefd\">\n",
              "    <div class=\"colab-df-container\">\n",
              "      <div>\n",
              "<style scoped>\n",
              "    .dataframe tbody tr th:only-of-type {\n",
              "        vertical-align: middle;\n",
              "    }\n",
              "\n",
              "    .dataframe tbody tr th {\n",
              "        vertical-align: top;\n",
              "    }\n",
              "\n",
              "    .dataframe thead th {\n",
              "        text-align: right;\n",
              "    }\n",
              "</style>\n",
              "<table border=\"1\" class=\"dataframe\">\n",
              "  <thead>\n",
              "    <tr style=\"text-align: right;\">\n",
              "      <th></th>\n",
              "      <th>0</th>\n",
              "    </tr>\n",
              "  </thead>\n",
              "  <tbody>\n",
              "    <tr>\n",
              "      <th>0</th>\n",
              "      <td>I'll undress you, 'cause you're tired</td>\n",
              "    </tr>\n",
              "    <tr>\n",
              "      <th>1</th>\n",
              "      <td>Cover you as you desire</td>\n",
              "    </tr>\n",
              "    <tr>\n",
              "      <th>2</th>\n",
              "      <td>When you fall asleep inside my arms</td>\n",
              "    </tr>\n",
              "    <tr>\n",
              "      <th>3</th>\n",
              "      <td>May not have the fancy things</td>\n",
              "    </tr>\n",
              "    <tr>\n",
              "      <th>4</th>\n",
              "      <td>But I'll give you everything</td>\n",
              "    </tr>\n",
              "  </tbody>\n",
              "</table>\n",
              "</div>\n",
              "      <button class=\"colab-df-convert\" onclick=\"convertToInteractive('df-4857f724-343e-4f52-be09-012d44c2eefd')\"\n",
              "              title=\"Convert this dataframe to an interactive table.\"\n",
              "              style=\"display:none;\">\n",
              "        \n",
              "  <svg xmlns=\"http://www.w3.org/2000/svg\" height=\"24px\"viewBox=\"0 0 24 24\"\n",
              "       width=\"24px\">\n",
              "    <path d=\"M0 0h24v24H0V0z\" fill=\"none\"/>\n",
              "    <path d=\"M18.56 5.44l.94 2.06.94-2.06 2.06-.94-2.06-.94-.94-2.06-.94 2.06-2.06.94zm-11 1L8.5 8.5l.94-2.06 2.06-.94-2.06-.94L8.5 2.5l-.94 2.06-2.06.94zm10 10l.94 2.06.94-2.06 2.06-.94-2.06-.94-.94-2.06-.94 2.06-2.06.94z\"/><path d=\"M17.41 7.96l-1.37-1.37c-.4-.4-.92-.59-1.43-.59-.52 0-1.04.2-1.43.59L10.3 9.45l-7.72 7.72c-.78.78-.78 2.05 0 2.83L4 21.41c.39.39.9.59 1.41.59.51 0 1.02-.2 1.41-.59l7.78-7.78 2.81-2.81c.8-.78.8-2.07 0-2.86zM5.41 20L4 18.59l7.72-7.72 1.47 1.35L5.41 20z\"/>\n",
              "  </svg>\n",
              "      </button>\n",
              "      \n",
              "  <style>\n",
              "    .colab-df-container {\n",
              "      display:flex;\n",
              "      flex-wrap:wrap;\n",
              "      gap: 12px;\n",
              "    }\n",
              "\n",
              "    .colab-df-convert {\n",
              "      background-color: #E8F0FE;\n",
              "      border: none;\n",
              "      border-radius: 50%;\n",
              "      cursor: pointer;\n",
              "      display: none;\n",
              "      fill: #1967D2;\n",
              "      height: 32px;\n",
              "      padding: 0 0 0 0;\n",
              "      width: 32px;\n",
              "    }\n",
              "\n",
              "    .colab-df-convert:hover {\n",
              "      background-color: #E2EBFA;\n",
              "      box-shadow: 0px 1px 2px rgba(60, 64, 67, 0.3), 0px 1px 3px 1px rgba(60, 64, 67, 0.15);\n",
              "      fill: #174EA6;\n",
              "    }\n",
              "\n",
              "    [theme=dark] .colab-df-convert {\n",
              "      background-color: #3B4455;\n",
              "      fill: #D2E3FC;\n",
              "    }\n",
              "\n",
              "    [theme=dark] .colab-df-convert:hover {\n",
              "      background-color: #434B5C;\n",
              "      box-shadow: 0px 1px 3px 1px rgba(0, 0, 0, 0.15);\n",
              "      filter: drop-shadow(0px 1px 2px rgba(0, 0, 0, 0.3));\n",
              "      fill: #FFFFFF;\n",
              "    }\n",
              "  </style>\n",
              "\n",
              "      <script>\n",
              "        const buttonEl =\n",
              "          document.querySelector('#df-4857f724-343e-4f52-be09-012d44c2eefd button.colab-df-convert');\n",
              "        buttonEl.style.display =\n",
              "          google.colab.kernel.accessAllowed ? 'block' : 'none';\n",
              "\n",
              "        async function convertToInteractive(key) {\n",
              "          const element = document.querySelector('#df-4857f724-343e-4f52-be09-012d44c2eefd');\n",
              "          const dataTable =\n",
              "            await google.colab.kernel.invokeFunction('convertToInteractive',\n",
              "                                                     [key], {});\n",
              "          if (!dataTable) return;\n",
              "\n",
              "          const docLinkHtml = 'Like what you see? Visit the ' +\n",
              "            '<a target=\"_blank\" href=https://colab.research.google.com/notebooks/data_table.ipynb>data table notebook</a>'\n",
              "            + ' to learn more about interactive tables.';\n",
              "          element.innerHTML = '';\n",
              "          dataTable['output_type'] = 'display_data';\n",
              "          await google.colab.output.renderOutput(dataTable, element);\n",
              "          const docLink = document.createElement('div');\n",
              "          docLink.innerHTML = docLinkHtml;\n",
              "          element.appendChild(docLink);\n",
              "        }\n",
              "      </script>\n",
              "    </div>\n",
              "  </div>\n",
              "  "
            ]
          },
          "metadata": {},
          "execution_count": 6
        }
      ]
    },
    {
      "cell_type": "code",
      "metadata": {
        "id": "riT898QlZnmF",
        "colab": {
          "base_uri": "https://localhost:8080/"
        },
        "outputId": "85b028df-e006-4efc-b6fb-c9fc3b1dd37d"
      },
      "source": [
        "print(\"Cantidad de documentos:\", df.shape[0])"
      ],
      "execution_count": 5,
      "outputs": [
        {
          "output_type": "stream",
          "name": "stdout",
          "text": [
            "Cantidad de documentos: 1846\n"
          ]
        }
      ]
    },
    {
      "cell_type": "markdown",
      "metadata": {
        "id": "RDoouHp7Zp6D"
      },
      "source": [
        "### 1 - Ejemplo de Preprocesamiento\n",
        "- Hay que transformar las oraciones en tokens.\n",
        "- Dichas oraciones hay que ajustarlas al tamaño fijo de nuestra sentencia de entrada al modelo.\n",
        "- Hay que separar las palabras objetivos (target) que el modelo debe predecir en cada sentencia armada."
      ]
    },
    {
      "cell_type": "code",
      "metadata": {
        "id": "m5FeTaGvbDbw"
      },
      "source": [
        "from keras.preprocessing.text import Tokenizer # equivalente a ltokenizer de nltk\n",
        "from keras.preprocessing.text import text_to_word_sequence # equivalente a word_teokenize de nltk\n",
        "from keras.preprocessing.sequence import pad_sequences # se utilizará para padding\n",
        "\n",
        "# largo de la secuencia, incluye seq input + word output\n",
        "train_len = 4"
      ],
      "execution_count": 7,
      "outputs": []
    },
    {
      "cell_type": "code",
      "metadata": {
        "id": "Zf3O7eK6ZpP8",
        "colab": {
          "base_uri": "https://localhost:8080/",
          "height": 36
        },
        "outputId": "864b50a3-2347-45a0-f727-9c468348300e"
      },
      "source": [
        "# Ejemplo de como transformar una oración a tokens usando keras\n",
        "text = df.loc[0,0]\n",
        "text"
      ],
      "execution_count": 8,
      "outputs": [
        {
          "output_type": "execute_result",
          "data": {
            "text/plain": [
              "\"I'll undress you, 'cause you're tired\""
            ],
            "application/vnd.google.colaboratory.intrinsic+json": {
              "type": "string"
            }
          },
          "metadata": {},
          "execution_count": 8
        }
      ]
    },
    {
      "cell_type": "code",
      "metadata": {
        "id": "AOv67Sj7aeFH",
        "colab": {
          "base_uri": "https://localhost:8080/"
        },
        "outputId": "7ca7bcaf-030c-403c-e315-3480f2ee42d5"
      },
      "source": [
        "tokens = text_to_word_sequence(text) # entran oraciones -> salen vectores de N posiciones (tokens)\n",
        "tokens"
      ],
      "execution_count": 9,
      "outputs": [
        {
          "output_type": "execute_result",
          "data": {
            "text/plain": [
              "[\"i'll\", 'undress', 'you', \"'cause\", \"you're\", 'tired']"
            ]
          },
          "metadata": {},
          "execution_count": 9
        }
      ]
    },
    {
      "cell_type": "markdown",
      "metadata": {
        "id": "ZrlyqkoiaymK"
      },
      "source": [
        "1.1 - Transformar las oraciones en secuencias (tokens) de palabras"
      ]
    },
    {
      "cell_type": "code",
      "metadata": {
        "id": "XH_L14Wjaowe"
      },
      "source": [
        "# Recorrer todas las filas y transformar las oraciones\n",
        "# en secuencias de palabras\n",
        "sentence_tokens = []\n",
        "for _, row in df[:None].iterrows():\n",
        "    sentence_tokens.append(text_to_word_sequence(row[0]))"
      ],
      "execution_count": 10,
      "outputs": []
    },
    {
      "cell_type": "code",
      "metadata": {
        "id": "KASzU4CdaxbZ",
        "colab": {
          "base_uri": "https://localhost:8080/"
        },
        "outputId": "73777bab-fdde-4331-a645-b09a30860b5c"
      },
      "source": [
        "# Demos un vistazo\n",
        "sentence_tokens[:2]"
      ],
      "execution_count": 11,
      "outputs": [
        {
          "output_type": "execute_result",
          "data": {
            "text/plain": [
              "[[\"i'll\", 'undress', 'you', \"'cause\", \"you're\", 'tired'],\n",
              " ['cover', 'you', 'as', 'you', 'desire']]"
            ]
          },
          "metadata": {},
          "execution_count": 11
        }
      ]
    },
    {
      "cell_type": "code",
      "metadata": {
        "id": "A659lswTbIIB"
      },
      "source": [
        "# Código para hacer el desfazaje de las palabras\n",
        "# según el train_len\n",
        "text_sequences = []\n",
        "\n",
        "for i in range(train_len, len(tokens)):\n",
        "  seq = tokens[i-train_len:i]\n",
        "  text_sequences.append(seq)"
      ],
      "execution_count": 12,
      "outputs": []
    },
    {
      "cell_type": "code",
      "metadata": {
        "id": "01JEoPPnbgRF",
        "colab": {
          "base_uri": "https://localhost:8080/"
        },
        "outputId": "f26df797-cebf-4043-85fa-9ae174c3757c"
      },
      "source": [
        "# Demos un vistazo a nuestros vectores para entrenar el modelo\n",
        "text_sequences "
      ],
      "execution_count": 13,
      "outputs": [
        {
          "output_type": "execute_result",
          "data": {
            "text/plain": [
              "[[\"i'll\", 'undress', 'you', \"'cause\"], ['undress', 'you', \"'cause\", \"you're\"]]"
            ]
          },
          "metadata": {},
          "execution_count": 13
        }
      ]
    },
    {
      "cell_type": "markdown",
      "metadata": {
        "id": "4B0gHnKVa4W_"
      },
      "source": [
        "1.2 - Crear los vectores de palabras (word2vec)\n",
        "\n",
        "Ahora necesitamos pasarlos a números para que lo entienda la red y separar input de output.\n",
        "- El Input seran integers (word2vec)\n",
        "- Mientras que el output será one hot encodeado (labels) del tamaño del vocabulario"
      ]
    },
    {
      "cell_type": "code",
      "metadata": {
        "id": "fkPNvXeQcS0U"
      },
      "source": [
        "tok = Tokenizer() \n",
        "\n",
        "# El tokeinzer \"aprende\" las palabras que se usaran\n",
        "# Se construye (fit) una vez por proyecto, se aplica N veces (tal cual un encoder)\n",
        "tok.fit_on_texts(text_sequences) \n",
        "\n",
        "# Convertimos las palabras a números\n",
        "# entran palabras -> salen números\n",
        "sequences = tok.texts_to_sequences(text_sequences)"
      ],
      "execution_count": 14,
      "outputs": []
    },
    {
      "cell_type": "code",
      "metadata": {
        "id": "4SIc44IocyQb",
        "colab": {
          "base_uri": "https://localhost:8080/"
        },
        "outputId": "0b55a426-5a92-44be-b262-928662ad48fe"
      },
      "source": [
        "# Ahora sequences tiene los números \"ID\", largo 4\n",
        "sequences"
      ],
      "execution_count": 15,
      "outputs": [
        {
          "output_type": "execute_result",
          "data": {
            "text/plain": [
              "[[4, 1, 2, 3], [1, 2, 3, 5]]"
            ]
          },
          "metadata": {},
          "execution_count": 15
        }
      ]
    },
    {
      "cell_type": "code",
      "metadata": {
        "id": "3ro81yCQc1oX",
        "colab": {
          "base_uri": "https://localhost:8080/"
        },
        "outputId": "1b59f3ea-d3e0-4eac-d440-c260030cefe2"
      },
      "source": [
        "# Cantidad de casos (doc) de entrada\n",
        "print(tok.document_count)"
      ],
      "execution_count": 16,
      "outputs": [
        {
          "output_type": "stream",
          "name": "stdout",
          "text": [
            "2\n"
          ]
        }
      ]
    },
    {
      "cell_type": "code",
      "metadata": {
        "id": "nzAWNfroc4u1",
        "colab": {
          "base_uri": "https://localhost:8080/"
        },
        "outputId": "e07325f0-b52d-43e5-ca30-420d01c54d41"
      },
      "source": [
        "# Cantidad de veces que aparece cada palabra\n",
        "print(len(tok.word_counts))"
      ],
      "execution_count": 17,
      "outputs": [
        {
          "output_type": "stream",
          "name": "stdout",
          "text": [
            "5\n"
          ]
        }
      ]
    },
    {
      "cell_type": "code",
      "metadata": {
        "id": "spTBxmFQc6h8",
        "colab": {
          "base_uri": "https://localhost:8080/"
        },
        "outputId": "ef298e1d-a9fd-46ef-f7dc-ba5eaba226a7"
      },
      "source": [
        "# El índice para cada palabra\n",
        "# El sistema las ordena de las más populares a las menos populares\n",
        "print(tok.word_index)"
      ],
      "execution_count": 18,
      "outputs": [
        {
          "output_type": "stream",
          "name": "stdout",
          "text": [
            "{'undress': 1, 'you': 2, \"'cause\": 3, \"i'll\": 4, \"you're\": 5}\n"
          ]
        }
      ]
    },
    {
      "cell_type": "code",
      "metadata": {
        "id": "nUDkjy80c77h",
        "colab": {
          "base_uri": "https://localhost:8080/"
        },
        "outputId": "52b761da-0287-47d2-925a-7c2d953081c7"
      },
      "source": [
        "# Cantidad de veces quea aparece cada palabra en cada \"documento\"\n",
        "# (1 documento = 1 caso de entrada)\n",
        "print(tok.word_docs)"
      ],
      "execution_count": 19,
      "outputs": [
        {
          "output_type": "stream",
          "name": "stdout",
          "text": [
            "defaultdict(<class 'int'>, {\"'cause\": 2, \"i'll\": 1, 'you': 2, 'undress': 2, \"you're\": 1})\n"
          ]
        }
      ]
    },
    {
      "cell_type": "markdown",
      "metadata": {
        "id": "ohS5Tao1d2KB"
      },
      "source": [
        "### 2 - Preprocesamiento completo\n",
        "Debemos realizar los mismos pasos que en el ejemplo anterior, pero antes de eso debemos transformar ese dataset de filas de oraciones en un texto completo continuo para poder extraer el vocabulario."
      ]
    },
    {
      "cell_type": "code",
      "metadata": {
        "id": "63Z2-Se2t27r",
        "colab": {
          "base_uri": "https://localhost:8080/"
        },
        "outputId": "496d9ca4-c055-4765-b796-4b2e60e9ba8a"
      },
      "source": [
        "# Vistazo a las primeras filas\n",
        "df.loc[:15,0]"
      ],
      "execution_count": 20,
      "outputs": [
        {
          "output_type": "execute_result",
          "data": {
            "text/plain": [
              "0                 I'll undress you, 'cause you're tired\n",
              "1                               Cover you as you desire\n",
              "2                   When you fall asleep inside my arms\n",
              "3                         May not have the fancy things\n",
              "4                          But I'll give you everything\n",
              "5     You could ever want, it's in my arms So baby t...\n",
              "6                        And I will give you everything\n",
              "7                                   So baby tell me yes\n",
              "8                       And I will be all yours tonight\n",
              "9                                   So baby tell me yes\n",
              "10                       And I will give you everything\n",
              "11    I will be right by your side If I can't find t...\n",
              "12                            I'll fix you with my love\n",
              "13                        No matter what you know, I'll\n",
              "14                            I'll fix you with my love\n",
              "15                           And if you say you're okay\n",
              "Name: 0, dtype: object"
            ]
          },
          "metadata": {},
          "execution_count": 20
        }
      ]
    },
    {
      "cell_type": "code",
      "metadata": {
        "id": "kILsSoxTuHEr",
        "colab": {
          "base_uri": "https://localhost:8080/",
          "height": 123
        },
        "outputId": "42cff338-2329-4e17-d80c-880f7a80c2d6"
      },
      "source": [
        "# Concatenamos todos los rows en un solo valor\n",
        "corpus = df.apply(lambda row: ' '.join(row.values.astype(str)), axis=0)[0]\n",
        "corpus"
      ],
      "execution_count": 21,
      "outputs": [
        {
          "output_type": "execute_result",
          "data": {
            "text/plain": [
              "'I\\'ll undress you, \\'cause you\\'re tired Cover you as you desire When you fall asleep inside my arms May not have the fancy things But I\\'ll give you everything You could ever want, it\\'s in my arms So baby tell me yes And I will give you everything So baby tell me yes And I will be all yours tonight So baby tell me yes And I will give you everything I will be right by your side If I can\\'t find the cure, I\\'ll I\\'ll fix you with my love No matter what you know, I\\'ll I\\'ll fix you with my love And if you say you\\'re okay I\\'m gonna heal you anyway Promise I\\'ll always be there Promise I\\'ll be the cure (be the cure) Rub your feet, your hands, your legs Let me take care of it, babe Close your eyes, I\\'ll sing your favorite song I wrote you this lullaby Hush now baby, don\\'t you cry Anything you want could not be wrong So baby tell me yes And I will give you everything So baby tell me yes And I will be all yours tonight So baby tell me yes And I will give you everything I will be right by your side If I can\\'t find the cure, I\\'ll I\\'ll fix you with my love No matter what you know, I\\'ll I\\'ll fix you with my love And if you say you\\'re okay I\\'m gonna heal you anyway Promise I\\'ll always be there Promise I\\'ll be the cure (be the cure) I\\'ll fix you with my love (I\\'ll fix you with my love-lo-love) I\\'ll fix you with my love (I\\'ll fix you with my love-lo-love) If I can\\'t find the cure, I\\'ll I\\'ll fix you with my love No matter what you know, I\\'ll I\\'ll fix you with my love And if you say you\\'re okay I\\'m gonna heal you anyway Promise I\\'ll always be there Promise I\\'ll be the cure (be the cure) Promise I\\'ll be the cure (be the cure) I\\'ll fix you with my love You\\'re giving me a million reasons to let you go You\\'re giving me a million reasons to quit the show You\\'re givin\\' me a million reasons Give me a million reasons Givin\\' me a million reasons About a million reasons If I had a highway, I would run for the hills If you could find a dry way, I\\'d forever be still But you\\'re giving me a million reasons Give me a million reasons Givin\\' me a million reasons About a million reasons I bow down to pray I try to make the worst seem better Lord, show me the way To cut through all his worn out leather I\\'ve got a hundred million reasons to walk away But baby, I just need one good one to stay Head stuck in a cycle, I look off and I stare It\\'s like that I\\'ve stopped breathing, but completely aware \\'Cause you\\'re giving me a million reasons Give me a million reasons Givin\\' me a million reasons About a million reasons And if you say something that you might even mean It\\'s hard to even fathom which parts I should believe \\'Cause you\\'re giving me a million reasons Give me a million reasons Givin\\' me a million reasons About a million reasons I bow down to pray I try to make the worst seem better Lord, show me the way To cut through all his worn out leather I\\'ve got a hundred million reasons to walk away But baby, I just need one good one to stay Baby I\\'m bleedin\\', bleedin\\' Stay Can\\'t you give me what I\\'m needin\\', needin\\' Every heartbreak makes it hard to keep the faith But baby, I just need one good one Good one, good one, good one, good one, good one When I bow down to pray I try to make the worst seem better Lord, show me the way To cut through all his worn out leather I\\'ve got a hundred million reasons to walk away But baby, I just need one good one, good one Tell me that you\\'ll be the good one, good one Baby, I just need one good one to stay You\\'re giving me a million reasons to let you go You\\'re giving me a million reasons to quit the show You\\'re givin\\' me a million reasons Give me a million reasons Givin\\' me a million reasons About a million reasons If I had a highway, I would run for the hills If you could find a dry way, I\\'d forever be still But you\\'re giving me a million reasons Give me a million reasons Givin\\' me a million reasons About a million reasons I bow down to pray I try to make the worst seem better Lord, show me the way To cut through all his worn out leather I\\'ve got a hundred million reasons to walk away But baby, I just need one good one to stay Head stuck in a cycle, I look off and I stare It\\'s like that I\\'ve stopped breathing, but completely aware \\'Cause you\\'re giving me a million reasons Give me a million reasons Givin\\' me a million reasons About a million reasons And if you say something that you might even mean It\\'s hard to even fathom which parts I should believe \\'Cause you\\'re giving me a million reasons Give me a million reasons Givin\\' me a million reasons About a million reasons I bow down to pray I try to make the worst seem better Lord, show me the way To cut through all his worn out leather I\\'ve got a hundred million reasons to walk away But baby, I just need one good one to stay Baby I\\'m bleedin\\', bleedin\\' Stay Can\\'t you give me what I\\'m needin\\', needin\\' Every heartbreak makes it hard to keep the faith But baby, I just need one good one Good one, good one, good one, good one, good one When I bow down to pray I try to make the worst seem better Lord, show me the way To cut through all his worn out leather I\\'ve got a hundred million reasons to walk away But baby, I just need one good one, good one Tell me that you\\'ll be the good one, good one Baby, I just need one good one to stay Oh-oh-oh-oh-oh! Oh-oh-oh-oh-oh-oh! Caught in a bad romance Oh-oh-oh-oh-oh! Oh-oh-oh-oh-oh-oh! Caught in a bad romance Rah rah ah-ah-ah! Ro mah ro-mah-mah Gaga oh-la-la! Want your bad romance Rah rah ah-ah-ah! Ro mah ro-mah-mah Gaga ooh-la-la! Want your bad romance I want your ugly I want your disease I want your everything As long as it\\'s free I want your love Love-love-love I want your love I want your drama The touch of your hand I want your leather studded kiss in the sand I want your love Love-love-love, I want your love (Love-love-love, I want your love) You know that I want you And you know that I need you I want it bad Your bad romance I want your love and I want your revenge You and me could write a bad romance (Oh-oh-oh-oh-oooh!) I want your love and All your lovers revenge You and me could write a bad romance Oh-oh-oh-oh-oh! Oh-oh-oh-oh-oh-oh! Caught in a bad romance Oh-oh-oh-oh-ooh! Oh-oh-ooh-oh-oh-oh! Caught in a bad romance Rah rah ah-ah-ah! Ro mah ro-mah-mah Gaga ooh-la-la! Want your bad romance I want your horror I want your design \\'Cause you\\'re a criminal As long as your mine I want your love Love-love-love I want your love I want your psycho, your vertigo shtick Want you in my rear window Baby you\\'re sick, I want your love Love-love-love, I want your love (Love-love-love, I want your love) You know that I want you And you know that I need you I want it bad, bad romance I want your love and I want your revenge You and me could write a bad romance (Oh-oh-oh-oh-ooh!) I want your love and All your lovers revenge You and me could write a bad romance Oh-oh-oh-oh-ooh! Oh-oh-ooh-oh-oh-oh! Caught in a bad romance Oh-oh-oh-oh-ooh! Oh-oh-ooh-oh-oh-oh! Caught in a bad romance Rah rah ah-ah-ah! Ro mah ro-mah-mah Gaga ooh-la-la! Want your bad romance Rah rah ah-ah-ah! Ro mah ro-mah-mah Gaga oh-la-la! Want your bad romance Walk, walk fashion baby, work it move that bitch crazy Walk-walk fashion baby, work it move that bitch crazy Walk-walk fashion baby, work it move that bitch crazy Walk-walk passion baby, work it I\\'m a free bitch baby I want your love And I want your revenge I want your love I don\\'t wanna be friends (J\\'veux ton amour et je veux ta revanche j\\'veux ton amour) I don\\'t wanna be friends, I don\\'t wanna be friends I don\\'t wanna be friends, I don\\'t wanna be friends Want your bad romance (caught in a bad romance) want your bad romance I want your love and I want your revenge You and me could write a bad romance (Oh-oh-oh-oh-ooh!) I want your love and All your lovers revenge You and me could write a bad romance Oh-oh-oh-oh-ooh! Want your bad romance Caught in a bad romance Want your bad romance Oh-oh-oh-oh-ooh! Want your bad romance Caught in a bad romance Rah rah ah-ah-ah! Ro mah ro-mah-mah Gaga ooh-la-la! Want your bad romance It doesn\\'t matter if you love him or capital H-I-M Just put your paws up \\'Cause you were born this way, baby My mama told me when I was young We are all born superstars She rolled my hair and put my lipstick on In the glass of her boudoir There\\'s nothin\\' wrong with lovin\\' who you are She said, \\'cause He made you perfect, babe So hold your head up, girl and you\\'ll go far Listen to me when I say I\\'m beautiful in my way \\'Cause God makes no mistakes I\\'m on the right track, baby I was born this way Don\\'t hide yourself in regret Just love yourself and you\\'re set I\\'m on the right track, baby I was born this way, born this way Ooh, there ain\\'t no other way, baby, I was born this way Baby, I was born this way Ooh, there ain\\'t no other way, baby, I was born this way I\\'m on the right track, baby, I was born this way Don\\'t be a drag, just be a queen Don\\'t be a drag, just be a queen Don\\'t be a drag, just be a queen Don\\'t be Give yourself prudence and love your friends Subway kid, rejoice of truth In the religion of the insecure I must be myself, respect my youth A different lover is not a sin Believe capital H-I-M I love my life, I love this record and Mi amore vole fe yah I\\'m beautiful in my way, \\'Cause God makes no mistakes I\\'m on the right track, baby I was born this way Don\\'t hide yourself in regret, Just love yourself and you\\'re set I\\'m on the right track, baby I was born this way Ooh, there ain\\'t no other way, baby, I was born this way Baby, I was born this way Ooh, there ain\\'t no other way, baby, I was born this way I\\'m on the right track, baby, I was born this way Don\\'t be drag, just be a queen Whether you\\'re broke or evergreen You\\'re black, white, beige, chola descent You\\'re Lebanese, you\\'re orient Whether life\\'s disabilities Left you outcast, bullied or teased Rejoice and love yourself today \\'Cause baby, you were born this way No matter gay, straight or bi Lesbian, transgendered life I\\'m on the right track, baby I was born to survive No matter black, white or beige Chola or orient made I\\'m on the right track, baby I was born to be brave I\\'m beautiful in my way \\'Cause God makes no mistakes I\\'m on the right track, baby I was born this way Don\\'t hide yourself in regret, Just love yourself and you\\'re set I\\'m on the right track, baby I was born this way, yeah Ooh, there ain\\'t no other way, baby, I was born this way Baby, I was born this way Ooh, there ain\\'t no other way, baby, I was born this way I\\'m on the right track, baby, I was born this way I was born this way, hey I was born this way, hey I\\'m on the right track, baby, I was born this way, hey I was born this way, hey I was born this way, hey I\\'m on the right track, baby, I was born this way, hey Hello, hello, baby You called, I can\\'t hear a thing I have got no service In the club, you see, see Wha-wha-what did you say? Oh, you\\'re breaking up on me Sorry, I cannot hear you I\\'m kinda busy K-kinda busy K-kinda busy Sorry, I cannot hear you I\\'m kinda busy Just a second It\\'s my favorite song they\\'re gonna play And I cannot text you with A drink in my hand, eh You shoulda made some plans with me You knew that I was free And now you won\\'t stop calling me I\\'m kinda busy Stop callin\\', stop callin\\' I don\\'t wanna think any more I left my head and heart on the dance floor Stop callin\\', stop callin\\' I don\\'t wanna talk anymore It\\'s got my head and my heart on the dance floor Eh, eh, eh, eh, eh, eh, eh, eh, eh, eh Stop telephonin\\' me Eh, eh, eh, eh, eh, eh, eh, eh, eh I\\'m busy, eh, eh, eh, eh, eh, eh, eh, eh Stop telephonin\\' me Eh, eh, eh, eh, eh, eh, eh Call all you want, but there\\'s no one home And you\\'re not gonna reach my telephone Out in the club, and I\\'m sippin\\' that bub And you\\'re not gonna reach my telephone Call all you want But there\\'s no one home And you\\'re not gonna reach my telephone Out in the club, and I\\'m sippin\\' that bub And you\\'re not gonna reach my telephone Boy, the way you blowin\\' up my phone Won\\'t make me leave no faster Put my coat on faster Leave my girls no faster I shoulda left my phone at home \\'Cause this is a disaster Callin\\' like a collector Sorry, I cannot answer Not that I don\\'t like you I\\'m just at a party And I am sick and tired Of my phone ringin\\' Sometimes I feel like I live in Grand Central Station Tonight I\\'m not takin\\' no calls \\'Cause I\\'ll be dancin\\' \\'Cause I\\'ll be dancin\\' \\'Cause I\\'ll be dancin\\' Tonight I\\'m not takin\\' no calls \\'Cause I\\'ll be dancin\\' Stop callin\\', stop callin\\' I don\\'t wanna think any more I left my head and my heart on the dance floor Stop callin\\', stop callin\\' I don\\'t wanna talk any more I left my head and my heart on the dance floor Stop callin\\', stop callin\\' I don\\'t wanna think any more I left my head and my heart on the dance floor Stop callin\\', stop callin\\' I don\\'t wanna talk any more I left my head and my heart on the dance floor Eh, eh, eh, eh, eh, eh, eh, eh, eh, eh Stop telephonin\\' me Eh, eh, eh, eh, eh, eh, eh, eh, eh I\\'m busy, eh, eh, eh, eh, eh, eh, eh Stop telephonin\\' me Eh, eh, eh, eh, eh, eh, eh Can call all you want But there\\'s no one home You\\'re not gonna reach my telephone \\'Cause I\\'m out in the club And I\\'m sippin\\' that bub, And you\\'re not gonna reach my telephone Call when you want But there\\'s no one home And you\\'re not gonna reach my telephone \\'Cause I\\'m out in the club And I\\'m sippin\\' that bub And you\\'re not gonna reach my telephone My telephone M-m-my telephone \\'Cause I\\'m out in the club And I\\'m sippin\\' that bub And you\\'re not gonna reach my telephone My telephone M-m-my telephone \\'Cause I\\'m out in the club And I\\'m sippin\\' that bub, And you\\'re not gonna reach my telephone We\\'re sorry the number you have reached is not in service at this time Please check the number, or try your call again It\\'s been a long time since I came around Been a long time but I\\'m back in town And this time I\\'m not leaving without you You taste like whiskey when you kiss me oh I\\'d give anything again to be your baby doll This time I\\'m not leaving without you You say sit back down where you belong In the corner of my bar with your high heels on Sit back down on the couch where we made love the first time And you said to me there\\'s (Something), something, something about this place (Something), something about lonely nights And my lipstick on your face (Something), something, something about my cool Nebraska guy Yeah something about baby you and I It\\'s been two years since I let you go I couldn\\'t listen to a joke or Rock and Roll Muscle cars drove a truck right through my heart On my birthday you sang me a heart of gold With a guitar humming and no clothes This time I\\'m not leaving without you Sit back down where you belong In the corner of my bar with your high heels on Sit back down on the couch where we made love the first time And you said to me there\\'s (Something), something, something about this place (Something), something about lonely nights And my lipstick on your face (Something), something, something about my cool Nebraska guy Yeah something about baby you and I You and I You you and I You you and I You you and I You and I You you and I Oh yeah, we\\'re gonna die Without you and I We got a whole lot of money, but we still pay rent \\'Cause you can\\'t buy a house in heaven There\\'s only three men that I am a certain my whole life It\\'s my daddy and Nebraska and Jesus Christ (Something), something, something about the chase (six whole years) I am a New York woman born to rock you down So want my lipstick all over your face (Something), something, something about just knowing when it\\'s right So put your dreams up for Nebraska For Nebraska, Nebraska, I love you You and I You you and I Baby I\\'d rather die Without you and I You and I You you and I Nebraska I\\'d rather die Without you and I It\\'s been a long time since I came around Been a long time but I\\'m back in town And this time I\\'m not leaving without you We are the crowd We\\'re c-coming out Got my flash on it\\'s true Need that picture of you It\\'s so magical We\\'d be so fantastical Leather and jeans We\\'re rock glamorous Not sure what it means But this photo of us It don\\'t have a price Ready for those flashing lights Cause you know that baby I I\\'m your biggest fan I\\'ll follow you until you love me Papa-paparazzi Baby there\\'s no other superstar You know that I\\'ll be Your papa-paparazzi Promise I\\'ll be kind But I won\\'t stop until that boy is mine Baby you\\'ll be famous Chase you down until you love me Papa-paparazzi I\\'ll be a girl backstage at your show Velvet ropes and guitars Yeah \\'cause you\\'re my Rockstar in between the sets Eyeliner and cigarettes Shadow is burnt Yellow dance and we turn My lashes are dry Purple teardrops I cry it don\\'t have a price Loving you is cherry pie \\'Cause you know that baby I I\\'m your biggest fan I\\'ll follow you until you love me Papa-paparazzi Baby there\\'s no other superstar You know that I\\'ll be Your papa-paparazzi Promise I\\'ll be kind But I won\\'t stop until that boy is mine Baby you\\'ll be famous Chase you down until you love me Papa-paparazzi Real good (We\\'re dancing in the studio) Snap snap to (That shit on the radio) Don\\'t stop (For anyone) We\\'re plastic but we still have fun! I\\'m your biggest fan I\\'ll follow you until you love me Papa-paparazzi Baby there\\'s no other superstar You know that I\\'ll be Your papa-paparazzi Promise I\\'ll be kind But I won\\'t stop until that boy is mine Baby you\\'ll be famous Chase you down until you love me Papa-paparazzi I know that we are young, And I know that you may love me, But I just can\\'t be with you like this anymore, Alejandro She\\'s got both hands In her pocket And she won\\'t look at you Won\\'t look at you She hides true love En su bolsillo She got a halo around her finger Around you You know that I love you boy Hot like Mexico, rejoice At this point I gotta choose Nothing to lose Don\\'t call my name Don\\'t call my name, Alejandro I\\'m not your babe I\\'m not your babe, Fernando Don\\'t wanna kiss, don\\'t wanna touch Just smoke my cigarette and hush Don\\'t call my name Don\\'t call my name, Roberto Alejandro Alejandro Ale-ale-jandro Ale-ale-jandro Alejandro Alejandro Ale-ale-jandro Ale-ale-jandro Stop, please, Just let me go Alejandro, Just let me go She\\'s not broken She\\'s just a baby But her boyfriend\\'s like a dad, just like a dad And all those flames that burned before him Now he\\'s gonna fire fight, gotta cool the bad You know that I love you boy Hot like Mexico, rejoice At this point I\\'ve gotta choose Nothing to lose Don\\'t call my name Don\\'t call my name, Alejandro I\\'m not your babe I\\'m not your babe, Fernando Don\\'t wanna kiss, don\\'t wanna touch Just smoke my cigarette and hush Don\\'t call my name Don\\'t call my name, Roberto Alejandro Alejandro Ale-ale-jandro Ale-ale-jandro Alejandro Alejandro Ale-ale-jandro Ale-ale-jandro Don\\'t bother me, Don\\'t bother me, Alejandro Don\\'t call my name, Don\\'t call my name, bye, Fernando I\\'m not your babe, I\\'m not your babe, Alejandro Don\\'t wanna kiss, don\\'t wanna touch, Fernando Don\\'t call my name, Don\\'t call my name, Alejandro I\\'m not your babe, I\\'m not your babe, Fernando Don\\'t wanna kiss, don\\'t wanna touch Just smoke my cigarette and hush Don\\'t call my name, Don\\'t call my name, Roberto Alejandro Alejandro Ale-ale-jandro Ale-ale-jandro Alejandro Alejandro Ale-ale-jandro Ale-ale-jandro Don\\'t call my name, Don\\'t call my name, Alejandro I\\'m not your babe, I\\'m not your babe, Fernando Don\\'t wanna kiss, don\\'t wanna touch Just smoke my cigarette and hush Don\\'t call my name, Don\\'t call my name, Roberto Alejandro You\\'re giving me a million reasons to let you go You\\'re giving me a million reasons to quit the show You\\'re givin\\' me a million reasons Give me a million reasons Givin\\' me a million reasons About a million reasons If I had a highway, I would run for the hills If you could find a dry way, I\\'d forever be still But you\\'re giving me a million reasons Give me a million reasons Givin\\' me a million reasons About a million reasons I bow down to pray I try to make the worst seem better Lord, show me the way To cut through all his worn out leather I\\'ve got a hundred million reasons to walk away But baby, I just need one good one to stay Head stuck in a cycle, I look off and I stare It\\'s like that I\\'ve stopped breathing, but completely aware \\'Cause you\\'re giving me a million reasons Give me a million reasons Givin\\' me a million reasons About a million reasons And if you say something that you might even mean It\\'s hard to even fathom which parts I should believe \\'Cause you\\'re giving me a million reasons Give me a million reasons Givin\\' me a million reasons About a million reasons I bow down to pray I try to make the worst seem better Lord, show me the way To cut through all his worn out leather I\\'ve got a hundred million reasons to walk away But baby, I just need one good one to stay Baby I\\'m bleedin\\', bleedin\\' Stay Can\\'t you give me what I\\'m needin\\', needin\\' Every heartbreak makes it hard to keep the faith But baby, I just need one good one Good one, good one, good one, good one, good one When I bow down to pray I try to make the worst seem better Lord, show me the way To cut through all his worn out leather I\\'ve got a hundred million reasons to walk away But baby, I just need one good one, good one Tell me that you\\'ll be the good one, good one Baby, I just need one good one to stay There ain\\'t no reason you and me should be alone Tonight yeah baby, tonight yeah baby But I got a reason that you-hoo should take me home tonight I need a man that makes it right when it\\'s so wrong Tonight yeah baby, tonight yeah baby Right on the limit\\'s where we know we both belong tonight It\\'s time to feel the rush to push the dangerous I\\'m gonna run right to, to the edge with you Where we\\'ll both fall far in love I\\'m on the edge of glory and I\\'m hangin\\' on a moment of truth Out on the edge of glory and I\\'m hangin\\' on a moment with you I\\'m on the edge, the edge, the edge, The edge, the edge, the edge, the edge I\\'m on the edge of glory And I\\'m hangin\\' on a moment with you I\\'m on the edge with you Another shot before we kiss the other side Tonight yeah baby, tonight yeah baby I\\'m on the edge of something final we call life tonight alright, alright Put on your shades \\'cause I\\'ll be dancing in the flames Tonight yeah baby, tonight yeah baby It isn\\'t hell if everybody knows my name tonight alright, alright It\\'s time to feel the rush to push the dangerous I\\'m gonna run right to, to the edge with you Where we can both fall far in love I\\'m on the edge of glory and I\\'m hangin\\' on a moment of truth Out on the edge of glory and I\\'m hangin\\' on a moment with you I\\'m on the edge, the edge, the edge, The edge, the edge, the edge, the edge I\\'m on the edge of glory And I\\'m hangin\\' on a moment with you I\\'m on the edge with you I\\'m on the edge with you I\\'m on the edge with you I\\'m on the edge of glory and I\\'m hangin\\' on a moment of truth Out on the edge of glory and I\\'m hangin\\' on a moment with you I\\'m on the edge, the edge, the edge, The edge, the edge, the edge, the edge I\\'m on the edge of glory and I\\'m hangin\\' on a moment with you I\\'m on the edge with you I\\'m on the edge with you I\\'m on the edge with you I\\'m on the edge with you I wanna hold \\'em like they do in Texas plays Fold \\'em, let \\'em, hit me, raise it baby stay with me (I love it) Love Game intuition play the cards with spades to start And after he\\'s been hooked I\\'ll play the one that\\'s on his heart Oh, oh, oh, oh, oh, oh-oh-e-oh-oh-oh I\\'ll get him hot, show him what I\\'ve got Oh, oh, oh, oh, oh, oh-oh-e-oh-oh-oh, I\\'ll get him hot, show him what I\\'ve got Can\\'t read my, Can\\'t read my, No he can\\'t read my poker face (She\\'s got me like nobody) Can\\'t read my Can\\'t read my No he can\\'t read my poker face (She is gonna let nobody) P p p poker face, p p p poker face (Muh muh muh muh) P p p poker face, p p poker face (Muh muh muh muh) I wanna roll with him a hard pair we will be A little gambling is fun when you\\'re with me (I love it) Russian Roulette is not the same without a gun And baby when it\\'s love, if its not rough it isn\\'t fun, fun Oh, oh, oh, oh, oh, oh-oh-e-oh-oh-oh I\\'ll get him hot, show him what I\\'ve got Oh, oh, oh, oh, oh, oh-oh-e-oh-oh-oh, I\\'ll get him hot, show him what I\\'ve got Can\\'t read my, Can\\'t read my, No he can\\'t read my poker face (She\\'s got me like nobody) Can\\'t read my Can\\'t read my No he can\\'t read my poker face (She is gonna let nobody) P p p poker face, p p p poker face (Muh muh muh muh) P p p poker face, p p p poker face (Muh muh muh muh) I won\\'t tell you that I love you Kiss or hug you \\'Cause I\\'m bluffing with my muffin I\\'m not lying I\\'m just stunning with my love glue gunnin\\' Just like a chick in the casino Take your bank before I pay you out I promise this, promise this Check this hand cause I\\'m marvelous Can\\'t read my, Can\\'t read my, No he can\\'t read my poker face (She\\'s got me like nobody) Can\\'t read my Can\\'t read my No he can\\'t read my poker face (She is gonna let nobody) Can\\'t read my, Can\\'t read my, No he can\\'t read my poker face (She\\'s got me like nobody) Can\\'t read my Can\\'t read my No he can\\'t read my poker face (She is gonna let nobody) Can\\'t read my, Can\\'t read my, No he can\\'t read my poker face (She\\'s got me like nobody) Can\\'t read my Can\\'t read my No he can\\'t read my poker face (She is gonna let nobody) P p p poker face, p p p poker face (Muh muh muh muh) P p p poker face, p p p poker face (Muh muh muh muh) (She is gonna let nobody) P p p poker face, p p p poker face (Muh muh muh muh) P p p poker face, p p p poker face (Muh muh muh muh) P p p poker face, p p p poker face (Muh muh muh muh) P p p poker face, p p p poker face (Muh muh muh muh) Red One, Konvict, Gaga (oh, yeah) I\\'ve had a little bit too much, much oh oh woah! All of the people start to rush, start to rush by. How does she twist the dance Can\\'t find my drink, or man. Where are my keys, I lost my phone. What\\'s going on out on the floor? I love this record baby, but I can\\'t see straight anymore. Keep it cool, what\\'s the name of this club? I can\\'t remember but it\\'s alright, alright. Just dance, gonna be okay. Da da doo doo just dance spin that record babe. Da-da-doo-doo just dance, gonna be okay. Duh-duh-duh dance, dance, dance, just dance. Wish I could shut my playboy mouth. How\\'d I turn my shirt inside out? Inside out right. Control your poison babe Roses have thorns they say. And we\\'re all gettin\\' hosed tonight. What\\'s going on on the floor? I love this record baby, but I can\\'t see straight anymore. Keep it cool, what\\'s the name of this club? I can\\'t remember but it\\'s alright, alright. Just dance, gonna be okay. Da da doo doo just dance spin that record babe. Da-da-doo-doo just dance, gonna be okay. Duh-duh-duh dance, dance, dance, just dance. When I come through on the dance floor checkin\\' out that catalog. Can\\'t believe my eyes so many women without a flaw. And I ain\\'t gonna give it up, steady tryin\\' to pick it up like the car I\\'m a hit it, I\\'m a hit it and flex until the \\'till done until tomorrow yeah. Shawty I can see that you got so much energy, The way you twirling up them hips round and round There\\'s no reason, I know why you can\\'t leave here with me In the meantime stand, let me watch you break it down and dance Gonna be okayay da-da-doo-doo Just dance, spin that record babe. Da-da-doo-doo Just dance, gonna be okay. Da-da-doo-doo just dance, spin that record babe. Da-da-doo-doo just dance, gonna be okay. Duh-duh-duh dance, dance, dance, just dance Half psychotic sick-hypnotic Got my blueprint it\\'s symphonic Half psychotic sick-hypnotic Got my blueprint electronic Half psychotic sick-hypnotic Got my blueprint it\\'s symphonic Half psychotic sick-hypnotic Got my blueprint electronic Go, use your muscle carve it out work it, hustle (I got it, just stay close enough to get it) Don\\'t slow, drive it, clean it Lysol, bleed it Spend the last dough (I got it) on your pocko (I got it) Just dance, gonna be okayay. Da-da-doo-doo just dance, spin that record babe. Da-da-doo-doo just dance, gonna be okay. Da-da-doo-doo just dance, spin that record babe. Da-da-doo-doo just dance, gonna be okay. Duh-duh-duh dance, dance, dance, just dance. How, how, how, how, how I can\\'t believe what you said to me Last night when we were alone You threw your arms up Baby you gave up, you gave up I can\\'t believe how you looked at me With your James Dean glossy eyes In your tight jeans with your long hair And your cigarette stained lies Could we fix you if you broke? And is your punch line just a joke? I\\'ll never talk again Oh boy you\\'ve left me speechless You\\'ve left me speechless, so speechless And I\\'ll never love again Oh boy you\\'ve left me speechless You\\'ve left me speechless, so speechless I can\\'t believe how you slurred at me With your half wired broken jaw You popped my heart seams All my bubble dreams, bubble dreams I can\\'t believe how you looked at me With your Johnnie Walker eyes He\\'s gonna get you and after he\\'s through There\\'s gonna be no love left to rye And I know that it\\'s complicated But I\\'m a loser in love So baby raise a glass to mend All the broken hearts Of all my wrecked up friends I\\'ll never talk again Oh boy you\\'ve left me speechless You\\'ve left me speechless, so speechless I\\'ll never love again Oh friend you\\'ve left me speechless You\\'ve left me speechless, so speechless How? Ha-ooh-wow? H-ow? Wow Ha-ooh-wow? H-ow? Wow And after all the drinks and bars that we\\'ve been to Would you give it all up? Could I give it all up for you? And after all the boys and the girls that we\\'ve been through Would you give it all up? Could you give it all up? If I promised boy to you That I\\'ll never talk again And I\\'ll never love again I\\'ll never write a song Won\\'t even sing along I\\'ll never love again How, how, how so speechless You left me speechless, so speechless baby Will you ever talk again? Oh boy, why you so speechless? You\\'ve left me speechless, so speechless Some men may follow me But you choose \"death and company\" Why you so speechless? Oh oh oh I\\'ll undress you, \\'cause you\\'re tired Cover you as you desire When you fall asleep inside my arms May not have the fancy things But I\\'ll give you everything You could ever want, it\\'s in my arms So baby tell me yes And I will give you everything So baby tell me yes And I will be all yours tonight So baby tell me yes And I will give you everything I will be right by your side If I can\\'t find the cure, I\\'ll I\\'ll fix you with my love No matter what you know, I\\'ll I\\'ll fix you with my love And if you say you\\'re okay I\\'m gonna heal you anyway Promise I\\'ll always be there Promise I\\'ll be the cure (be the cure) Rub your feet, your hands, your legs Let me take care of it, babe Close your eyes, I\\'ll sing your favorite song I wrote you this lullaby Hush now baby, don\\'t you cry Anything you want could not be wrong So baby tell me yes And I will give you everything So baby tell me yes And I will be all yours tonight So baby tell me yes And I will give you everything I will be right by your side If I can\\'t find the cure, I\\'ll I\\'ll fix you with my love No matter what you know, I\\'ll I\\'ll fix you with my love And if you say you\\'re okay I\\'m gonna heal you anyway Promise I\\'ll always be there Promise I\\'ll be the cure (be the cure) I\\'ll fix you with my love (I\\'ll fix you with my love-lo-love) I\\'ll fix you with my love (I\\'ll fix you with my love-lo-love) If I can\\'t find the cure, I\\'ll I\\'ll fix you with my love No matter what you know, I\\'ll I\\'ll fix you with my love And if you say you\\'re okay I\\'m gonna heal you anyway Promise I\\'ll always be there Promise I\\'ll be the cure (be the cure) Promise I\\'ll be the cure (be the cure) I\\'ll fix you with my love Whoa whoa I\\'m in love with Juda-as, Juda-as Whoa whoa I\\'m in love with Juda-as, Juda-as Juda-as! Juda-ah-as! Judas! Juda-ah-as Juda-as! Juda-ah-as! Judas! Ga-ah ga-ah Juda-as! Juda-ah-as! Judas! Juda-ah-as Juda-as! Juda-ah-as! Judas! Ga-ah ga-ah When he calls to me, I am ready I\\'ll wash his feet with my hair if he needs Forgive him when his tongue lies through his brain Even after three times he betrays me Ah oh I\\'ll bring him down, bring him down, down Ah oh a king with no crown, king with no crown I\\'m just a holy fool, Oh baby it\\'s so cruel but I\\'m still in love with Judas baby I\\'m just a Holy Fool, oh baby it\\'s so cruel But I\\'m still in love with Judas baby Whoa whoa I\\'m in love with Juda-as, Juda-as Whoa whoa I\\'m in love with Juda-as, Juda-as Juda-as! Juda-ah-as! Judas! Juda-ah-as Juda-as! Juda-ah-as! Judas! Ga-ah ga-ah I couldn\\'t love a man so purely Even darkness forgave his goofy way I\\'ve learned love is like a brick you can Build a house or sink a dead body Ah oh I\\'ll bring him down, bring him down, down Ah oh a king with no crown, king with no crown I\\'m just a holy fool, oh baby it\\'s so cruel But I\\'m still in love with Judas, baby I\\'m just a holy fool, oh baby it\\'s so cruel But I\\'m still in love with Judas, baby Whoa whoa I\\'m in love with Juda-as, Juda-as Whoa whoa I\\'m in love with Juda-as, Juda-as In the most Biblical sense, I am beyond repentance Fame hooker, prostitute wench, vomits her mind But in the cultural sense I just speak in future tense Judas kiss me if offenced, Or wear an ear condom next time I wanna love you, but something\\'s pulling me away from you Jesus is my virtue and Judas is the demon I cling to I cling to Just a holy fool, oh baby he\\'s so cruel But I\\'m still in love with Judas, baby I\\'m just a holy fool, oh baby it\\'s so cruel But I\\'m still in love with Judas, baby Whoa whoa I\\'m in love with Juda-as, Juda-as Whoa whoa I\\'m in love with Juda-as, Juda-as Juda-as! Juda-ah-as! Judas! Juda-ah-as Juda-as! Juda-ah-as! Judas! Ga-ah ga-ah You tell me it gets better, it gets better in time You say I\\'ll pull myself together, pull it together You\\'ll be fine Tell me what the hell do you know What do you know Tell me how the hell could you know How could you know \\'Til it happens to you, you don\\'t know How it feels How it feels \\'Til it happens to you, you won\\'t know It won\\'t be real No it won\\'t be real Won\\'t know how it feels You tell me hold your head up Hold your head up and be strong \\'Cause when you fall, you gotta get up You gotta get up and move on Tell me, how the hell could you talk How could you talk? \\'Cause until you walk where I walk It\\'s just all talk \\'Til it happens to you, you don\\'t know How it feels How it feels \\'Til it happens to you, you won\\'t know It won\\'t be real (how could you know?) No it won\\'t be real (how could you know?) Won\\'t know how I feel \\'Til your world burns and crashes \\'Til you\\'re at the end, the end of your rope \\'Til you\\'re standing in my shoes, I don\\'t wanna hear nothing from you From you, from you, \\'cause you don\\'t know \\'Til it happens to you, you don\\'t know How I feel How I feel How I feel \\'Til it happens to you, you won\\'t know It won\\'t be real (how could you know?) No it won\\'t be real (how could you know?) Won\\'t know how it feels \\'Til it happens to you, happens to you Happens to you Happens to you, happens to you Happens to you (how could you know?) \\'Til it happens to you, you won\\'t know how I feel I stand here waiting for you to bang the gong To crash the critics saying, \"is it right or is it wrong?\" If only fame had an IV, baby could I bear Being away from you, I found the vein, put it in here I live for the applause, applause, applause I live for the applause-plause, live for the applause-plause Live for the way that you cheer and scream for me The applause, applause, applause Give me that thing that I love (Turn the lights on) Put your hands up, make \\'em touch, touch (Make it real loud) Give me that thing that I love (Turn the lights on) Put your hands up, make \\'em touch, touch (Make it real loud) (A-P-P-L-A-U-S-E) Make it real loud Put your hands up, make \\'em touch, touch (A-P-P-L-A-U-S-E) Make it real loud Put your hands up, make \\'em touch, touch I\\'ve overheard your theory \"Nostalgia\\'s for geeks\" I guess sir, if you say so Some of us just like to read One second I\\'m a kunst Then suddenly the kunst is me Pop culture was in art Now, art\\'s in pop culture in me I live for the applause, applause, applause I live for the applause-plause, live for the applause-plause Live for the way that you cheer and scream for me The applause, applause, applause Give me that thing that I love (Turn the lights on) Put your hands up, make \\'em touch, touch (Make it real loud) Give me that thing that I love (Turn the lights on) Put your hands up, make \\'em touch, touch (Make it real loud) (A-P-P-L-A-U-S-E) Make it real loud Put your hands up, make \\'em touch, touch (A-P-P-L-A-U-S-E) Make it real loud Put your hands up, make \\'em touch, touch Ooh touch, touch ooh Touch, touch now ooh ooh ooh ooh I live for the applause, applause, applause I live for the applause-plause, live for the applause-plause Live for the way that you cheer and scream for me The applause, applause, applause Give me that thing that I love (Turn the lights on) Put your hands up, make \\'em touch, touch (Make it real loud) Give me that thing that I love (Turn the lights on) Put your hands up, make \\'em touch, touch (Make it real loud) (A-P-P-L-A-U-S-E) Make it real loud Put your hands up, make \\'em touch, touch (Make it real loud) (A-P-P-L-A-U-S-E) Make it real loud Put your hands up, make \\'em touch, touch A-R-T-P-O-P [Verse 1] (Last night) Our lovers quarrel (I was thinking about you) Hurts more than I can say (And it was kind of dirty) Oh my (And the way that you looked at me) Help me here! (It was kind of nasty, aah!) Help me here! (It was kind of trashy) Cause I can\\'t help my mind from going there! [Pre-Chorus] Heard your boyfriend was away this weekend Wanna meet at my place? Heard that we both got nothing to do... When I lay in bed, I touch myself and think of you [Chorus] Last night Damn, you were in my sex dreams (you were in my) Doing really nasty things (you were in my) Damn, you were in my sex dreams (don\\'t stop the party) Making love in my sex dreams (4x) [Verse 2] We could be caught (I just want this to be perfect) We\\'re both convicted criminals of thought (cause I\\'m broken) Let\\'s white- (by the one before) glove the bed (He was kind of nasty) Help me here! (And I feel so trashy) Cause we can\\'t hide the evidence in our heads! [Pre-Chorus] Heard your boyfriend was away this weekend Wanna meet at my place? Heard that we both got nothing to do... When I lay in bed, I touch myself and think of you [Chorus 2] Last night Damn, you were in my Sexxx dreams (You were in my) Doing really nasty things (You were in my dreams) Damn, you were in my Sexxx dreams (you were in my) Making love in my Sexxx dreams Don\\'t stop the party (Making love in my Sexxx dreams) Let\\'s keep it naughty (Making love in my Sexxx dreams) Watch me act a fool (Making love in my Sexxx dreams) Tomorrow when I run into you, Tomorrow when I run into you [Bridge] You could turn a stone Or the color of a man petrified by a woman In love as I am when I lay with you I think of him, I think of him [Speaking] I can\\'t believe I\\'m telling you this, but I\\'ve had a couple drinks And oh my god (*vomits and giggles*) [Chorus 3] Last night Damn, you were in my Sexxx dreams (You were in my) Doing really nasty things (You were in my dreams) Damn, you were in my Sexxx dreams (you were in my) Last night Don\\'t stop the party (Damn, you were in my Sexxx dreams) Let\\'s keep it naughty (Doing really nasty things) Watch me act a fool (Damn, you were in my Sexxx dreams) Tomorrow when I run into you (Making love in my Sexxx dreams) [iTunes Festival Bridge] We were in the swimming pool. I was naked, so were you, and I wrote this song while we made love Dangerous poetry rhymed with our bodies and now\\'s the time for the trial with doubts and drawls (I can\\'t believe I\\'m telling you this, but I\\'ve had a couple of drinks and, oh my god-- [laughs]) Let\\'s have some fun, this beat is sick I wanna take a ride on your disco stick Let\\'s have some fun, this beat is sick I wanna take a ride on your disco stick I wanna kiss you But if I do then I might miss you, babe It\\'s complicated and stupid Got my ass squeezed by sexy Cupid Guess he wants to play, wants to play A love game, a love game Hold me and love me Just wanna touch you for a minute Baby three seconds isn\\'t enough For my heart to quit it Let\\'s have some fun, this beat is sick I wanna take a ride on your disco stick Don\\'t think too much just bust that kick I wanna take a ride on your disco stick Let\\'s play a love game, play a love game Do you want love or you want fame? Are you in the game? Doin\\' the love game Let\\'s play a love game, play a love game Do you want love or you want fame? Are you in the game? Doin\\' the love game I\\'m on a mission And it involves some heavy touching, yeah You\\'ve indicated your interest, I\\'m educated in sex, yes And now I want it bad, want it bad A love game, a love game Hold me and love me Just want touch you for a minute Baby three seconds isn\\'t enough For my heart to quit it Let\\'s have some fun, this beat is sick I wanna take a ride on your disco stick Don\\'t think too much just bust that kick I wanna take a ride on your disco stick Let\\'s play a love game, play a love game Do you want love or you want fame? Are you in the game? Doin\\' the love game Let\\'s play a love game, play a love game Do you want love or you want fame? Are you in the game? Doin\\' the love game I can see you staring there from across the block With a smile on your mouth and your hand on your huh! The story of us, it always starts the same With a boy and a girl and a huh and a game And a game, and a game, and a game, a love game Let\\'s play a love game, play a love game Do you want love or you want fame? Are you in the game? Doin\\' the love game Let\\'s play a love game, play a love game Do you want love or you want fame? Are you in the game? Doin\\' the love game Let\\'s play a love game, play a love game Do you want love or you want fame? Are you in the game? (Let\\'s have some fun, this beat is sick) Doin\\' the love game (I wanna take a ride on your disco stick) Let\\'s play a love game, play a love game Do you want love or you want fame? Are you in the game? (Don\\'t think too much just bust that kick) Doin\\' the love game (I wanna take a ride on your disco stick) Doin\\' the love game I\\'m gonna marry the night I won\\'t give up on my life I\\'m a warrior queen Live passionately tonight I\\'m gonna marry the dark Gonna make love to the stark I\\'m a soldier to my own emptiness I am a winner I\\'m gonna marry the night I\\'m gonna marry the night I\\'m gonna marry the night I\\'m gonna marry the night I\\'m not gonna cry anymore I\\'m gonna marry the night Leave nothing on these streets to explore M-m-m-marry m-m-m-marry m-m-m-marry the night Oh m-m-marry m-m-m-marry m-m-m-marry the night I\\'m gonna lace up my boots Throw on some leather and cruise Down the street that I love In my fishnet gloves I\\'m a sinner Then I\\'ll go down to the bar But I won\\'t cry anymore I hold my whiskey up high Kiss the bartender twice I\\'m a loser I\\'m gonna marry the night I\\'m gonna marry the night I\\'m gonna marry the night I\\'m not gonna cry anymore I\\'m gonna marry the night Leave nothing on these streets to explore M-m-m-marry m-m-m-marry m-m-m-marry the night Oh m-m-marry m-m-m-marry m-m-m-marry the night Nothing\\'s too cool To take me from you New York is not just a tan That you\\'ll never loose Love is the new Denim or black Skeleton guns Or wedding bells in the attic Get Ginger ready Climb the El Camino front Won\\'t poke holes in the seats with my heels \\'Cause that\\'s where we make love Come on and run Turn the car on and run I\\'m gonna marry the night I\\'m gonna burn a hole in the road I\\'m gonna marry the night Leave nothin\\' on these streets to explode M-m-m-marry m-m-m-marry m-m-m-marry the night Oh m-m-marry m-m-m-marry m-m-m-marry the night Oh m-m-marry m-m-m-marry m-m-m-marry the night I\\'m gonna marry, marry I\\'m gonna marry, marry Come on, come on The night, the night, the night The night, the night, the night The night, the night, the night The night, the night, the night The night, the night I wanna hold \\'em like they do in Texas plays Fold \\'em, let \\'em, hit me, raise it baby stay with me (I love it) Love Game intuition play the cards with spades to start And after he\\'s been hooked I\\'ll play the one that\\'s on his heart Oh, oh, oh, oh, oh, oh-oh-e-oh-oh-oh I\\'ll get him hot, show him what I\\'ve got Oh, oh, oh, oh, oh, oh-oh-e-oh-oh-oh, I\\'ll get him hot, show him what I\\'ve got Can\\'t read my, Can\\'t read my, No he can\\'t read my poker face (She\\'s got me like nobody) Can\\'t read my Can\\'t read my No he can\\'t read my poker face (She is gonna let nobody) P p p poker face, p p p poker face (Muh muh muh muh) P p p poker face, p p poker face (Muh muh muh muh) I wanna roll with him a hard pair we will be A little gambling is fun when you\\'re with me (I love it) Russian Roulette is not the same without a gun And baby when it\\'s love, if its not rough it isn\\'t fun, fun Oh, oh, oh, oh, oh, oh-oh-e-oh-oh-oh I\\'ll get him hot, show him what I\\'ve got Oh, oh, oh, oh, oh, oh-oh-e-oh-oh-oh, I\\'ll get him hot, show him what I\\'ve got Can\\'t read my, Can\\'t read my, No he can\\'t read my poker face (She\\'s got me like nobody) Can\\'t read my Can\\'t read my No he can\\'t read my poker face (She is gonna let nobody) P p p poker face, p p p poker face (Muh muh muh muh) P p p poker face, p p p poker face (Muh muh muh muh) I won\\'t tell you that I love you Kiss or hug you \\'Cause I\\'m bluffing with my muffin I\\'m not lying I\\'m just stunning with my love glue gunnin\\' Just like a chick in the casino Take your bank before I pay you out I promise this, promise this Check this hand cause I\\'m marvelous Can\\'t read my, Can\\'t read my, No he can\\'t read my poker face (She\\'s got me like nobody) Can\\'t read my Can\\'t read my No he can\\'t read my poker face (She is gonna let nobody) Can\\'t read my, Can\\'t read my, No he can\\'t read my poker face (She\\'s got me like nobody) Can\\'t read my Can\\'t read my No he can\\'t read my poker face (She is gonna let nobody) Can\\'t read my, Can\\'t read my, No he can\\'t read my poker face (She\\'s got me like nobody) Can\\'t read my Can\\'t read my No he can\\'t read my poker face (She is gonna let nobody) P p p poker face, p p p poker face (Muh muh muh muh) P p p poker face, p p p poker face (Muh muh muh muh) (She is gonna let nobody) P p p poker face, p p p poker face (Muh muh muh muh) P p p poker face, p p p poker face (Muh muh muh muh) P p p poker face, p p p poker face (Muh muh muh muh) P p p poker face, p p p poker face (Muh muh muh muh) I know that we are young And I know that you may love me But I just can\\'t be with you like this anymore Alejandro Ohh.. She\\'s got both hands In her pockets And she won\\'t look at you Won\\'t look at you She hides through love en su bolsillo She got a halo around her finger Around you You know that I love you boy Hot like Mexico, rejoice At this point I gotta choose Nothing to lose Don\\'t call my name Don\\'t call my name, Alejandro I\\'m not your babe I\\'m not your babe, Fernando Don\\'t wanna kiss, don\\'t wanna touch Just smoke my cigarette and shush. Don\\'t call my name Don\\'t call my name, Roberto Alejandro Alejandro Ale-ale-jandro Ale-ale-jandro (2) Just stop Please, Just let me go Alejandro, Just let me go She\\'s not broken She\\'s just a baby But her boyfriend\\'s like a dad, just like a dad Draw those flames that burn before him Now he\\'s gonna find a fight, gonna fool the bad You know that I love you boy Hot like Mexico, rejoice At this point I gotta choose Nothing to loose Don\\'t call my name Don\\'t call my name, Alejandro I\\'m not your babe I\\'m not your babe, Fernando Don\\'t wanna kiss, don\\'t wanna touch Just smoke my cigarette and shush. Don\\'t call my name, Roberto Alejandro Alejandro Ale-ale-jandro Ale-ale-jandro (2) Dont bother me Dont bother me, Alejandro Dont call my name Dont call my name, Bye Fernando I\\'m not you\\'re babe I\\'m not you\\'re babe, Alejandro Don\\'t wanna kiss, don\\'t wanna touch, Fernando Dont call my name Dont call my name, Alejandro I\\'m not you\\'re babe I\\'m not you\\'re babe, Fernando Don\\'t wanna kiss don\\'t wanna touch. Just smoke my cigarette and hush. Don\\'t call my name Don\\'t call my name Roberto. Alejandro Alejandro Ale-ale-jandro Ale-ale-jandro (2) Don\\'t call my name Don\\'t call my name, Alejandro. I\\'m not you\\'re babe I\\'m not you\\'re babe, Fernando Don\\'t wanna kiss, don\\'t wanna touch Just smoke my cigarette and hush. Don\\'t call my name Don\\'t call my name, Roberto. Alejandro Alejandro Ale-ale-jandro Ale-ale-jandro (2) Hey there sugar baby Saw you twice at the pop show You taste just like glitter mixed with rock and roll I like you a lot lot Think you\\'re really hot hot I know you think you\\'re special When we dance real crazy Glamaphonic, electronic, disco baby I like you a lot lot All we want is hot hot Boys boys boys We like boys in cars Boys boys boys Buy us drinks in bars Boys boys boys With hairspray and denim Boys boys boys We love them! (We love them) Oh, oh Baby is a bad boy with some retro sneakers Let\\'s go see The Killers and make out in the bleachers I like you a lot lot, think you\\'re really hot hot Let\\'s go to the party heard our buddy\\'s the DJ Don\\'t forget my lipstick I left it in your ashtray I like you a lot lot, all we want is hot hot Boys boys boys We like boys in cars Boys boys boys Buy us drinks in bars Boys boys boys With hairspray and denim Boys boys boys We love them! (We love them) Boys boys boys We like boys in cars Boys boys boys Buy us drinks in bars Boys boys boys With hairspray and denim Boys boys boys We love them! (We love them) I\\'m not loose, I like to party Let\\'s get lost in your Ferrari Not psychotic or dramatic I like boys and that is that Love it when you call me legs In the morning buy me eggs Watch your heart when we\\'re together Boys like you love me forever Oh, oh, oh, oh Boys boys boys We like boys in cars Boys boys boys Buy us drinks in bars Boys boys boys With hairspray and denim Boys boys boys We love them! (We love them) Boys boys boys We like boys in cars Boys boys boys Buy us drinks in bars Boys boys boys With hairspray and denim Boys boys boys We love them! (We love them) Boys boys boys We like boys in cars Boys boys boys Buy us drinks in bars Boys boys boys With hairspray and denim Boys boys boys We love them! (We love them) Sometimes a story has no end Sometimes I think that we could just be friends \\'Cause I\\'m a wandering man, he said to me And what about our future plans? Does it seem we have even make sense? When I got the whole world in front of me So I said, \"I don\\'t wanna be alone forever But I can be tonight I don\\'t wanna be alone forever But I love gypsy life I don\\'t wanna be alone forever Maybe we can see the world together I don\\'t wanna be alone forever But I can be tonight, tonight\" So I just packed my baggage and Said goodbye to family and friends And took the road to nowhere on my own Like Dorothy on a yellow brick Hope my ruby shoes get us there quick \\'Cause I left everyone I love at home And I don\\'t wanna be alone forever But I can be tonight I don\\'t wanna be alone forever But I love gypsy life I don\\'t wanna be alone forever Maybe we can see world together I don\\'t wanna be alone forever But I can be tonight, tonight \\'Cause I\\'m, I\\'m, I\\'m, I\\'m A gypsy, a gypsy, a gypsy I\\'m, I\\'m, I\\'m, I\\'m A gypsy, a gypsy, a gypsy I\\'m, I\\'m, I\\'m, I\\'m A gypsy, a gypsy, a gypsy I\\'m, I\\'m, I\\'m, I\\'m A gypsy, a gypsy, a gypsy, I\\'m And then he asked me, Said, \"Baby, why do we love each other?\" I said, \"Honey, it\\'s simple. It\\'s the way that you love and treat your mother\" Thought that I would be alone forever But I won\\'t be tonight I\\'m a man without a home But I think with you I can spend my life And you\\'ll be my little gypsy princess Pack your bags and we can chase the sunset Bust the rear view and fire up the jets \\'Cause it\\'s you and me Baby, for life Would you go with me? (For life) See the world with me \\'Cause I\\'m, I\\'m, I\\'m, I\\'m A gypsy, a gypsy, a gypsy I\\'m, I\\'m, I\\'m, I\\'m A gypsy, a gypsy, a gypsy I\\'m Russia, UK, Paris, I\\'m Italian, Asian, Kompai Africa, India, I\\'m A gypsy, a gypsy, a gypsy I\\'m Latin American, I don\\'t speak German but I try Someday in Jakarta, I\\'m American, I\\'m gypsy I Bangkok, Australia, Malaysia Sweden, Finland, Norway Be my home just for the day I\\'m a gypsy, gypsy, gypsy hey Ooh, ooh, ooh, ooh, ooh, ooh, ooh, ooh, oh Ooh, ooh, ooh, ooh, ooh, ooh, ooh, ooh, whoa Whenever I\\'m dressed cool My parents put up a fight (Uh huh, uh huh) And if I\\'m hot shot Mom will cut my hair at night (Uh huh, uh huh) And in the morning I\\'m short of my identity (Uh huh, uh huh) I scream Mom and Dad Why can\\'t I be who I wanna be? (Uh huh, uh huh) to be I just wanna be myself And I want you to love me for who I am I just wanna be myself And I want you to know, I am my hair I\\'ve had enough, this is my prayer That I\\'ll die living just as free as my hair I\\'ve had enough, this is my prayer That I\\'ll die living just as free as my hair I\\'ve had enough, I\\'m not a freak I\\'m just here trying to stay cool on the streets I\\'ve had enough, enough, enough And this is my prayer, I swear I\\'m as free as my hair I\\'m as free as my hair I am my hair, I am my hair Free as my hair, hair, hair Hair, hair, ha-ha-ha-hair Hair, hair, hair Hair, hair, ha-ha-ha-hair Free as my hair, hair, hair Hair, hair, ha-ha-ha-hair Hair, hair, hair Hair, hair, ha-ha-ha-hair Sometimes I waltz around Put on red highlights Just because I want my friends To think I\\'m dynamite And on Friday rocks in High school dance I got my bangs too hot That I don\\'t stand a chance, a chance I just wanna be myself And I want you to love me for who I am I just wanna be myself And I want you to know, I am my hair I\\'ve had enough, this is my prayer That I\\'ll die living just as free as my hair I\\'ve had enough, this is my prayer That I\\'ll die living just as free as my hair I\\'ve had enough, I\\'m not a freak I\\'m just here trying to stay cool on the streets I\\'ve had enough, enough, enough And this is my prayer, I swear I\\'m as free as my hair I\\'m as free as my hair I am my hair, I am my hair Free as my hair, hair, hair Hair, hair, ha-ha-ha-hair Hair, hair, hair Hair, hair, ha-ha-ha-hair Free as my hair, hair, hair Hair, hair, ha-ha-ha-hair Hair, hair, hair Hair, hair, ha-ha-ha-hair I just want to be free, I just want to be me And I want lots of friends that invite me to their parties Don\\'t wanna change, and I don\\'t wanna be ashamed I\\'m the spirit of my hair, it\\'s all the glory that I bare I am my hair, I am my hair I am my hair, I am my hair I am my hair, I am my hair I am my hair, I am my hair It\\'s all the glory that I bare I am my hair, I am my hair I am a hair, yeah It\\'s all the glory that I bare I am my hair, I am my hair I\\'m my hair, yeah, yeah (All the glory that I bare) I\\'m my hair, yeah, yeah (All the glory that I bare) I\\'m my hair, yeah, yeah (All the glory that I bare) My hair, yeah, yeah, yeah I\\'ve had enough, this is my prayer That I\\'ll die living just as free as my hair I\\'ve had enough, this is my prayer That I\\'ll die living just as free as my hair I\\'ve had enough, I\\'m not a freak I\\'m just here trying to stay cool on the streets I\\'ve had enough, enough, enough And this is my prayer, I swear I\\'m as free as my hair I\\'m as free as my hair I am my hair, I am my hair Ooh, my hair, my hair Tryin\\' to get control Pressure\\'s takin\\' its toll Stuck in the middle zone I just want you alone My guessing game is strong Way too real to be wrong Caught up in your show Yeah, at least now I know It wasn\\'t love, it wasn\\'t love It was a perfect illusion (perfect illusion) Mistaken for love, it wasn\\'t love It was a perfect illusion (perfect illusion) You were a perfect illusion I don\\'t need eyes to see I felt you touchin\\' me High like amphetamine Maybe you\\'re just a dream That\\'s what it means to crush Now that I\\'m wakin\\' up I still feel the blow But at least now I know It wasn\\'t love, it wasn\\'t love It was a perfect illusion (perfect illusion) Mistaken for love, it wasn\\'t love It was a perfect illusion (perfect illusion) (Where are you, \\'cause I can\\'t see you) It was a perfect illusion (but I feel you watchin\\' me Dilated, falling free In a modern ecstasy) (Where are you, \\'cause I can\\'t see you It was a perfect illusion (But I feel you watchin\\' me) Illusion (but I feel you watchin\\' me) Mistaken for love (where are you \\'cause I can\\'t see) (But I feel you watchin\\' me) Mistaken for love (dilated, falling free in a modern ecstasy) Mistaken for love In a modern ecstasy In a modern ecstasy I\\'m over the show Yeah at least now I know It wasn\\'t love, it wasn\\'t love It was a perfect illusion (perfect illusion) Mistaken for love, it wasn\\'t love It was a perfect illusion (perfect illusion) (Aah) you were a perfect illusion (Aah) it was a perfect illusion It was a perfect illusion Somewhere in all the confusion It was a perfect illusion, illusion (illusion) It was perfect illusion Somewhere in all the confusion You were so perfect You were a, you were a perfect illusion It\\'s like, I just love a cowboy you know I\\'m just like, I just, I know, it\\'s bad But I\\'m just like Can I just like, hang off the back of your horse And can you go a little faster?! Three am, Mustang speedin\\' Two lovers, headed for a dead end Too fast, hold tight, he laughs Runnin\\' through the red lights Hollerin\\' over, rubber spinnin\\' Big swig, toss another beer can Too lit, tonight, prayin\\' On the moonlight Every john is just the same I\\'m sick of their city games I crave a real wild man I\\'m strung out on John Wayne Baby let\\'s get high, John Wayne Baby let\\'s get high, John Wayne Blue collar and a red-state treasure Love junkie on a three-day bender His grip, so hard, eyes glare Trouble like a mug shot Charged up, \\'cause the man\\'s on a mission One, two ya, the gears are shiftin\\' He called, I cried, we broke Racin\\' through the moonlight Every john is just the same I\\'m sick of their city games I crave a real wild man I\\'m strung out on John Wayne Baby let\\'s get high, John Wayne Baby let\\'s get high, John Wayne So I go to the eye Of the storm Just to feel your love Knock me over Here I go Into our love storm Baby let\\'s get high, John Wayne Baby let\\'s get high, John Wayne Last night (Our lovers quarrel) I was thinking about you (More than I can say) And it was kind of dirty (All night) And the way that you looked at me (Help me here) It was kind of nasty (Help me here) It was kind of trashy \\'Cause I can\\'t help my mind from going there Heard your boyfriend was away this weekend Wanna meet at my place Heard that we both got nothing to do When I lay in bed I touch myself and think of you Last night Damn you were in my sex dreams (you were in my) Doing really nasty things (you were in my dreams) Damn you were in my sex dreams (you were in my) Making love in my sex dreams We could be caught (I just want this to be perfect) We\\'re both convicted criminals of thought (\\'cause I\\'m broken) Let\\'s white (by the one before) glove the bed (He was kinda nasty) Help me here \\'Cause I feel so trashy \\'Cause we can\\'t hide the evidence in our head Heard your boyfriend was away this weekend Wanna meet at my place Heard that we both got nothing to do And I lay in bed I touch myself and I think of you Last night Damn you were in my sex dreams (you were in my) Doing really nasty things (you were in my dreams) Damn you were in my sex dreams (you were in my) Making love in my sex dreams Making love in my sex dreams Making love in my sex dreams Making love in my sex dreams You could turn a stone Or the color of a man petrified by a woman In love as I am when I lay with you I think of him, I think of him I can\\'t believe I\\'m telling you this but I\\'ve had a couple of drinks and oh my god Last night Damn you were in my sex dreams (you were in my) Doing really nasty things (you were in my dreams) Damn you were in my sex dreams (you were in my) Last night Damn you were in my sex dreams Doing really nasty things Damn you were in my sex dreams Making love in my sex dreams Don\\'t call me GaGa I\\'ve never seen one like that before Don\\'t look at me like that You amaze me He ate my heart, he a-a-ate my heart (You little monster) He ate my heart, he a-a-ate my heart out (You amaze me) He ate my heart, he a-a-ate my heart He ate my heart, he a-a-ate my heart Look at him, look at me That boy is bad, and honestly He\\'s a wolf in disguise But I can\\'t stop staring in those evil eyes I asked my girlfriend if she\\'d seen you round before She mumbled something while we got down on the floor baby We might\\'ve fucked not really sure, don\\'t quite recall But something tells me that I\\'ve seen him round before He\\'s a monster m-m-m-monster That boy is a monster m-m-m-monster That boy is a monster m-m-m-monster That boy is a monster er-er-er-er He ate my heart (I love that girl) He ate my heart (I love that girl, she\\'s hot as hell) He ate my heart (I love that girl) He ate my heart (wanna talk to her, she\\'s hot as hell) He licked his lips, said to me Girl you look good enough to eat Put his arms around me Said \"Boy now get your paws right off me\" I asked my girlfriend if she\\'d seen you round before She mumbled something while we got down on the floor baby We might\\'ve fucked not really sure, don\\'t quite recall, oh yeah But something tells me that I\\'ve seen him, yeah He\\'s a monster m-m-m-monster That boy is a monster m-m-m-monster That boy is a monster m-m-m-monster That boy is a monster er-er-er-er He ate my heart (I love that girl) He ate my heart (Wanna talk to her, she\\'s hot as hell) He ate my heart (I love that girl) He ate my heart (Wanna talk to her, she\\'s hot as hell) He ate my heart he ate my heart instead he\\'s a monster in my bed He ate my heart he ate my heart instead he\\'s a monster in my bed I wanna just dance but he took me home instead Uh oh! There was a monster in my bed We french kissed on a subway train He tore my clothes right off He ate my heart and then he ate my brain Uh oh uh oh (I love that girl) (Wanna talk to her, she\\'s hot as hell) He ate my heart he a-a-a-ate my heart He ate my heart (Wanna talk to her, she\\'s hot as hell) That boy is a monster m-m-m-monster That boy is a monster m-m-m-monster That boy is a monster m-m-m-monster That boy is a monster er-er-er-er That boy is a monster m-m-m-monster That boy is a monster m-m-m-monster That boy is a monster m-m-m-monster That boy is a monster er-er-er-er Silicone, saline, poison inject me Baby, I\\'m a free bitch, I\\'m a free bitch Some girls won\\'t dance to the beat of the track She won\\'t walk away but she won\\'t look back She looks good but her boyfriend says she\\'s a mess She\\'s a mess she\\'s a mess Now the girl is stressed She\\'s a mess she\\'s a mess She\\'s a mess she\\'s a mess (Tell \\'em, girls) Baby loves to dance in the dark \\'Cause when he\\'s lookin\\' she falls apart Baby loves to dance, dance in the dark (Tell \\'em, girls) Baby loves to dance in the dark \\'Cause when he\\'s lookin\\' she falls apart Baby loves to dance, dance in the dark (Tell \\'em, girls) Run, run her kiss is a vampire grin The moon lights her way while she\\'s howlin\\' at him She looks good but her boyfriend says she\\'s a tramp She\\'s a tramp she\\'s a vamp But she still does her dance She\\'s a tramp she\\'s a vamp But she still kills the dance (Tell \\'em, girls) Baby loves to dance in the dark \\'Cause when he\\'s lookin\\' she falls apart Baby loves to dance in the dark (Tell \\'em, girls) Baby loves to dance in the dark \\'Cause when he\\'s lookin\\', she falls apart Baby loves to dance, dance in the dark (Tell \\'em, girls) In the dark she loves to dance in the dark In the dark she loves, she loves to dance in the dark Marilyn, Judy, Sylvia Tell \\'em how you feel girls! Work your blond (Jean) Benet Ramsey We\\'ll haunt like Liberace Find your freedom in the music Find your Jesus, find your Kubrick You will never fall apart Diana, you\\'re still in our hearts Never let you fall apart Together we\\'ll dance in the dark Baby loves to dance in the dark \\'Cause when he\\'s lookin\\', she falls apart Baby loves to dance in the dark Baby, baby loves to dance in the dark \\'Cause when he\\'s lookin\\', she falls apart Baby loves to dance in the dark in the dark Rocket #9 take off to the planet (to the planet) Venus Aphrodite lady seashell bikini (garden panty) Venus Let\\'s blast off to a new dimension (in your bedroom) Venus Aphrodite lady seashell bikini (get with me) Venus I can\\'t help the way I\\'m feeling Goddess of love, please take me to your leader I can\\'t help, I keep on dancing Goddess of love, goddess of love Take me to your planet (to the planet) Take me to your planet (to the planet) Take me to your leader (to the planet) Your leader, your leader (to the planet) Take me to your planet (to the planet) Take me to your planet (to the planet) Take me to your Venus (to the planet) Your Venus, your Venus When you touch me, I die Just a little inside I wonder if this could be love This could be love \\'Cause you\\'re out of this world Galaxy, space, and time I wonder if this could be love (Venus) Have an oyster, baby, it\\'s Aphrod-isy Act sleazy Venus Worship to the land a girl from the planet (to the planet) To the planet I can\\'t help the way I\\'m feeling Goddess of love, please take me to your leader I can\\'t help, I keep on dancing Goddess of love, goddess of love Take me to your planet (to the planet) Take me to your planet (to the planet) Take me to your leader (to the planet) Your leader, your leader (to the planet) Take me to your planet (to the planet) Take me to your planet (to the planet) Take me to your Venus (to the planet) Your Venus, your Venus When you touch me, I die Just a little inside I wonder if this could be love This could be love \\'Cause you\\'re out of this world Galaxy, space, and time I wonder if this could be love, this could be Love (wonder if this could be love, this could be love) Goddess of love (wonder if this could be love) Venus Neptune, go Now serve Pluto Saturn, Jupiter Mercury, Venus, uh ha! Uranus! Don\\'t you know my ass is famous? Mars, now serve for the gods Earth, serve for the stars! When you touch me, I die Just a little inside I wonder if this could be love This could be love \\'Cause you\\'re out of this world Galaxy, space, and time I wonder if this could be love, this could be Love (wonder if this could be love, this could be love) Goddess of love (wonder if this could be love) Venus Take my hand, stay Joanne Heaven\\'s not ready for you Every part of my aching heart Needs you more than the angels do Girl, where do you think you\\'re goin\\'? Where do you think you\\'re goin\\' Goin\\', girl? Girl, where do you think you\\'re goin\\'? Where do you think you\\'re goin\\' Goin\\', girl? If you could I know that you\\'d stay We both know things don\\'t work that way I promised I wouldn\\'t say goodbye So I grin and my voice gets thin Girl, where do you think you\\'re goin\\'? Where do you think you\\'re goin\\'? Goin\\', girl? Girl, where do you think you\\'re goin\\'? Where do you think you\\'re goin\\'? Goin\\', girl? Honestly, I know where you\\'re goin\\' And baby, you\\'re just movin\\' on And I after love you even if I can\\'t See you anymore can\\'t wait to see you soar Girl, where do you think you\\'re goin\\'? Where do you think you\\'re goin\\' Goin\\', girl? Girl, where do you think you\\'re goin\\'? Where do you think you\\'re goin\\' Goin\\', girl? Fashion! Looking good and feeling fine Sweat, sweat Looking good and feeling fine Fashion! Step into the room Like it\\'s a catwalk Fashion! Singing to the tune Just to keep them talking Fashion! Walk into the light Display your diamonds and pearls in light Fashion! Married to the night I own the world, we own the world Look at me now! Like we\\'re on top of the world in my Fashion! Look at me now! Like we\\'re on top of the world in my Fashion! Looking good and feeling fine Slay, slay Looking good and feeling fine Slay, slay You\\'ve got company Make sure you look your best Fashion! Make up on your face A new designer dress Fashion! There\\'s a life on Mars Where the couture is beyond, beyond Fashion! Married to the stars! I own the world, we own the world! Look at me now! Like we\\'re on top of the world in my Fashion! Look at me now! Like we\\'re on top of the world in my Fashion! Looking good and feeling fine Slay, slay Looking good and feeling fine Slay, slay I take it off, I put it on I feel alive, when I transform But this love\\'s not material Now take it in, and turn me on Zip me up, it can\\'t be wrong Cause your new look\\'s ethereal Looking good, and feeling fine Fashion! Je me sens en haute couture en Fashion! Donnez moi Christian Louboutins Fashion! Le monde est témoin C\\'est la vie en Fashion! Je suis en haute couture en Fashion! Fashion, fashion! In your brown eyes, walked away In your brown eyes, couldn\\'t stay In your brown eyes, you watch her go And turn the record on And wonder what went wrong What went wrong If everything was everything But everything is over Everything could be everything If only we were older Guess it\\'s just a silly song about you And how I lost you And your brown eyes In your brown eyes, I was feeling low Cause they\\'re brown eyes and you never know Got some brown eyes, but a soft face I knew that it was wrong So baby, turn the record on Play that song Where everything was everything But everything is over Everything could be everything If only we were older I guess its just a silly song about you And how I lost you And your brown eyes Brown eyes Everything was everything But baby it\\'s the last show Everything could be everything But it\\'s time to say goodbye so Get your last fix, and your last hit Grab your old girl with her new tricks Honey yeah, it\\'s no surprise I got lost in your brown eyes In your brown eyes Brown, brown eyes Your brown eyes Brown, brown eyes Got some brown eyes Brown, brown eyes Your brown eyes Hush up Don\\'t speak don\\'t wanna hear another (Not another word from you) You\\'re just a ani- Mal tryin\\' to act real special (But deep down you are just a shrew) Maybe I should have a little more just to stay out of my mind \\'Cause its when I\\'m not thinking with you that I act like a swine Act like a swine Act like a swine I know I know I know I know you want me Your just a pig inside a human body Squealer squealer squeal out you\\'re so disgusting You\\'re just a pig inside Do ya I know I know I know I know you want me Your just a pig inside a human body Squealer squealer squeal out you\\'re so disgusting You\\'re just a pig inside Swine Swine Swine Swine Be that Hog sweat it out you squealer (Let your body jiggle) Slap her skin-he Love to watch her ass go wiggle (It\\'s the feel of ecstasy) Maybe I should have a little more just to stay out of my mind \\'Cause its when I\\'m not thinking with you that I act like a swine Act like a swine Act like a swine I know I know I know I know you want me Your just a pig inside a human body Squealer squealer squeal out you\\'re so disgusting You\\'re just a pig inside Do ya I know I know I know I know you want me Your just a pig inside a human body Squealer squealer squeal out you\\'re so disgusting You\\'re just a pig inside Swine Swine Swine Swine Paint your face and Paint his face and catch the beat Paint your face and Paint her face and catch the beat Paint your face and Be a swine just catch the beat For the weekend Catch the beat C-catch the beat Huh huh C-catch the beat C-catch the beat Swine I don\\'t speak German but I can if you like (ow) Ich schleiban austa be clair, es kumpent üske monstère, Aus-be aus-can-be flaugen, fräulein uske-be clair Ich schleiban austa be clair, es kumpent üske monstère, Aus-be aus-can-be flaugen, fräulein uske-be clair Ich schleiban austa be clair, es kumpent üske monstère, Aus-be aus-can-be flaugen, fräulein uske-be clair Ich schleiban austa be clair, es kumpent üske monstère, Aus-be aus-can-be flaugen, fräulein uske-be clair Ich schleiban austa be clair, es kumpent üske monstère, Aus-be aus-can-be flaugen, fräulein uske-be clair Ich schleiban austa be clair, es kumpent üske monstère, Aus-be aus-can-be flaugen, fräulein uske-be clair I\\'ll take you out tonight do whatever you like Scheiße, Scheiße be mine, Scheiße be mine Put on a show tonight do whatever you like Scheiße, Scheiße be mine, Scheiße be mine When I am on a mission I rebuke my condition If you\\'re a strong female You don\\'t need permission I, I wish that I could dance On a single fare I wish I could be strong Without somebody there I, I wish that I could dance On a single fare I wish I could be strong Without the Scheiße yeah Oh oh oh oh oh without the Scheiße yeah Oh oh oh oh oh without the Scheiße yeah Oh oh oh oh oh without the Scheiße yeah Oh oh oh oh oh without the Scheiße yeah Ich schleiban austa be clair, es kumpent üske monstère, Aus-be aus-can-be flaugen, fräulein uske-be clair Ich schleiban austa be clair, es kumpent üske monstère, Aus-be aus-can-be flaugen, fräulein uske-be clair Now there\\'s objectified By what men say is right Scheiße, Scheiße be mine, Bullshit be mine Blonde high-heeled feminist enlisting femmes for this Express your woman-kind fight for your right When I am on a mission I rebuke my condition If you\\'re a strong female You don\\'t need permission I, I wish that I could dance On a single fare I wish I could be strong Without somebody there I, I wish that I could dance On a single fare I wish I could be strong Without the Scheiße yeah Oh oh oh oh oh without the Scheiße yeah Oh oh oh oh oh without the Scheiße yeah Oh oh oh oh oh without the Scheiße yeah Oh oh oh oh oh without the Scheiße yeah I don\\'t speak German, but I can if you like I I I I I I don\\'t speak German I I I but I can if you like I I I I I I don\\'t speak German I I I but I can if you like I, I wish that I could dance On a single fare I wish I could be strong Without permission, yeah I, I wish that I could dance On a single fare I wish I could be strong Without the Scheiße yeah Oh oh oh oh oh without the Scheiße yeah Oh oh oh oh oh without the Scheiße yeah Oh oh oh oh oh without the Scheiße yeah Oh oh oh oh oh without the Scheiße yeah Ich schleiban austa be clair, es kumpent üske monstère, Aus-be aus-can-be flaugen, fräulein uske-be clair Ich schleiban austa be clair, es kumpent üske monstère, Aus-be aus-can-be flaugen, fräulein uske-be clair Love is just a history that they may prove And when you\\'re gone I\\'ll tell them my religion\\'s you When Pontius come to kill the king upon his throne I\\'m ready for their stones I\\'ll dance, dance, dance With my hands, hands, hands, Above my head, head, head Like Jesus, said I\\'m gonna dance, dance, dance With my hands, hands, Hands above my head Dance together Forgive him before he\\'s dead because I won\\'t cry for you I won\\'t crucify the things you do I won\\'t cry for you, see When you\\'re gone I\\'ll still be bloody Mary We are not just art for Michelangelo To carve, he can\\'t rewrite the aggro of my furied, Heart, I\\'ll wait on mountain tops in Paris cold Je ne veux pas mourir toute seule I\\'ll dance, dance, dance With my hands, hands, hands, Above my head, head, head Like Jesus, said I\\'m gonna dance, dance, dance With my hands, hands, Hands above my head Dance together Forgive him before he\\'s dead because I won\\'t cry for you I won\\'t crucify the things you do I won\\'t cry for you, see When you\\'re gone I\\'ll still be bloody Mary Gaga, Gaga, Gaga, Gaga, Gaga, Gaga, Gaga, Gaga Dum dum da da da Dum dum da da da da da da Dum dum da da da Dum dum da da da Dum dum da da da da da da Dum dum da da da I won\\'t cry for you I won\\'t crucify the things you do do do I won\\'t cry for you (Gaga), see (Gaga) When you\\'re gone I\\'ll still be Bloody (Gaga) Mary (Gaga) Oh oh oh oh oh (Gaga) Oh oh oh oh oh (Gaga) Oh oh oh oh oh (Gaga) Oh oh oh oh oh (Gaga) Oh oh oh oh oh (Gaga) Oh oh oh oh oh (Gaga) Oh oh oh oh oh (Gaga) Oh oh oh oh oh (Gaga) Oh, liberdad mi amor I met a girl in east L.A. In floral shorts as sweet as May She sang in eights in two-barrio chords We fell in love, but not in court (La-la-la-la-la-la-la) I don\\'t sp\\', I don\\'t sp\\' Ah ah ah ah ah America Americano, ah ah ah ah ah America Americano Mis canciones son de la re-revolución Mi corazón me duele por mi generación If you love me we can marry on the west coast On a Wednesday en el verano en agosto I don\\'t speak your, I don\\'t speak your language, oh no (la-la-la-la-la-la-la)) I don\\'t speak your, I won\\'t speak your, won\\'t speak Your Jesús Cristo (la-la-la-la-la-la-la) Ah ah ah ah ah America Americano, ah ah ah ah ah America Americano I will fight for, I have fought for how I love you (la-la-la-la-la-la-la) I have cried for, I will die for how I care (la-la-la-la-la-la-la) In the mountains, las campanas están sonando (la-la-la-la-la-la-la) Todos los chicos (chicas) y los chicos (chicas) están besando (La-la-la-la-la-la-la) I don\\'t speak your, I don\\'t speak your language, oh no (la-la-la-la-la-la-la) I don\\'t speak your, I won\\'t speak your Jesús Cristo (la-la-la-la-la-la-la) I don\\'t speak your, I don\\'t speak your Americano (la-la-la-la-la-la-la) I don\\'t speak your, I won\\'t speak your Jesús Cristo (la-la-la-la-la-la-la) Ah ah ah ah ah America Americano, ah ah ah ah ah America Americano Ah ah ah ah ah America Americano, ah ah ah ah ah America Americano Don\\'t you try to catch me, don\\'t you try to catch me No, no, no, no I\\'m living on the edge of Living on the edge of the law, law, law, law Don\\'t you try to catch me, don\\'t you try to catch me No, no, no, no don\\'t you try to catch me Living on the edge of the law, law, law, law Here we go I can\\'t wait to smoke them all Whole pack like marlboro Blow it in your face, blow it in your face Blow it in your, blow it in your face I can\\'t wait to rev you up Faster than you can say ferrari Tearin\\' up the gravel, watch you unravel Now it\\'s a party Hey, I can\\'t wait to cast my spell Which one you\\'ll never tell \\'Cause I got it covered, city gravy southern Got you drippin\\' like no other Get off on me, my body\\'s got you pleadin\\' Light me up and breathe in Mirror on the ceilin\\' Off on me, my body\\'s got you pleadin\\' Light me up and breathe in Mirror on the ceiling A-yo, a-yo We smokin\\' \\'em all A-yo, a-yo We smokin\\' \\'em all A-yo, a-yo We smokin\\' \\'em all A-yo, a-yo I can\\'t wait to blaze for real Track burns like a road rail Spin it in your face, spin it in your face Play it in your, play it in your face Can\\'t wait to get you shook up Faster than you can try to hate it You can try to hate it, you can try to fake it But baby, I laced it Get off on me, my body\\'s got you pleadin\\' Light me up and breathe in Mirror on the ceilin\\' Off on me, my body\\'s got you pleadin\\' Light me up and breathe in Mirror on the ceiling A-yo, a-yo Mirror on the ceiling (We smokin\\' \\'em all) A-yo, a-yo Mirror on the ceiling (We smokin\\' \\'em all) A-yo, a-yo Mirror on the ceiling (We smokin\\' on \\'em all) A-yo, a-yo A-yo A-yo A-yo A-yo, a-yo (We smokin\\' \\'em all) A-yo a-yo (We smokin\\' \\'em all) Get it da get it da get it get it Get off on me, my body\\'s got you pleadin\\' Light me up and breathe in Mirror on the ceilin\\' Off on me, my body\\'s got you pleadin\\' Light me up and breathe in Mirror on the ceiling A-yo, a-yo Mirror on the ceiling (We smokin\\' \\'em all) A-yo, a-yo Mirror on the ceiling (We smokin\\' \\'em all) A-yo, a-yo Mirror on the ceiling (We smokin\\' \\'em all) A-yo, a-yo Mirror on the ceiling A-yo, a-yo We smokin\\' \\'em all A-yo, a-yo A-yo A-yo A-yo, a-yo We smokin\\' \\'em all A-yo, a-yo Hey yo You\\'re giving me a million reasons to let you go You\\'re giving me a million reasons to quit the show You\\'re givin\\' me a million reasons Give me a million reasons Givin\\' me a million reasons About a million reasons If I had a highway, I would run for the hills If you could find a dry way, I\\'d forever be still But you\\'re giving me a million reasons Give me a million reasons Givin\\' me a million reasons About a million reasons I bow down to pray I try to make the worst seem better Lord, show me the way To cut through all his worn out leather I\\'ve got a hundred million reasons to walk away But baby, I just need one good one to stay Head stuck in a cycle, I look off and I stare It\\'s like that I\\'ve stopped breathing, but completely aware \\'Cause you\\'re giving me a million reasons Give me a million reasons Givin\\' me a million reasons About a million reasons And if you say something that you might even mean It\\'s hard to even fathom which parts I should believe \\'Cause you\\'re giving me a million reasons Give me a million reasons Givin\\' me a million reasons About a million reasons I bow down to pray I try to make the worst seem better Lord, show me the way To cut through all his worn out leather I\\'ve got a hundred million reasons to walk away But baby, I just need one good one to stay Baby I\\'m bleedin\\', bleedin\\' Stay Can\\'t you give me what I\\'m needin\\', needin\\' Every heartbreak makes it hard to keep the faith But baby, I just need one good one Good one, good one, good one, good one, good one When I bow down to pray I try to make the worst seem better Lord, show me the way To cut through all his worn out leather I\\'ve got a hundred million reasons to walk away But baby, I just need one good one, good one Tell me that you\\'ll be the good one, good one Baby, I just need one good one to stay Young, wild, American Lookin\\' to be somethin\\' Out of school go-go\\'n for a hundred or two Some asshole broke me in Wrecked all my innocence I\\'ll just keep go-go\\'n And this dance is on you One, five, ten, lay a million on me Before the end of this song Young, wild, American C\\'mon baby, do you have a girlfriend? Rain on me a million I\\'m not flawless, but I gotta diamond heart Oh, I I might not be flawless, but you know I gotta diamond heart Oh, I I might not be flawless, but you know I gotta diamond heart Young, wild, American Head full of Jameson Girl\\'s playin\\' bad \\'cause it doesn\\'t pay to be good A cruel king made me tough Daddy\\'s girl\\'s never good enough I\\'ll just keep go-go\\'n \\'Cause this dance is on you One, five, ten, lay a million on me Before the end of this song Young, wild, American C\\'mon baby, do you have a girlfriend? Rain on me a million I\\'m not flawless, but I gotta diamond heart Oh, I I might not be flawless, but you know I gotta diamond heart Oh, I I might not be flawless, but you know I gotta diamond heart Good thing I know what I\\'m worth Want a good thing, put the money down first Better get a good look baby \\'Cause soon I\\'m breaking out of here Young, wild, American C\\'mon baby, do you have a girlfriend? Rain on me a million I\\'m not flawless, but I gotta diamond heart Oh, I I might not be flawless, but you know I gotta diamond heart Oh, I I might not be flawless, but you know I gotta diamond heart Diamond heart Eh-eh, eh-eh ye-ha, ye-ha Eh-eh, eh-eh aha-aha Eh-eh, eh-eh ye-ha, ye-ha Eh-eh, eh-eh aha-aha I love that lavender blond The way she moves the way she walks I touch myself can\\'t get enough And in the silence of the night Through all the tears and all the lies I touch myself and it\\'s alright Just give in don\\'t give up baby Open up your heart and your mind to me Just know when that glass is empty That the world is gonna bend Happy in the club with a bottle of red wine Stars in our eyes \\'cause we\\'re having a good time eh-eh eh-eh So happy I could die be your best friend Yeah I\\'ll love you forever Up in the clouds we\\'ll be higher than ever eh-eh, eh-eh So happy I could die and it\\'s alright Eh-eh, eh-eh ye-ha, ye-ha Eh-eh, eh-eh aha-aha Eh-eh, eh-eh ye-ha, ye-ha Eh-eh, eh-eh aha-aha I am as vain as I allow I do my hair I gloss my eyes I touch myself all through the night And when something falls out of place I take my time I put it back I touch myself \\'til I\\'m on track Just give in don\\'t give up baby Open up your heart and your mind to me Just know when that glass is empty That the world is gonna bend Happy in the club with a bottle of red wine Stars in our eyes \\'cause we\\'re having a good time So happy I could die be your best friend Yeah I\\'ll love you forever Up in the clouds we\\'ll be higher than ever eh-eh, eh-eh So happy I could die and it\\'s alright So happy I could die and it\\'s alright So happy I could die and it\\'s alright Eh-eh, eh-eh ye-ha, ye-ha Eh-eh, eh-eh aha-aha Eh-eh, eh-eh ye-ha, ye-ha Eh-eh, eh-eh aha-aha Happy in the club with a bottle of red wine Stars in our eyes \\'cause we\\'re having a good time So happy I could die be your best friend Yeah I\\'ll love you forever Up in the clouds we\\'ll be higher than ever eh-eh, eh-eh So happy I could die and it\\'s alright Happy in the club with a bottle of red wine Stars in our eyes \\'cause we\\'re having a good time So happy I could die be your best friend Yeah I\\'ll love you forever Up in the clouds we\\'ll be higher than ever eh-eh, eh-eh So happy I could die and it\\'s alright I came down the mountain Draggin\\' our love affair Put on a pretty little number I\\'m wearing you still It was a hell of a scene at daddy\\'s feast Nobody saw it coming, but the little red devil in me He has a funny way saying forever too fast Don\\'t get mad, can\\'t blame a tramp For something he don\\'t have I get on my knees and beg you Hear my sinner\\'s prayer I am what I am And I don\\'t wanna break the heart of any other man But you, but you Hear my sinner\\'s prayer It\\'s the only one I know It sure as hell don\\'t rhyme But it\\'s as good as, good as, good as, good as gold Got a baby sister who looks just like me She wants nothing more than a man to please Maybe she\\'s in too deep Her love for him ain\\'t cheap But it breaks just like a knockoff piece from Fulton Street The man\\'s got a gift for getting what he wants He\\'s thirsty when he drinks Gets on the brink, and throws her off I get on my knees and beg you Hear my sinner\\'s prayer I am what I am And I don\\'t wanna break the heart of any other man But you, but you Hear my sinner\\'s prayer It\\'s the only one I know It sure as hell don\\'t rhyme But it\\'s as good as, good as, good as, good as gold Good as, good as, good as, good as gold I can carry you, but not your ghosts Wish I had the faith, but I don\\'t know, oh Hear my sinner\\'s prayer I am what I am And I don\\'t wanna break the heart of any other man But you, but you Hear my sinner\\'s prayer It\\'s the only one I know It sure as hell don\\'t rhyme But it\\'s as good as, good as, good as, good as gold Good as, good as, good as, good as gold Good as, good as, good as, good as gold (Verse 1:) Hey babe, I\\'m feelin\\' something kinda crazy. I know that we got something special, boy. But lately I\\'ve been feelin\\' naughtier, than usual (Chorus:) You see I I need a love thats crazy don\\'t you see? I\\'m looking for someone that can handle me. Need a fire so hot that it burns me so. I\\'m sorry when I mention that I did not know. You and me were kind of in complete. Need someone to say me he loveth me. Give it up Put it up Not enough Not enough Not enough I need it I need it Out of control [After-Chorus:] Give it up just let your body Out of control Give it up just let your body, out of control, Give it up just let your body, out of control, Give it up just let your body, out of control, Give it up just let your body, out of control, Give it up just let your body, out of control, Give it up just let your body, out of control, Give it up just let your body, out of control, Give it up just let your body, out of control, (Verse 2 (Nicki Minaj):) Wobbledy wobble Wo-wo-wobble wobbin\\' Ass so fat, All these bitches, Pussies is throbbin\\' Bad bitches I\\'m your leader Phantom by the meter Somebody point me to the biggest ass-eater Tell em \"Pussy Clean\" I tell em \"Pussy Squeaky\" Niggas give me brain \\'Cause all these niggas geeky If he got a mandingo I buy him a dashiki And bust this pussy Open in the islands Of Waikii-i-i-i-i (Chorus) (After-Chorus) (Verse 3 (Iggy Azalea):) Drop it, drop it, drop it My bitches yeah they drop it I see you on that pole Work that shit I pay for college Supportin you I rain on you Now drop it like its hottest Benji, benji, Benjamin, my, Thats the only topic Rock, make it rock Uh, girl bounce that ass Pop it girl dont stop it Its D.R.U.G.S. we got cash I wanna see that ass go Speed it up now go slow Ass low ass low (Chorus) (After-chorus) One, Two I think I love you You got ripped jeans I\\'m only 19 What do you wanna do? You got your cigarette I got my headset We\\'re two of a kind You\\'re spades and I\\'m diamonds And you know that too Yeah you can see clearly That I am the one you want But I must admit that I\\'m everything you\\'re not Yeah I am red, you are blue I\\'m old school and you\\'re so new But I guess I could forgive you tonight When you\\'re cold, I like to burn I cut lines, you wait you turn But I guess I could forgive you tonight Tonight, tonight, tonight Don\\'t shoot My heart is on mute Our physical dream Is only skin deep How do you wanna groove? Bang Bang Should hear my gun ring You\\'re mine, you\\'re there You\\'ll hear that I am all up inside your head Now I can see clearly That I am the one you want But I must admit that I\\'m everything you\\'re not Yeah I am red, you are blue I\\'m old school and you\\'re so new But I guess I could forgive you tonight When you\\'re cold, I like to burn I cut lines, you wait your turn But I guess I could forgive you tonight Tonight, tonight, tonight You won\\'t forget me when I\\'m gone This feels so good, it can\\'t be wrong I recommend a one night stand I know we\\'re just friends But you\\'re my kind of man Just for tonight Just for tonight Just for tonight Even though I\\'m red, you are blue I\\'m old school and you\\'re so new I know we could be great for tonight When you\\'re cold, I\\'ll make it burn You\\'ll never have to wait your turn Yeah I guess I could forgive you tonight Yeah I am red, you are blue I\\'m old school and you\\'re so new But I guess I could forgive you tonight When you\\'re cold, I like to burn I cut lines, you wait your turn But I guess I could forgive you tonight Tonight, tonight, tonight Groove. Slam. Work it back. Filter that. Baby bump that track. Groove. Slam. Work it back. Filter that. Baby bump that track. Groove. Slam. Work it back. Space cowboy just play that track. Gaga in the room. So starstruck cherry cherry cherry cherry boom boom. Rollin\\' up to the club on the weekend Stylin\\' out to the beat that you\\'re freakin\\' Fantasize I\\'m the track that you\\'re tweakin\\' Blow my heart up put your hands on my waist pull the fader Run it back with original flavor Cue me up I\\'m the twelve on your table I\\'m so starstruck I\\'m so starstruck Baby cause you blow my heart up I\\'m so starstruck Baby cause you blow my heart up I\\'m so starstruck Baby cause you blow my heart up I\\'m so starstruck Baby cause you blow my heart up Baby now that were alone gotta request Would you make me number one on your playlist? Put your Dre headphones with the left side on Wanna scratch it back and forth, back and forth uh huh Put your hands on my waist pull the fader Run it back with original flavor Get the breakdown first Up until the chorus To the verse Re-ke-re-ke-reverse I\\'m so starstruck Baby cause you blow my heart up I\\'m so starstruck Baby cause you blow my heart up Hey lil\\' mamma like really, really is that him I done seen you before what you got on them big rims Enter that cash flow, I\\'m like baby you don\\'t trip So shawty say hand over your signature right here Like adjust the dotted line and I suppose to sign How she at it, a fanatic and I think it\\'s goin\\' down She so star struck, the gal all stuck I should have had an overdose too many Starbucks Ain\\'t never seen a balla, paper that stack taller Notice who let the top back on the Chevy Impala Hummers and all that fully loaded with two spoilers What did you call that when you showed up with two dollars But that\\'s another chapter, son of a bachelor All on me, just spotted a baby actor Complete swagga, they go the dagga Got what she wants, shawty happily ever after I\\'m so starstruck Baby cause you blow my heart up I\\'m so starstruck Baby cause you blow my heart up Groove. Slam. Work it back. Filter that. Baby bump that track. Groove. Slam. Work it back. Filter that. Baby bump that track. Groove. Slam. Work it back. Space cowboy just play that track. Baby now that were alone gotta request Would you make me number one on your play list? Put your Dre headphones with the left side on Wanna scratch it back and forth, back and forth uh huh Put your hands on my waist pull the fader Run it back with original flavor Get the breakdown first Up until the chorus To the verse I\\'m so starstruck I\\'m so starstruck Baby cause you blow my heart up I\\'m so starstruck Baby cause you blow my heart up 1, 2, 3 Nowhere, Yeah we\\'re going nowhere fast Maybe this time, I\\'ll be yours you\\'ll be mine Crazy, get your ass in my bed Baby you\\'ll be, just my summer boyfriend Summer boy Let\\'s get lost you can take me home Somewhere nice we can be alone Bikini tops, coming off Don\\'t be sad when the sun goes down You\\'ll wake up and I\\'m not around Ive got to go oh, oh, oh, oh, oh We\\'ll still have the summer after all Sometimes, you might start a fight But I\\'m happy pretending we\\'re alright (alright) Sun glasses, cover up my green eyes My martini glistens, yeah While checking out other guys Summer boy Let\\'s get lost you can take me home Somewhere nice we can be alone Bikini tops, coming off Don\\'t be sad when the sun goes down You\\'ll wake up and I\\'m not around Ive got to go oh, oh, oh, oh, oh We\\'ll still have the summer after all Hey there summer boy Let\\'s go for a drive Take me for a ride Never gonna close our eyes Hey there summer boy I\\'m a busy girl Don\\'t got too much time Hurry up before I change my mind Hey there summer boy I\\'m taking off my heels Lets go for a run Have a little summer fun Have a little summer fun Summer boy Lets get lost you can take me home Somewhere nice we can be alone Bikini tops, poppin\\' off Don\\'t be sad when the sun goes down You\\'ll wake up and I\\'m not around You\\'ve got to go oh, oh, oh, oh, oh We\\'ll still have the summer after all Lets get lost you can take me home Somewhere nice we can be alone I\\'ve got my summer-summer boy Don\\'t be sad when the sun goes down You\\'ll wake up and I\\'m not around I\\'ve got my summer-summer boy And we\\'ll still have the summer after all I\\'ve got my, Yes I\\'ve got my, I\\'ve got my summer-summer boy. Cherry cherry, boom boom GaGa Boy we\\'ve had a real good time and I wish you the best on your way, eh I didn\\'t mean to hurt you I never thought we\\'d fall out of place, eh eh I have something that I love long-long But my friends keep on telling me that something\\'s wrong Then I met someone And eh, there\\'s nothing else I can say (Eh, eh) There\\'s nothing else I can say (Eh, eh) I wish you never looked at me that way (Eh, eh) There\\'s nothing else I can say (Eh, eh) Not that I don\\'t care about you Just that things got so complica- eh eh I met somebody cute and funny Got each other and that\\'s money, eh eh I have something that I love long-long But my friends keep on telling me that something\\'s wrong Then I met someone And eh, there\\'s nothing else I can say (Eh, eh) There\\'s nothing else I can say (Eh, eh) I wish you never looked at me that way (Eh, eh) There\\'s nothing else I can say (Eh, eh) (Eh, eh) I have something that I love long-long so-long But my friends keep on telling me that something\\'s wrong Then I met someone And eh, there\\'s nothing else I can say (Eh, eh) (Eh, eh) There\\'s nothing else I can say (Eh, eh) Wish you never looked at me that way (Eh, eh) There\\'s nothing else I can say (Eh, eh) Wish you never looked at me that way (Eh, eh) There\\'s nothing else I can say Cherry cherry, boom boom Eh eh, oh yeah All I can say is eh, eh Greetings from Eros God of sexual desire Son of Aphrodite Lay back and feast as this audio guides you through new and exciting positions I wanna be the girl under you I wanna be your G.U.Y. Yeah I wanna be the grave, unearth you Our sex doesn\\'t tell us no lies I\\'m gonna wear the tie, want the power to leave you I\\'m aimin\\' for full control of this love (Of this love) Touch me touch me, don\\'t be sweet Love me love me, please retweet Let me be the girl under you that makes you cry (Chorus) I wanna be that G.U.Y. I wanna be that G.U.Y. I wanna be that G.U.Y. The girl under you, G.U.Y. I\\'m gonna say the word and own you You\\'ll be my G.I.R.L Got our romance and loves to hold you Know you\\'ll wear my makeup well I\\'m gonna wear the tie, want the power to leave you I\\'m aimin\\' for full control of this love (Of this love) Touch me touch me, don\\'t be sweet Love me love me, please retweet Let me be the girl under you that makes you cry (Chorus) I wanna be that G.U.Y. I wanna be that G.U.Y. I wanna be that G.U.Y. The girl under you, G.U.Y. I don\\'t need to be on top to know I\\'m worth it Cuz I\\'m strong enough to know the truth I just want it to be hot Because I\\'m best when I\\'m in love, and I\\'m in love with you Touch me touch me (Mount your goddess) Touch me touch me (A summer moon comes into full phase) Get on top of me (And Mars\\' warm spirit rams into the atmosphere) Touch me touch me, don\\'t be shy I\\'m in charge like a G.U.Y. I\\'ll lay down, face up this time Under you, like a G.U.Y. (Chorus) I wanna be that G.U.Y. I wanna be that G.U.Y. I wanna be that G.U.Y. The girl under you, G.U.Y. I wanna be that G.U.Y. I\\'ll wrap you right up, G.U.Y. I\\'ll lie down face up, G.U.Y. The girl under you, G.U.Y. Achtzehn, sechzen Fourteen, vierzehn Drei eins Nein Zedd! Nein Zedd! Nein Zedd! Nein Zedd! [Verse 1: Lady Gaga] I, I feel good I walk alone But then I trip over myself and I fall I, I stand up, and then I\\'m OK But then you print some shit that makes me wanna scream [Pre-Chorus: Lady Gaga] So do what you want What you want with my body Do what you want Don\\'t stop, let\\'s party Do what you want What you want with my body Do what you want What you want with my body Write what you want Say what you want about me If you\\'re wondering Know that I\\'m not sorry Do what you want What you want with my body What you want with my body [Chorus: Lady Gaga] You can\\'t have my heart, and You won\\'t use my mind but Do what you want (with my body) Do what you want (with my body) You can\\'t stop my voice, cause You don\\'t own my life but Do what you want (with my body) Do what you want (with my body) [Verse 2: R. Kelly] Early morning, longer nights Tom Ford, private flights Crazy schedule, fast life I wouldn\\'t trade it in, cause it\\'s our life (Let\\'s slow it down) I could be the drink in your cup I could be the green in your blunt Your pusher man Yeah I got what you want You want to escape All of the crazy shit You\\'re Marilyn, I\\'m the president And I love to hear you sing, girl [Pre-Chorus 2: R. Kelly] Do what I want Do what I want with your body Do what I want Do what I want with your body Back of the club, taking shots, getting naughty No invitations, it\\'s a private party Do what I want Do what I want with your body Do what I want Do what I want with your body Yeah we taking these haters and we roughing em up And we lay in the club like we don\\'t give a fuck [Chorus: Lady Gaga] You can\\'t have my heart, and You won\\'t use my mind but Do what you want (with my body) Do what you want (with my body) You can\\'t stop my voice, cause You don\\'t own my life but Do what you want (with my body) Do what you want (with my body) [Bridge: Lady Gaga] Sometimes I\\'m scared I suppose If you ever let me go I would fall apart If you break my heart So just take my body And don\\'t stop the party [Chorus: Lady Gaga] You can\\'t have my heart, and You won\\'t use my mind but Do what you want (with my body) Do what you want (with my body) You can\\'t stop my voice, cause You don\\'t own my life but Do what you want (with my body) Do what you want (with my body) [Outro until fade: Lady Gaga] Do what you want with me What you want with my body Do what you want with me What you want with my body, girl Do what you want with me What you want with my body Do what you want with me What you want with my body, girl Help me now Do what you want with my body Do what you want with my body... I killed my former and Left her in the trunk on Highway 10 Put the knife under the hood If you find it Send it straight to Hollywood Hahahaha Hahahaha Hahahaha Aura-a-a-a Aura-a-a-a I\\'m not a wandering slave I am a woman of choice My veil is protection for the gorgeousness of my face You want to fancy me cause there\\'s always one man to love But in the bedroom, The size of them\\'s more than enough Do you wanna see me naked, lover? Do you wanna peek underneath the cover? Do you wanna see the girl who lives behind the aura, behind the aura? Do you wanna touch me, cosmic lover Do you wanna be the peek underneath the cover? Do you wanna see the girl who lives behind the aura Behind the aura, Behind the aura, Behind the aura Enigma popstar is fun She wear burqa for fashion It\\'s not a statement as much as just a move of passion I may not walk on your street Or shoot a gun on your soil I hear you screaming Is it because of pleasure and toil Dance, Sex ,ART POP, Dance, Sex, ART POP Do you wanna see me naked, lover? Do you wanna be peek underneath the cover? Do you wanna see the girl who lives behind the aura, behind the aura? Do you wanna touch me, cosmic lover Do you wanna be the peek underneath the cover? Do you wanna see the girl who lives behind the aura? Behind the aura, Behind the aura, Behind the curtain, Behind the burqa. ARTPOP Shawty, watcha name is? Them hustlas keep on talkin\\' They like the way I\\'m walkin\\' You saying that you want me? So press record, I\\'ll let you film me On your video phone Make a cameo Take me on your video phone I can handle you Watch me on your video phone On your video, video If you want me you can watch me on your video phone I love how you approach me Fresh white, with your pants, hanging grown man low Everything you sayin\\' soundin\\' good to me No need to convince me anymore Swagger, it\\'s right, one blade is tight And I smell your cologne in the air Baby, you doin\\' somethin\\' right You just cancelled every other man here You say you love my bag, and the color of my nails You can see that I got it goin\\' on I wanna make sure you remember me So I\\'m gon\\' leave my number on your video phone I got no time for frontin\\' I know just what I\\'m wantin\\' If it\\'s gonna be you and me When I call, they better see me On your video screen Them hustlas keep on talkin\\' They like the way I\\'m walkin\\' You saying that you want me? So press record, I\\'ll let you film me On your video phone Make a cameo Take me on your video phone I can handle you Watch me on your video phone On your video, video If you want me you can watch me on your video phone You\\'re my phone star And I\\'m happy when my lights flashin\\' Cause you on my receiver Hubba, hubba Honey, baby is so sexy that he should win an Oscar And when you miss me Just remember that I always got you with me I\\'ll be your Gene, you\\'ll be my Brando I\\'mma put you in my move if you think that you can handle (Can you handle it?) I know you like that Turn you into a star, I got it like that Baby, do fight it Cuz when I miss your call I hit you right back (On my video phone) Them hustlas like my fashion (You wanna video me?) They like the way I\\'m walkin\\' (You like what you see?) You sayin\\' that you want me (Go on and video me) So press record, I\\'ll let you film me On your video phone Make a cameo Take me on your video phone I can handle you Watch me on your video phone On your video, video If you want me you can watch me on your video phone Can you handle it? Can you handle it? (Tell \\'em, B) Can you handle it? Can you handle it? You like what you see? (Can you handle it?) You wanna video me? (Can you handle it?) You like what you see? (Can you handle it?) Go on and video me (Can you handle it?) You like what you see? (Can you handle it?) You wanna video me? You know them Gs, they be hollerin\\', \\'specially them hot ones Brooklyn, Atlanta, Houston, to New Orleans When they see me, they be like \"Yo B, let me call you\" You breakin\\' my focus, boy, you cute and you ballin\\' You like it when I shake it? Shawty on a mission, what yo name is? What, you want me naked? If you likin\\' this position you can tape it On your video phone Hustla keep on talkin\\' You like the way it\\'s poppin\\' You sayin\\' that you want me Press record and baby, film me On your video phone Make a cameo Take me on your video phone I can handle you Watch me on your video phone On your video, video If you want me you can watch me on your video phone Uh, uh, uh, ah, uh Uh, uh, uh, ah, uh If you want me you can watch me on your Video phone VERSE: Leave the coffin open when I go Leave my pearls and lipstick on so everybody knows Pretty will be the photograph I leave I\\'m laying down on famous knives so everybody sees Bleach out all the dark I\\'ll swallow each peroxide shot Someone I know could love and save me from myself But maybe I\\'ll just clean the shit off these fancy shoes I\\'ll be a Princess Die and die with you VERSE: I\\'m hungry from an anorexic heart I\\'ve been trying to tell you how I feel But was never very smart I\\'m wrapped in silks made for Egyptian queens I\\'ll do it in the swimming pool So everybody sees Bleach out all the dark I\\'ll swallow each peroxide shot Maybe someone I love could save me from myself Or maybe I\\'ll just clean the shit off these fancy shoes I\\'ll be a Princess Die and die with you CHORUS: I wish that I was strong I wish that I was wrong I wish that I could cope But I took pills and left a note POST-CHORUS: Princess die I want to see her cry Princess die Princess die We want to watch her cry Princess die REPEAT CHORUS BRIDGE: I wish that I could go in my rich boyfriends limo Right after he proposed with a 16-carat stone wrapped in rose gold OUTRO: The final act of life will be my own hands to do, Ill be a Princess and die with you Applaud. Approve. Tap down those boots while I beat around Let\\'s funk downtown Tap down those boots while I beat around Funk me downtown I lay around, touch myself to pass the time I fell down, I wish you were mine I close my eyes Take a breath and I picture us in a place I can\\'t recognize In the fire I call your name out (call your name out) Up full night tryin\\' to rub the pain out (rub the pain out) I\\'m singin\\' Baby don\\'t cry Baby don\\'t cry Dancin\\' in circles, feels good to be lonely Baby don\\'t cry Baby don\\'t cry I\\'m singin\\' dancin\\' in circles, feels good to be lonely Tap down those boots while I beat around Let\\'s funk downtown Tap down those boots while I beat around Funk me downtown I fool myself Swirl around as if I\\'m someone else Your hands are mine I do a trick Pretend that I am you until it clicks I come alive Come alive In the fire I call your name out (call your name out, call your name out) Up full night tryin\\' to rub the pain out (rub the pain out) I\\'m singin\\' Baby don\\'t cry Baby don\\'t cry I\\'m dancin\\' in circles, feels good to be lonely Baby don\\'t cry Baby don\\'t cry I\\'m singin\\' dancin\\' in circles, feels good to be lonely Tap down those boots while I beat around Let\\'s funk downtown Tap down those boots while I beat around Funk me downtown Tap down those boots while I beat around Let\\'s funk downtown Tap down those boots while I beat around Funk me downtown Hurts inside, but not this time All the things that are on my mind Vanish as I touch myself Call out loud for you Oh, can you hear me singin\\'? Baby don\\'t cry Baby don\\'t cry Dancin\\' in circles, feels good to be lonely Baby don\\'t cry Baby don\\'t cry I\\'m singin\\' Dancin\\' in circles, feels good to be lonely Tap down those boots while I beat around Let\\'s funk downtown Tap down those boots while I beat around Funk me downtown Tap down those boots while I beat around Let\\'s funk downtown Tap down those boots while I beat around Funk me downtown Cork\\'s off, it\\'s on The party\\'s just begun I promise This drink is my last one I know I fucked up again Because I lost my only friend God forgive my sins Don\\'t leave me, I Oh I will hate myself until I die My heart would break without you Might not awake without you Been hurting low, from living high for so long I\\'m sorry, and I love you Sing with me, \"Bell Bottom Blue\" I\\'ll keep on searching for an answer cause I need you more than dope I need you more than dope Need you more than dope Need you more than dope I need you more than dope Toast one last puff And two last regrets Three spirits and Twelve lonely steps Up heaven\\'s stairway to gold Mine myself like coal A mountain of a soul Each day, I cry Oh, I feel so low from living high My heart would break without you Might not awake without you Been hurting low, from living high for so long I\\'m sorry, and I love you Sing with me, \"Bell Bottom Blue\" I\\'ll keep searching for an answer cause I need you more than dope I need you more than dope I need you more than dope I need you more than dope I need you more than dope I need you more Need you more I need you more than dope [Verse 1] I always thought it was you, You always thought it was me. We always thought we were it, Seemed like a real perfect fit, Those Brooklyn Nights set us free. I always thought even though, We were so young we could grow. Up in the end it\\'d be us, We\\'d take the F or the bus, Where Brooklyn Nights set us free. [Chorus] Its not that I don\\'t wanna love you Its not that I\\'m really over it, you know (you know) Its just that I can\\'t watch us bleed to death When we used to be Brooklyn Nights happy. [Verse 2] I miss our cheap chandelier \\'Member when dad hung it there? And we would watch Rocky IV, The one where the Russian scored, I loved Brigitte Nielsen\\'s hair. I\\'d call you my champion Thought we had already won And cracked open our last beer, Falling asleep in our tears, Those Brooklyn Nights set us free. [Chorus] It\\'s not that I don\\'t wanna love you I\\'ts not that I\\'m really over it, you know (you know) It\\'s just that I can\\'t watch us bleed to death When we used to be Brooklyn Nights happy. [Bridge] I found an old pair of Keys in my purse that opened The lockup we shared How did they get there, jerk? I wanna see you there I wanna make it work. I didn\\'t brush my hair And my lashes are falling Off of seven years Of our bad luck dating. I want one last night there, A Brooklyn Night affair. [Chorus] Its not that I don\\'t wanna love you Its not that I\\'m really over it, you know (you know) Its just that I can\\'t watch us bleed to death When we used to be Brooklyn Nights happy. [Outro] Its not that I don\\'t want to love you Cause I really tried, and I Just wanna hang with the old you For just one Brooklyn Night adieu Have a drink with your former self We both won\\'t act like someone else Maybe then we\\'d both tell the truth For just one Brooklyn Night adieu Huh oh Yeah yeah Huh oh Whoa woa Oh I I feel good I walk alone But then I trip over myself and I fall, I I stand up And then I\\'m OK But then you print some shit that makes me want to scream So do what you want, what you want with my body Do what you want, don\\'t stop, let\\'s party Do what you want, what you want with my body Do what you want, what you want with my body Write what you want, say what you want \\'bout me If you\\'re wondering, know that I\\'m not sorry Do what you want, what you want with my body What you want with my body! You can\\'t have my heart and you won\\'t use my mind but Do what you want with my body Do what you want with my body You can\\'t stop my voice \\'cause You don\\'t own my life but Do what you want with my body Do what you want with my body My bones hurt from all the show hmm But I don\\'t feel the pain \\'cause I\\'m a pro I I sink in and then I\\'m okay eh, \\'Cause my body belongs to you when I\\'m on stage eh So do what you want, what you want with my body Do what you want, don\\'t stop, let\\'s party Do what you want, what you want with my body Do what you want, what you want with my body Write what you want, say what you want \\'bout me If you\\'re wondering, know that I\\'m not sorry Do what you want, what you want with my body What you want with my body! You can\\'t have my heart and You won\\'t use my mind but Do what you want with my body Do what you want with my body You can\\'t stop my voice \\'cause You don\\'t own my life but Do what you want with my body Do what you want with my body Sometimes I\\'m scared I suppose If you ever let me go I would fall apart (apart) If you break my heart So just take my body And don\\'t stop the party (ey!) You can\\'t have my heart And you won\\'t use my mind but Do what you want with my body Do what you want with my body You can\\'t stop my voice \\'cause You don\\'t own my life but Do what you want with my body Do what you want with my body Do what you want with me What you want make it ? What you want will make us cleaner What you want with my body Do what you want with me What you want with my body Do what you want with me What you want with my body, world Help me now What you want with my body (world)(what you want with my body) Do what you want with my body Come to me, in all your glamour, and cruelty Just do the thing that you do And I\\'ll undress you Give it tight, sometimes the simplest move is right The melody that you choose Can rescue you? A hybrid can withstand these things My heart can beat with bricks and strings My artpop could mean anything [Chorus] We could, we could, belong together (artpop) We could, we could, belong together (artpop) We could, we could, belong together (artpop) ARTPOP, ARTPOP Come to me, without your sub-techs and fantasy Just do the thing that you do For my love is you Love is fly, I\\'ve flown my beaches with lover\\'s side The color\\'s palette you choose Can profit you A hybrid can withstand these things My heart can beat with bricks and strings My artpop could mean anything Could try to sell you out or I Could show you all the reasons why my artpop could mean anything [Chorus] We could, we could, belong together (artpop) We could, we could, belong together (artpop) We could, we could, belong together (artpop) ARTPOP, ARTPOP [Chorus] We could, we could, belong together (artpop) We could, we could, belong together (artpop) We could, we could, belong together (artpop) ARTPOP, ARTPOP Brushes with darkness wont help you create your destiny of self but Artpop could mean anything Anything I tried to sell myself, but I am really laughing Because I just love the music not the bling Music not the bling [Chorus] We could, we could, belong together (artpop) We could, we could, belong together (artpop) We could, we could, belong together (artpop) ARTPOP, ARTPOP [Chorus] We could, we could, belong together (artpop) We could, we could, belong together (artpop) We could, we could, belong together (artpop) ARTPOP, ARTPOP Free my mind, ARTPOP You make my heart stop Hey girl, can you hear me? Are you holding out your heart? Hey girl, do you feel me? Sometimes I go too far Hey girl, it ain\\'t easy I know it\\'s pulling me apart But darlin\\', don\\'t you leave me Baby, don\\'t you leave me Hey girl, hey girl We can make it easy if we lift each other Hey girl, hey girl We don\\'t need to keep on one-in\\' up another Hey girl, hey girl Hey girl, hey girl If you lose your way Just know that I got you Just know that I got you Lady is it lonely? I been callin\\' out your name Tell me that you need me \\'Cause I need you just the same Everyday a heartache I\\'m just tryin\\' to keep it sane But I know you believe me Baby don\\'t you leave me Hey girl, hey girl We can make it easy if we lift each other Hey girl, hey girl We don\\'t need to keep on one-in\\' up another Hey girl, hey girl Hey girl, hey girl If you lose your way Just know that I got you Help me hold my hair back Walk me home \\'cause I can\\'t find a cab And we dance down the bowery Held hands like we were seventeen again And then it\\'s four AM The sun is creepin\\' up again Don\\'t you leave me Oh, darling don\\'t you leave me Hey girl, hey girl We can make it easy if we lift each other Hey girl, hey girl We don\\'t need to keep on one-in\\' up another Hey girl, hey girl Hey girl, hey girl If you lose your way Just know that I got you Just know that Just know that I got you Just know that Just know that Just know that Help me hold my hair back Walk me home \\'cause I can\\'t find a cab And we dance down the bowery Held hands like we were seventeen again Cher: I don\\'t know why you hurt inside, or what was said to make you cry. I hope that you can see, you are the greatest thing to me. I dont wa-wanna waste another day, without telling you that baby youre great. And I can see it written on your face, G-R-E-A-T, its all that you can be. \\'Cause when I\\'m with you, I fall apart, to heal your permanently broken heart. Baby, you\\'re the greatest to me, know no matter what, what, what. I don\\'t know why you hurt inside, or what was said to make you cry. I hope that you can see, you are the greatest thing to me. And when, you\\'re feeling like you\\'re not enough, I\\'ll give you wings, Ill lift you up. I hope that you can see, you are the greatest, greatest thing to me. Lady Gaga: When all your thoughts are dark and insecure, Ill build you a light, Cause baby Im sure that loving you has made me better, I take on your shadows, and make sure that you shine. Cher and Lady Gaga: \\'Cause when I\\'m with you, I fall apart, to heal your permanently broken heart. Baby, you\\'re the greatest to me, know no matter what, what, what. I don\\'t know why you hurt inside, or what was said to make you cry. I hope that you can see, you are the greatest thing to me. And when, youre feeling like you\\'re not enough, I\\'ll give you wings, Ill lift you up. I hope that you can see, you are the greatest, greatest thing to me. Cher: The greatest thing, greatest thing, greatest thing to me, gonna re-repeat myself so I know that yall are listening. The greatest thing, greatest thing, greatest thing to me, gonna re-repeat myself so I know that yall are listening. Cher and Lady Gaga: \\'Cause when I\\'m with you, I fall apart, to heal your permanently broken heart. Baby, you\\'re the greatest to me, know no matter what, what, what. I don\\'t know why you hurt inside, or what was said to make you cry. I hope that you can see, you are the greatest thing to me. And when, youre feeling like you\\'re not enough. I\\'ll give you wings, Ill lift you up. I hope that you can see, you are the greatest, greatest thing to me. I killed my former and Left her in the trunk on highway ten Put the knife under the hood If you find it, send it straight to Hollywood Ha ha ha ha ha ha ha ha ha ha ha ha Ha ha ha ha ha ha ha ha ha ha ha ha Ha ha ha ha ha ha ha ha ha ha ha ha Aura-a-a-a aura-a-a-a Aura-a-a-a aura-a-a-a Aura-a-a-a aura-a-a-a I\\'m not a wandering slave I am a woman of choice My veil is protection for the gorgeousness of my face You ought to pity me \\'cause was always one man to love But in the bedroom the size of him\\'s more than enough Do you wanna see me naked, lover? Do you wanna peek underneath the cover? Do you wanna see the girl who lives behind the aura, behind the aura? Do you wanna touch me, cosmic lover? Do you wanna peek underneath the cover? Do you wanna see the girl who lives behind the aura? Behind the aura, behind the aura, behind the aura? Enigma pop star is fun, she wear burqa for fashion It\\'s not a statement as much as just a move of passion I may not walk on your street or shoot a gun on your soil I hear you screaming, is it because of pleasure or toil? Dance, sex, art, pop, tech Dance, sex, art, pop, tech Do you wanna see me naked, lover? Do you wanna peek underneath the cover? Do you wanna see the girl who lives behind the aura, behind the aura? Do you wanna touch me, cosmic lover? Do you wanna peek underneath the cover? Do you wanna see the girl who lives behind the aura? Behind the aura, behind the curtain, behind the burga Yeah man, play that New York drum, Homer Show \\'em how we do it! Downtown Just another way to prove I love you and it\\'s hard today I\\'ll lay back in my chair and find a way And when you say that thing that you say that makes me mad I\\'ll turn away, I\\'ll turn away, I\\'ll turn away And think of different ways to keep my spirits up And choreograph hours with playful, joyous thoughts We both know I could learn a thing or two About relaxing, hey, I love you And after all, it\\'s just another day Oh, I could use some two or three Or other kind of ways to be But today I won\\'t be so hard on me I\\'ll walk alone down a different street And smile at all the new strange I meet And pick up unique style, I\\'ll kick around today And create simple thoughts, I\\'ll laugh in humble ways We both know I could learn a thing or two About behaving, but I love you And after all, it\\'s just another day Come on, Mark Ladies and gentlemen, Brian Newman We both know I could learn a thing or two About behaving, but I love you And after all, it\\'s just another day And after all it\\'s just another day Midnight rush, with a pen in my hand Dink in link in, sand-script with a fan Remembering me, before it began Sometimes I felt so def in a jam But the ones who loved me, told me to stop Like home girl can\\'t catch shit if it drops A superwoman chick, you know that I am Some shit don\\'t fly by me in a man \\'Cause I do not accept any less Than someone just as real, as fabulous Don\\'t want no paper gangsta Won\\'t sign away my life to Someone whose got the flavor But don\\'t have no follow through Don\\'t want no paper gangsta Wont sign no monkey papers I don\\'t do funny business Not interested in fakers Don\\'t want no paper gangsta Oh oh Don\\'t want no paper gangsta Oh oh Don\\'t want no paper gangsta Don\\'t want no paper gangsta Got something really shiny to start Want me to sign there on your range rover heart? I\\'ve heard it before Yeah, the dinners were nice Till your diamond words melted into some ice You should been rapping to the beat of my song Mr. California, Paper gangsta and I\\'m lookin\\' for love, not an Not an empty page full of stuff that means nothing but You\\'ve been played \\'Cause I do not accept any less Than someone just as real, as fabulous Don\\'t want no paper gangsta Won\\'t sign away my life to Someone whose got the flavor But don\\'t have no follow through Don\\'t want no paper gangsta Wont sign no monkey papers I don\\'t do funny business Not interested in fakers Don\\'t want no paper gangsta Oh oh Don\\'t want no paper gangsta Oh oh Don\\'t want no paper gangsta Don\\'t want no paper gangsta Don\\'t want no paper gangsta Won\\'t sign away my life to Someone whose got the flavor But don\\'t have no follow through Don\\'t want no paper gangsta Wont sign no monkey papers I don\\'t do funny business Not interested in fakers Don\\'t want no paper gangsta Won\\'t sign away my life to Someone whose got the flavor But don\\'t have no follow through Don\\'t want no paper gangsta Wont sign no monkey papers I don\\'t do funny business Not interested in fakers Don\\'t want no paper gangsta Oh oh Don\\'t want no paper gangsta Oh oh Don\\'t want no paper gangsta Don\\'t want no paper gangsta Don\\'t want no paper gangsta Don\\'t want no paper gangsta Greetings from himeros God of sexual desire, son of aphrodite Lay back, and feast as this audio guides you through new and exciting positions I wanna be the girl under you (oh yeah) I wanna be your g. U.y (yeah) I wanna be the grave and earth you (oh yeah) Our sexes tell us no lies I\\'m gonna wear the towel, the power to leave you I\\'m aiming for full control of this love (of this love) Touch me, touch me, don\\'t be sweet Love me, love me, please retreat Let me be the girl under you that makes you cry I wanna be that guy (G. U.Y.) I wanna be that guy (G. U.Y.) I wanna be that guy (G. U.Y.) The girl under you (guy) I\\'m gonna say the word And own you (oh yeah) You\\'ll be my (g. I.r.l) Guy, I\\'m romance and love\\'s to hold you (oh yeah) Know, you wear my make-up well I\\'m gonna wear the towel, the power to leave you I\\'m aiming for full control of this love (of this love) Touch me, touch me, don\\'t be sweet Love me, love me, please retreat Let me be the girl under you that makes you cry I wanna be that guy (G. U.Y.) I wanna be that guy (G. U.Y.) I wanna be that guy (G. U.Y.) The girl under you (guy) I don\\'t need to be on top To know what it does, I\\'m strong enough to know the truth I just want it to be hot Because I\\'m best when I\\'m In love, and i\\'m in love with you (Guy) touch me touch me Natural goddess (guy) touch me touch me A soul comes into full phase (guy) get on top of me And mars were in spirit rams into the atmosphere (guy I want to be that guy) Touch me touch me, don\\'t be shy I\\'m in charge like a G. U.Y. I\\'ll lay down face up this time, under you like a G. U.Y. I wanna be that guy (G. U.Y.) I wanna be that guy (G. U.Y.) I wanna be that guy (G. U.Y.) The girl under you guy I wanna be that guy (G. U.Y.) I\\'ll wreck you right up guy (G. U.Y.) I\\'ll lie down face up guy (G. U.Y.) (achtzehn) The girl under you guy! (sechzehn) Fourteen Vierzehn Drei, eins Nein zedd Nein zedd Nein zedd Nein zedd Oh oh oh yeah Babe Last time I thought we had this talk Boy you were getting ready to leave I thought that baby you were done Cause for a while you could barely look at me This time I thought that we`d be fine That I`d forget the things that you said I tried crossing out your words But baby you can not forget the past Oh oh oh oh babe Can not forget the past Oh oh oh oh, Still baby (Babe) I\\'m so unpredictable you don\\'t know what to think So unemotional Wonder if I\\'m even still in love You see I don\\'t know what to tell you now It\\'s always harder the second time around I\\'m so unpredictable Just like you used to be So unemotional Boy I can\\'t forget the way you were with me I don\\'t know what to tell you now It\\'s always harder the second time around the second time around We tried going back to Joe\\'s That always was our favorite place Long rides baby by the coast Do you remember where we stayed Last time we where hanging out You were acting kind of strange Now it\\'s the second time around I\\'m sorry now it\\'s me that feels this way Oh oh oh oh babe (My heart just speaks to me) Its me that feels this way Oh oh oh babe I now you are the one that is hurting I\\'m so unpredictable You don\\'t know what to think So unemotional Wonder if I\\'m even still in love You see I don\\'t know what to tell you now It\\'s always harder the second time around I\\'m so unpredictable Just like you used to be So unemotional Boy I can\\'t forget the way you were with me I don\\'t know what to tell you now It\\'s always harder the second time around I`m not sure the best of way to say this But I can\\'t pretend to love you no more babe This ferris wheel`s got me crazy Maybe the second time around is not meant for us babe Not meant for us babe hey-yeah! I\\'m so unpredictable You don\\'t know what to think So unemotional Wonder if I\\'m even still in love You see I don\\'t know what to tell you now It\\'s always harder the second time around I\\'m so unpredictable Just like you used to be So unemotional Boy I can forget the way you were with me I don\\'t know what to tell you now Its always harder the second time around I\\'m so unpredictable You don\\'t know what to think So unemotional Wonder if I\\'m even still in love You see I don\\'t know what to tell you now It\\'s always harder the second time around I\\'m so unpredictable Just like you used to be So unemotional Boy I can forget the way you were with me I don\\'t know what to tell you now It\\'s always harder the second time around The second time around I don\\'t want to rule the world There\\'s a change I\\'m here to see I walk alone on a lonely road I\\'ve many wonders to believe You can try to hear the talk Or selling out a masterpiece You\\'ve got a trunk full of gold I\\'ve got someone to believe This ain\\'t about Kings or Queens Ain\\'t about You and Me. Do you need a dose of truth? What am I supposed to do? How can you deal with it (With it) Do you just avoid the guilt Something you gotta I know, If you can deal with me, Shut your mouth, sip on that TEA! It\\'s been so long Since I\\'ve had a sip and I get this feeling I need a green detox The truth will be the winner tonight Red one lady gaga haha baby baby baby baby i anit gonna runaway runaway run run run run away Feel the adrenaline moving under my skin It\\'s an addiction such an eruption Sound is my remedy feeding me energy Music is all I need. Baby, I just wanna dance I don\\'t really care I just wanna dance I don\\'t really care... care... care (feel it in the air... yeah) [Chorus] She\\'s being a crazy dita disco diva... and you wonder: \"Who\\'s that chick? who\\'s that chick?\" Too cold for you to keep her Too hot for you to leave her Who\\'s that chick? who\\'s that chick? Who\\'s that chick? who\\'s that chick? Who\\'s that chick? who\\'s that chick? Back on the dancefloor better not to take me home Bass kicking so hot blazing through my beating heart French kissing on the floor, heart is beating hardcore Heard everybody is getting a little sexy on the crazy juice This will end up in the news Baby, I just wanna dance I don\\'t really care I just wanna dance I don\\'t really care... care... care (feel it in the air... yeah [Chorus] She\\'s a mean and crazy dita disco diva... and you wonder: \"Who\\'s that chick? who\\'s that chick?\" Too cold for you to keep her Too hot for you to leave her Who\\'s that chick? who\\'s that chick? Who\\'s that chick? who\\'s that chick? Who\\'s that chick? who\\'s that chick? Ultra sexual, the night has got me love sprung I won\\'t stop until the sun is up oh yeah My heart is a dancer beating like a disco drum oh oh uh oh Ultra sexual, the night has got me love sprung I won\\'t stop until the sun is up oh yeah My heart is a dancer beating like a disco drum Beating like a disco drum... beating like a disco drum... [Chorus] She\\'s a mean and crazy dita disco diva... and you wonder: \"Who\\'s that chick? who\\'s that chick?\" Too cold for you to keep her Too hot for you to leave her Who\\'s that chick? who\\'s that chick? Who\\'s that chick? who\\'s that chick? Na-na-na, come on Na-na-na, come on Na-na-na, na-na come on Na-na-na, come on, come on Come on, Na-na-na-na come on Na-na-na, come on Na-na-na, na-na, come on Na-na-na, come on, come on Come on, Na-na-na-na Feels so good being bad There\\'s no way I\\'m turning back Now the pain is for pleasure, \\'cause nothing can measure Love is great, love is fine Out the box, out of line The affliction of the feeling leaves me wanting more. -chorus- \\'Cause I may be bad, but I\\'m perfectly good at it Sex in the air, I don\\'t care, I love the smell of it Stickss and stones may break my bones, But chains and whips excite me. -chorus- -chorus- \\'Cause I may be bad, but I\\'m perfectly good at it Sex in the air, I don\\'t care, I love the smell of it Stickss and stones may break my bones, But chains and whips excite me. -chorus- Na-na-na come on, come on Come on, I like it, like it Come on, come on, come on I like it, like it [Na-na-na] come on Come on, I like it, like it Come on, come on, come on I like it, like it. Love is great, love is fine Out the box, out of line The affliction of the feeling leaves me wanting more, oh-uhh. -Chorus, 1x- Na-na-na come on, come on Come on, I like it, like it Come on, come on, come on I like it, like it [Na-na-na] come on Come on, I like it, like it Come on, come on, come on I like it, like it. S, S, S & M, M, M S, S, S & M, M, M Oh, I love the feeling you bring to me Oh, you turn me on It\\'s exactly what I\\'ve been yearning for Give it to me strong And meet me in my boudoir Give my body some AHH, AHH, AHHHH, I like it, like it -Chorus, 2x- Na-na-na come on, come on Come on, I like it, like it Come on, come on, come on I like it, like it [Na-na-na] come on Come on, I like it, like it Come on, come on, come on I like it, like it. S, S, S & M, M, M S, S, S & M, M, M S, S, S & M, M, M S, S, S & M, M, M Who\\'s that chick? who\\'s that chick? The hills are alive, With the sound of music With songs they have sung For a thousand years The hills fill my heart, With the sound of music My heart wants to sing Every song it hears My heart wants to beat Like the wings of the birds That rise from the lake to the trees My heart wants to sigh Like a chime that flies From a church on a breeze To laugh like a brook When it trips and falls Over stones on its way To sing through the night Like a lark Who is learning to pray I go to the hills When my heart is lonely I know I will hear What I\\'ve heard before My heart will be blessed, With the sound of music And I\\'ll sing once more Girls in white dresses with blue satin sashes Snowflakes that stay on my nose and eyelashes Silver white winters that melt into springs These are a few of my favorite things When the dog bites When the bee stings When I\\'m feeling sad I simply remember my favorite things And then I don\\'t feel so bad Edelweiss,Edelweiss Bless my homeland forever. Climb ev\\'ry mountain Ford ev\\'ry stream Follow ev\\'ry rainbow Till you find your dream A dream that will need All the love you can give Everyday of your life For as long as you live Climb ev\\'ry mountain Ford ev\\'ry stream Follow ev\\'ry rainbow Till you find your dream I am so fab Check out I\\'m blonde I\\'m skinny I\\'m rich, And I\\'m a little bit of a bitch I wanna dress you up in silk, Taffeta Tailor these clothes to fit your guilt, what\\'s your size? This purse can hold my black card and tiara Versace promises I will, Dolce Vita What do you wanna wear this spring? What do you think is the new thing? What do you wanna wear this season? Donatella (I\\'m smokin em on full tank of gas) Mi-Mi-Bella (I\\'m a rich bitch, I\\'m the upper class) All of the day (I\\'m the pearl to your oyster, I\\'m a babe) I\\'m gonna smoke Marlboro Lights and drink Champagne (I smoke Marlboro Reds and drink Champagne) Donatella \\'Cause she walks so bad, like it feels so good Listen to her radiate her magic Even though she knows she\\'s misunderstood Voodoo, Voodoo, Voo-Don-Na-Na Walk down the runway, but don\\'t puke, It\\'s okay You just had a salad today, Boulangerie Just ask your gay friends their advice, before you Get a spray tan on Holiday, in Taipei What do you wanna wear this spring? What do you think is the new thing? What do you wanna wear this season? Donatella (I\\'m smokin em on full tank of gas) Mi-Mi-Bella (I\\'m a rich bitch, I\\'m the upper class) All of the day (I\\'m the pearl to your oyster, I\\'m a babe) I\\'m gonna smoke Marlboro Lights and drink Champagne (I smoke Marlboro Reds and drink Champagne) Donatella \\'Cause she walks so bad, like it feels so good Listen to her radiate her magic Even though she knows she\\'s misunderstood Voodoo, Voodoo, Voo-Don-Na-Na Check it out, take it in Who\\'s that bitch, she\\'s so thin (Ooh nah nah nah) She\\'s so rich, and so blonde She so fab, it\\'s beyond What do you wanna wear this spring? What do you think is the new thing? What do you wanna wear this season? Donatella, Donatella All of the day I\\'m gonna wear designer and forget your name Donatella, Donatella \\'Cause she walks so bad, like it feels so good Listen to her radiate her magic Even though she knows she\\'s misunderstood Voodoo, Voodoo, Voo-Don-Na-Na Voo-Don-Na-Na Don\\'t be scared I\\'ve done this before Show me your teeth Show me your teeth Show me your teeth Don\\'t want no money (want your money) That shit\\'s is ugly Just want your sex (want your sex) Take a bite of my bad girl meat (bad girl meat) Take a bite my me Show me your teeth (let me see your mean) Got no direction (no direction) I need direction Just got my vamp (got my vamp) Take a bite of my bad girl meat (bad girl meat) Take a bite of me boy Show me your teeth (the truth is sexy) Tell me something that\\'ll save me I need a man who makes me alright (man who makes me alright) Tell me something that\\'ll change me I\\'m gonna love you with my hands tied Show me your teeth (just tell me when) Show me your teeth (open your mouth boy) Show me your teeth (show me whatcha got) Show me your teeth, teeth, teeth, teeth Got no salvation (no salvation) Got no salvation Got no religion (no religion) My religion is you Take a bite of my bad girl meat (bad girl meat) (Take a bite of me boy) show me your teeth I\\'m a tough bitch Got my addictions (my addictions) And I love to fix \\'em (and I love to fix \\'em) No one\\'s perfect Take a bite of my bad girl meat (bad girl meat) (Take a bite of me boy) show me your teeth I just need a little guidance Tell me something that\\'ll save me I need a man who makes me alright (man who makes me alright) Just tell me when it\\'s alright Tell me something that\\'ll change me I\\'m gonna love you with my hands tied Show me your teeth (just tell me when) Show me your teeth (open your mouth boy) Show me your teeth (show me whatcha got) Show me your teeth, teeth, teeth, teeth Show me your teeth How (my religion is you) How (my religion is you) Help need a man Now show me your fangs (my religion is you) Help need a man Now show me your fangs (my religion is you) Help need a man Now show me your fangs (my religion is you) Help need a man Now show me your fangs Help need a man Now show me your fangs Help need a man Now show me your fangs Help need a man Now show me your fangs Help need a man Now show me your fangs Tell me something that\\'ll save me I need a man who makes me alright (man who makes me alright) Just tell me it\\'s alright Tell me something that\\'ll change me I\\'m gonna love you with my hands tied Show me your teeth (just tell me when) Show me your teeth (open your mouth boy) Show me your teeth (show me whatcha got) Show me your teeth teeth, teeth, teeth Show me your teeth It\\'s not how big, it\\'s how mean How, how It\\'s not how big, it\\'s how mean Show me your teeth, show me your teeth Show me your teeth, show me your teeth Show me your teeth, open your mouth boy Show me your teeth, show me your teeth My religion is you Show me your teeth, teeth, teeth, teeth Show me your teeth, show me your teeth I just need a little guidance Show me your teeth, show me your teeth Show me your teeth, show me your teeth Show me your teeth, teeth, teeth, teeth Cherry cherry, boom boom GaGa Boy we\\'ve had a real good time and I wish you the best on your way, eh I didn\\'t mean to hurt you I never thought we\\'d fall out of place, eh eh I have something that I love long-long But my friends keep on telling me that something\\'s wrong Then I met someone And eh, there\\'s nothing else I can say (Eh, eh) There\\'s nothing else I can say (Eh, eh) I wish you never looked at me that way (Eh, eh) There\\'s nothing else I can say (Eh, eh) Not that I don\\'t care about you Just that things got so complica- eh eh I met somebody cute and funny Got each other and that\\'s money, eh eh I have something that I love long-long But my friends keep on telling me that something\\'s wrong Then I met someone And eh, there\\'s nothing else I can say (Eh, eh) There\\'s nothing else I can say (Eh, eh) I wish you never looked at me that way (Eh, eh) There\\'s nothing else I can say (Eh, eh) (Eh, eh) I have something that I love long-long so-long But my friends keep on telling me that something\\'s wrong Then I met someone And eh, there\\'s nothing else I can say (Eh, eh) (Eh, eh) There\\'s nothing else I can say (Eh, eh) Wish you never looked at me that way (Eh, eh) There\\'s nothing else I can say (Eh, eh) Wish you never looked at me that way (Eh, eh) There\\'s nothing else I can say Cherry cherry, boom boom Eh eh, oh yeah All I can say is eh, eh My body is sanctuary My blood is pure Doo doo doo doo doo doo doo You want me bad I think you\\'re cool But I\\'m not sure Doo doo doo doo doo doo doo Follow me Don\\'t be such a holy fool Follow me I need something more from you It\\'s not about sex or champagne You holy fool Doo doo doo doo doo doo doo If you want me Meet me at electric chapel If you want me Meet me at electric chapel If you wanna steal my heart away Meet me, meet me baby in a safe place Come on meet me In electric chapel Come dance to me where you have been Next to the bar Doo doo doo doo doo doo doo Pray for your sins Right under the glass disco ball Doo doo doo doo doo doo doo Follow me Don\\'t be such a holy fool Follow me I need something sacred from you Together we\\'ll both find a way To make it pure Love working in dirty way If you want me Meet me at electric chapel If you want me Meet me at electric chapel If you wanna steal my heart away Meet me, meet me baby in a safe place Come on meet me In electric chapel Ho oh oh oh, ho oh oh oh Uh uh uh uh uh uh Ho oh oh oh Uh uh uh uh uh uh If you want me Meet me in electric chapel Oh, if you want me Meet me in electric chapel If you wanna steal my heart away Meet me, meet me baby in a safe place Come on meet me In electric chapel Oh oh Everybody\\'s got to love each other Stop throwin\\' stones at your sisters and your brothers Man, it wasn\\'t that long ago we were all living in the jungle So why do we gotta put each other down When there\\'s more than enough love to g-g-go around? Come to mama Tell me who hurt ya There\\'s gonna be no future If we don\\'t figure this out Dude in a lab coat and a man of God (Come onto mama, come on, mama) Fought over prisms and a forty-day flood (Come onto mama, come on, mama) Well, I say rainbows did more than they\\'ve ever done So why do we gotta fight over ideas? We\\'re talkin\\' the same old shit after all of these years Come to mama Tell me who hurt ya There\\'s gonna be no future If we don\\'t figure this out Oh, come tomorrow Who are you gonna follow? There\\'s gonna be no future If we don\\'t figure this out Psychic guru catches minnows in the harbor (Come onto mama, come on, mama) Everyone tells him he should work a little harder (hey man get to work, catch up) (Come onto mama, come on, mama) They all tell you that freedom must be bought But, baby, he\\'s already caught them So why do we gotta tell each other how to live? The only prisons that exist are ones we put each other in Come to mama Tell me who hurt ya There\\'s gonna be no future If we don\\'t figure this out Oh, come tomorrow Who are you gonna follow? There\\'s gonna be no future If we don\\'t figure this out Come to mama (come onto me) (Come on mama) \\'Cause I wanna be there I wanna be there for you I wanna be there Why do we gotta tell each other how to live? The only prisons that exist are ones we put each other in Why do we gotta tell each other how to live? Look what that rainbow did Ra pa pam pam, ra pa pam pam Ra pa pam pam, ra pa pam pam Light me up put me on top, let\\'s falalalalalalala Light me up put me on top, let\\'s falalalalalalala The only place you wanna be Is underneath my Christmas tree The only place you wanna be Is underneath my Christmas tree Light me up put me on top, let\\'s falalalalalalala Light me up put me on top, let\\'s falalalalalalala Ho ho ho, under the mistletoe Yes, everybody knows We will take off our clothes Yes, if you want us to we will You, oh ,oh, a Christmas My Christmas tree is delicious Oh, oh, a Christmas My Christmas tree is delicious Light you up, put you on top, let\\'s falalalala (let\\'s go) Light you up, put you on top, let\\'s falalalala (let\\'s go) Ho ho ho, under the mistletoe Yes everybody knows We will take off our clothes Yes, if you want us to we will You, oh ,oh, a Christmas My Christmas tree is delicious Oh, oh, a Christmas My Christmas tree is delicious Here, here, here The best time of the year Take off my stocking\\'s we\\'re I\\'m spreading Christmas cheer Yes, if you want us to we will You, oh, oh, a Christmas My Christmas tree is delicious Oh, oh, a Christmas My Christmas tree is delicious Space cowboy, Lady Gaga, Lady Gaga, there she goes Space cowboy, Lady Gaga, Lady Gaga Here we go Cherry, cherry, boom, boom You\\'re giving me a million reasons to let you go You\\'re giving me a million reasons to quit the show You\\'re givin\\' me a million reasons Give me a million reasons Givin\\' me a million reasons About a million reasons If I had a highway, I would run for the hills If you could find a dry way, I\\'d forever be still But you\\'re giving me a million reasons Give me a million reasons Givin\\' me a million reasons About a million reasons I bow down to pray I try to make the worst seem better Lord, show me the way To cut through all his worn out leather I\\'ve got a hundred million reasons to walk away But baby, I just need one good one to stay Head stuck in a cycle, I look off and I stare It\\'s like that I\\'ve stopped breathing, but completely aware \\'Cause you\\'re giving me a million reasons Give me a million reasons Givin\\' me a million reasons About a million reasons And if you say something that you might even mean It\\'s hard to even fathom which parts I should believe \\'Cause you\\'re giving me a million reasons Give me a million reasons Givin\\' me a million reasons About a million reasons I bow down to pray I try to make the worst seem better Lord, show me the way To cut through all his worn out leather I\\'ve got a hundred million reasons to walk away But baby, I just need one good one to stay Baby I\\'m bleedin\\', bleedin\\' Stay Can\\'t you give me what I\\'m needin\\', needin\\' Every heartbreak makes it hard to keep the faith But baby, I just need one good one Good one, good one, good one, good one, good one When I bow down to pray I try to make the worst seem better Lord, show me the way To cut through all his worn out leather I\\'ve got a hundred million reasons to walk away But baby, I just need one good one, good one Tell me that you\\'ll be the good one, good one Baby, I just need one good one to stay I was five and he was six We rode on horses made of sticks He wore black and I wore white He would always win the fight Bang bang, he shot me down Bang bang, I hit the ground Bang bang, that awful sound Bang bang, my baby shot me down Seasons came and changed the time When I grew up I called him mine He would always laugh and say Remember when we used to play Bang bang, I shot you down Bang bang, you hit the ground Bang bang, that awful sound Bang bang, I used to shoot you down Music played and people sang Just for me the church bells rang Now he\\'s gone I don\\'t know why Until this day, sometimes I cry He didn\\'t even say goodbye He didn\\'t take the time to lie Bang bang, he shot me down Bang bang, I hit the ground Bang bang, that awful sound Bang bang, my baby shot me down Put some lipstick on Perfume your neck and slip your high heels on Rinse and curl your hair Loosen your hips and get a dress to wear I\\'m the one who\\'s Been comin\\' \\'round lookin\\' lovin\\' you You\\'re the medicine I need to heal the way you make me feel I\\'m gon\\' be manicured You wanna be man cured Ma ma ma manicured She wanna be man cured (man cured) Salon\\'s enough for her Not to feel so insecure Ma ma ma manicure She wanna be take care\\'n of Can you feel it, can you feel it, can you feel it I\\'m addicted to the love that you garner (man cured) Can you feel it, can you feel it, can you feel it Like a serial killer, man is a goner (man cured) Touch me in the dark Put your hands all over my body parts Throw me on the bed Squeeze, tease me, please me, that\\'s what I said \\'Cause I\\'m the, trick who\\'s Been comin\\' \\'round lookin\\' lovin\\' you You\\'re the, the medicine I need to heal the way, the way, the way you make me feel I\\'m gon\\' be manicured You wanna be man cured Ma ma ma manicured She wanna be man cured (man cured) Salon\\'s enough for her Not to feel so insecure Ma ma ma manicure She wanna be take care\\'n of Can you feel it, can you feel it, can you feel it I\\'m addicted to the love that you garner (man cured) Can you feel it, can you feel it, can you feel it Like a serial killer, man is a goner Man cure! Man cure! Heal me, cause I\\'m addicted to love Save me, cause I\\'m addicted to love Man cure! I\\'m gon\\' be manicured You wanna be man cured Ma ma ma manicured She wanna be man cured Salon\\'s enough for her Not to feel so insecure Ma ma ma manicure She wanna be take care\\'n of (man cured) Can you feel it, can you feel it, can you feel it I\\'m addicted to the love that you garner (man cured) Can you feel it, can you feel it, can you feel it Like a serial killer, man is a goner (man cured)'"
            ],
            "application/vnd.google.colaboratory.intrinsic+json": {
              "type": "string"
            }
          },
          "metadata": {},
          "execution_count": 21
        }
      ]
    },
    {
      "cell_type": "code",
      "metadata": {
        "id": "_KlsYd7_uOez",
        "colab": {
          "base_uri": "https://localhost:8080/"
        },
        "outputId": "3dd89cdf-ab3b-496b-e7b3-68281e762073"
      },
      "source": [
        "# Transformar el corpus a tokens\n",
        "tokens=text_to_word_sequence(corpus)\n",
        "# Vistazo general de los primeros tokens\n",
        "tokens[:20]"
      ],
      "execution_count": 22,
      "outputs": [
        {
          "output_type": "execute_result",
          "data": {
            "text/plain": [
              "[\"i'll\",\n",
              " 'undress',\n",
              " 'you',\n",
              " \"'cause\",\n",
              " \"you're\",\n",
              " 'tired',\n",
              " 'cover',\n",
              " 'you',\n",
              " 'as',\n",
              " 'you',\n",
              " 'desire',\n",
              " 'when',\n",
              " 'you',\n",
              " 'fall',\n",
              " 'asleep',\n",
              " 'inside',\n",
              " 'my',\n",
              " 'arms',\n",
              " 'may',\n",
              " 'not']"
            ]
          },
          "metadata": {},
          "execution_count": 22
        }
      ]
    },
    {
      "cell_type": "code",
      "metadata": {
        "id": "GlqpZSJOJ1xQ",
        "colab": {
          "base_uri": "https://localhost:8080/"
        },
        "outputId": "c8f54ded-edc7-4622-cafc-82b0dfcb31ac"
      },
      "source": [
        "print(\"Cantidad de tokens en el corpus:\", len(tokens))"
      ],
      "execution_count": 23,
      "outputs": [
        {
          "output_type": "stream",
          "name": "stdout",
          "text": [
            "Cantidad de tokens en el corpus: 30300\n"
          ]
        }
      ]
    },
    {
      "cell_type": "code",
      "metadata": {
        "id": "RhQevOynuYk2"
      },
      "source": [
        "# Código para hacer el desfazaje de las palabras\n",
        "# según el train_len\n",
        "text_sequences = []\n",
        "for i in range(train_len, len(tokens)):\n",
        "  seq = tokens[i-train_len:i]\n",
        "  text_sequences.append(seq)"
      ],
      "execution_count": 24,
      "outputs": []
    },
    {
      "cell_type": "code",
      "metadata": {
        "id": "FU3FuqHSuhzq",
        "colab": {
          "base_uri": "https://localhost:8080/"
        },
        "outputId": "3f811322-ac31-4b7a-be77-4bb0ce055fea"
      },
      "source": [
        "# Demos un vistazo a nuestros vectores para entrenar el modelo\n",
        "text_sequences[:20]"
      ],
      "execution_count": 25,
      "outputs": [
        {
          "output_type": "execute_result",
          "data": {
            "text/plain": [
              "[[\"i'll\", 'undress', 'you', \"'cause\"],\n",
              " ['undress', 'you', \"'cause\", \"you're\"],\n",
              " ['you', \"'cause\", \"you're\", 'tired'],\n",
              " [\"'cause\", \"you're\", 'tired', 'cover'],\n",
              " [\"you're\", 'tired', 'cover', 'you'],\n",
              " ['tired', 'cover', 'you', 'as'],\n",
              " ['cover', 'you', 'as', 'you'],\n",
              " ['you', 'as', 'you', 'desire'],\n",
              " ['as', 'you', 'desire', 'when'],\n",
              " ['you', 'desire', 'when', 'you'],\n",
              " ['desire', 'when', 'you', 'fall'],\n",
              " ['when', 'you', 'fall', 'asleep'],\n",
              " ['you', 'fall', 'asleep', 'inside'],\n",
              " ['fall', 'asleep', 'inside', 'my'],\n",
              " ['asleep', 'inside', 'my', 'arms'],\n",
              " ['inside', 'my', 'arms', 'may'],\n",
              " ['my', 'arms', 'may', 'not'],\n",
              " ['arms', 'may', 'not', 'have'],\n",
              " ['may', 'not', 'have', 'the'],\n",
              " ['not', 'have', 'the', 'fancy']]"
            ]
          },
          "metadata": {},
          "execution_count": 25
        }
      ]
    },
    {
      "cell_type": "code",
      "metadata": {
        "id": "064N2jtLvHRg",
        "colab": {
          "base_uri": "https://localhost:8080/"
        },
        "outputId": "8bd366ce-b8e8-4650-e4e2-c225c81876ef"
      },
      "source": [
        "# Proceso de tokenizacion\n",
        "tok = Tokenizer() \n",
        "tok.fit_on_texts(text_sequences) \n",
        "\n",
        "# Convertimos las palabras a números\n",
        "# entran palabras -> salen números\n",
        "sequences = tok.texts_to_sequences(text_sequences)\n",
        "\n",
        "# Damos un vistazo\n",
        "sequences[:20]"
      ],
      "execution_count": 26,
      "outputs": [
        {
          "output_type": "execute_result",
          "data": {
            "text/plain": [
              "[[35, 980, 2, 61],\n",
              " [980, 2, 61, 37],\n",
              " [2, 61, 37, 826],\n",
              " [61, 37, 826, 407],\n",
              " [37, 826, 407, 2],\n",
              " [826, 407, 2, 46],\n",
              " [407, 2, 46, 2],\n",
              " [2, 46, 2, 723],\n",
              " [46, 2, 723, 56],\n",
              " [2, 723, 56, 2],\n",
              " [723, 56, 2, 297],\n",
              " [56, 2, 297, 827],\n",
              " [2, 297, 827, 244],\n",
              " [297, 827, 244, 6],\n",
              " [827, 244, 6, 580],\n",
              " [244, 6, 580, 360],\n",
              " [6, 580, 360, 38],\n",
              " [580, 360, 38, 108],\n",
              " [360, 38, 108, 3],\n",
              " [38, 108, 3, 643]]"
            ]
          },
          "metadata": {},
          "execution_count": 26
        }
      ]
    },
    {
      "cell_type": "code",
      "metadata": {
        "id": "vwsvmvDKKXSP",
        "colab": {
          "base_uri": "https://localhost:8080/"
        },
        "outputId": "80f939a1-37b9-493a-dc72-c989ed2e00b6"
      },
      "source": [
        "print(\"Cantidad de rows del dataset:\", len(sequences))"
      ],
      "execution_count": 27,
      "outputs": [
        {
          "output_type": "stream",
          "name": "stdout",
          "text": [
            "Cantidad de rows del dataset: 30296\n"
          ]
        }
      ]
    },
    {
      "cell_type": "markdown",
      "metadata": {
        "id": "QMVP4bj0vL2e"
      },
      "source": [
        "### 3 - Input y target"
      ]
    },
    {
      "cell_type": "code",
      "metadata": {
        "id": "mx2xwdz3KloJ",
        "colab": {
          "base_uri": "https://localhost:8080/"
        },
        "outputId": "3327b219-68a5-4bf1-a795-60078867533d"
      },
      "source": [
        "# Con numpy es muy fácil realizar el slicing de vectores\n",
        "ex = np.array([[1,2,3,4],[5,6,7,8]])\n",
        "ex"
      ],
      "execution_count": 28,
      "outputs": [
        {
          "output_type": "execute_result",
          "data": {
            "text/plain": [
              "array([[1, 2, 3, 4],\n",
              "       [5, 6, 7, 8]])"
            ]
          },
          "metadata": {},
          "execution_count": 28
        }
      ]
    },
    {
      "cell_type": "code",
      "metadata": {
        "id": "BEod7qghvTVt",
        "colab": {
          "base_uri": "https://localhost:8080/"
        },
        "outputId": "c589f200-fef6-4130-b33c-39a6ede511ec"
      },
      "source": [
        "# Con numpy es muy fácil realizar el slicing de vectores\n",
        "print(\"Dimension:\", ex.shape)\n",
        "print(\"Todos los elementos:\", ex)\n",
        "print(\"Todos los elementos menos el último:\", ex[:, :-1])"
      ],
      "execution_count": 29,
      "outputs": [
        {
          "output_type": "stream",
          "name": "stdout",
          "text": [
            "Dimension: (2, 4)\n",
            "Todos los elementos: [[1 2 3 4]\n",
            " [5 6 7 8]]\n",
            "Todos los elementos menos el último: [[1 2 3]\n",
            " [5 6 7]]\n"
          ]
        }
      ]
    },
    {
      "cell_type": "code",
      "metadata": {
        "id": "i95xWqtCvp8T",
        "colab": {
          "base_uri": "https://localhost:8080/"
        },
        "outputId": "3a50862a-efbf-45e6-d00b-198358570bca"
      },
      "source": [
        "input = ex[:,:-1] # todos los rows, menos la ultima col\n",
        "target = ex[:, -1] # última col de cada row\n",
        "\n",
        "print(\"Input:\", input)\n",
        "print(\"Target:\", target)"
      ],
      "execution_count": 30,
      "outputs": [
        {
          "output_type": "stream",
          "name": "stdout",
          "text": [
            "Input: [[1 2 3]\n",
            " [5 6 7]]\n",
            "Target: [4 8]\n"
          ]
        }
      ]
    },
    {
      "cell_type": "code",
      "metadata": {
        "id": "e1vJTG65v4Qn",
        "colab": {
          "base_uri": "https://localhost:8080/"
        },
        "outputId": "fc952410-7467-49ca-ef11-13a854339dee"
      },
      "source": [
        "arr_sequences = np.array(sequences)\n",
        "x_data = arr_sequences[:,:-1]\n",
        "y_data_int = arr_sequences[:,-1] # aún falta el oneHotEncoder\n",
        "\n",
        "print(x_data.shape)\n",
        "print(y_data_int.shape)\n",
        "y_data_int"
      ],
      "execution_count": 52,
      "outputs": [
        {
          "output_type": "stream",
          "name": "stdout",
          "text": [
            "(30296, 3)\n",
            "(30296,)\n"
          ]
        },
        {
          "output_type": "execute_result",
          "data": {
            "text/plain": [
              "array([ 61,  37, 826, ...,   4, 981,  94])"
            ]
          },
          "metadata": {},
          "execution_count": 52
        }
      ]
    },
    {
      "cell_type": "code",
      "metadata": {
        "id": "ln6kVWVlwBBs",
        "colab": {
          "base_uri": "https://localhost:8080/"
        },
        "outputId": "b807cf15-3837-4b68-d0dc-d440f38fe5ea"
      },
      "source": [
        "# Palabras del vocabulario\n",
        "tok.index_word"
      ],
      "execution_count": 50,
      "outputs": [
        {
          "output_type": "execute_result",
          "data": {
            "text/plain": [
              "{1: 'i',\n",
              " 2: 'you',\n",
              " 3: 'the',\n",
              " 4: 'a',\n",
              " 5: 'me',\n",
              " 6: 'my',\n",
              " 7: 'to',\n",
              " 8: 'and',\n",
              " 9: 'oh',\n",
              " 10: \"i'm\",\n",
              " 11: 'your',\n",
              " 12: 'that',\n",
              " 13: 'love',\n",
              " 14: 'be',\n",
              " 15: 'in',\n",
              " 16: 'on',\n",
              " 17: 'it',\n",
              " 18: \"don't\",\n",
              " 19: 'want',\n",
              " 20: 'just',\n",
              " 21: 'eh',\n",
              " 22: 'baby',\n",
              " 23: 'with',\n",
              " 24: 'of',\n",
              " 25: 'but',\n",
              " 26: 'we',\n",
              " 27: 'what',\n",
              " 28: 'wanna',\n",
              " 29: 'like',\n",
              " 30: 'do',\n",
              " 31: 'know',\n",
              " 32: 'so',\n",
              " 33: 'is',\n",
              " 34: 'this',\n",
              " 35: \"i'll\",\n",
              " 36: 'can',\n",
              " 37: \"you're\",\n",
              " 38: 'not',\n",
              " 39: \"can't\",\n",
              " 40: 'could',\n",
              " 41: 'p',\n",
              " 42: 'up',\n",
              " 43: 'one',\n",
              " 44: 'no',\n",
              " 45: 'good',\n",
              " 46: 'as',\n",
              " 47: 'got',\n",
              " 48: 'm',\n",
              " 49: 'for',\n",
              " 50: 'if',\n",
              " 51: 'million',\n",
              " 52: \"it's\",\n",
              " 53: 'way',\n",
              " 54: 'reasons',\n",
              " 55: 'all',\n",
              " 56: 'when',\n",
              " 57: 'heart',\n",
              " 58: 'hair',\n",
              " 59: 'dance',\n",
              " 60: 'gonna',\n",
              " 61: \"'cause\",\n",
              " 62: 'out',\n",
              " 63: 'la',\n",
              " 64: 'girl',\n",
              " 65: 'show',\n",
              " 66: 'ah',\n",
              " 67: 'face',\n",
              " 68: 'boys',\n",
              " 69: 'need',\n",
              " 70: 'muh',\n",
              " 71: 'touch',\n",
              " 72: 'yeah',\n",
              " 73: 'he',\n",
              " 74: 'was',\n",
              " 75: 'body',\n",
              " 76: 'come',\n",
              " 77: 'ha',\n",
              " 78: 'give',\n",
              " 79: 'down',\n",
              " 80: 'make',\n",
              " 81: 'tell',\n",
              " 82: 'take',\n",
              " 83: \"i've\",\n",
              " 84: 'were',\n",
              " 85: 'she',\n",
              " 86: 'read',\n",
              " 87: 'see',\n",
              " 88: \"won't\",\n",
              " 89: 'poker',\n",
              " 90: 'say',\n",
              " 91: 'doo',\n",
              " 92: 'night',\n",
              " 93: 'na',\n",
              " 94: 'man',\n",
              " 95: 'bad',\n",
              " 96: 'boy',\n",
              " 97: 'how',\n",
              " 98: 'at',\n",
              " 99: 'am',\n",
              " 100: 'something',\n",
              " 101: 'call',\n",
              " 102: 'feel',\n",
              " 103: 'time',\n",
              " 104: 'get',\n",
              " 105: 'tonight',\n",
              " 106: 'now',\n",
              " 107: 'teeth',\n",
              " 108: 'have',\n",
              " 109: 'let',\n",
              " 110: 'da',\n",
              " 111: \"let's\",\n",
              " 112: 'name',\n",
              " 113: 'go',\n",
              " 114: 'gaga',\n",
              " 115: 'ooh',\n",
              " 116: 'or',\n",
              " 117: 'put',\n",
              " 118: 'are',\n",
              " 119: 'hey',\n",
              " 120: 'game',\n",
              " 121: 'about',\n",
              " 122: 'her',\n",
              " 123: \"there's\",\n",
              " 124: 'stop',\n",
              " 125: 'think',\n",
              " 126: \"she's\",\n",
              " 127: 'edge',\n",
              " 128: 'yo',\n",
              " 129: 'babe',\n",
              " 130: \"'em\",\n",
              " 131: 'him',\n",
              " 132: 'u',\n",
              " 133: 'chorus',\n",
              " 134: 'around',\n",
              " 135: 'ale',\n",
              " 136: 'g',\n",
              " 137: 'hands',\n",
              " 138: 'marry',\n",
              " 139: 'will',\n",
              " 140: 'right',\n",
              " 141: 'enough',\n",
              " 142: 'alejandro',\n",
              " 143: 'cry',\n",
              " 144: 'walk',\n",
              " 145: 'dreams',\n",
              " 146: 'hot',\n",
              " 147: 'juda',\n",
              " 148: 'uh',\n",
              " 149: 'without',\n",
              " 150: 'y',\n",
              " 151: 'there',\n",
              " 152: 'away',\n",
              " 153: 'nothing',\n",
              " 154: 'video',\n",
              " 155: 'eyes',\n",
              " 156: 'through',\n",
              " 157: 'keep',\n",
              " 158: 'more',\n",
              " 159: 'back',\n",
              " 160: 'where',\n",
              " 161: 'die',\n",
              " 162: 'stay',\n",
              " 163: 'monster',\n",
              " 164: 'born',\n",
              " 165: 'thing',\n",
              " 166: 'play',\n",
              " 167: 'cause',\n",
              " 168: 'real',\n",
              " 169: 'artpop',\n",
              " 170: 'had',\n",
              " 171: 'still',\n",
              " 172: 'romance',\n",
              " 173: 'other',\n",
              " 174: 'beat',\n",
              " 175: 'off',\n",
              " 176: 'wish',\n",
              " 177: 'never',\n",
              " 178: 'aura',\n",
              " 179: 'everything',\n",
              " 180: 'free',\n",
              " 181: 'than',\n",
              " 182: 'sex',\n",
              " 183: 'gypsy',\n",
              " 184: 'try',\n",
              " 185: 'long',\n",
              " 186: 'who',\n",
              " 187: 'perfect',\n",
              " 188: 'chick',\n",
              " 189: 'bang',\n",
              " 190: 'our',\n",
              " 191: 'planet',\n",
              " 192: \"who's\",\n",
              " 193: 'fix',\n",
              " 194: 'his',\n",
              " 195: 'myself',\n",
              " 196: 'us',\n",
              " 197: 's',\n",
              " 198: 'cure',\n",
              " 199: 'always',\n",
              " 200: 'giving',\n",
              " 201: \"givin'\",\n",
              " 202: 'head',\n",
              " 203: 'even',\n",
              " 204: \"you'll\",\n",
              " 205: 'fashion',\n",
              " 206: 'life',\n",
              " 207: 'left',\n",
              " 208: 'phone',\n",
              " 209: 'alright',\n",
              " 210: 'from',\n",
              " 211: 'help',\n",
              " 212: 'ate',\n",
              " 213: 'behind',\n",
              " 214: 'find',\n",
              " 215: 'leave',\n",
              " 216: \"we're\",\n",
              " 217: 'guy',\n",
              " 218: 'gotta',\n",
              " 219: 'together',\n",
              " 220: 'applause',\n",
              " 221: 'really',\n",
              " 222: 'illusion',\n",
              " 223: 'paper',\n",
              " 224: 'track',\n",
              " 225: 'turn',\n",
              " 226: \"he's\",\n",
              " 227: 'nobody',\n",
              " 228: 'them',\n",
              " 229: 'dark',\n",
              " 230: 'scheiße',\n",
              " 231: 'gangsta',\n",
              " 232: 'things',\n",
              " 233: 'promise',\n",
              " 234: 'run',\n",
              " 235: 'look',\n",
              " 236: 'makes',\n",
              " 237: 'some',\n",
              " 238: 'before',\n",
              " 239: 'alone',\n",
              " 240: 'here',\n",
              " 241: 'last',\n",
              " 242: 'else',\n",
              " 243: 'under',\n",
              " 244: 'inside',\n",
              " 245: 'forever',\n",
              " 246: 'better',\n",
              " 247: 'been',\n",
              " 248: 'after',\n",
              " 249: 'too',\n",
              " 250: 'watch',\n",
              " 251: 'world',\n",
              " 252: 'then',\n",
              " 253: 'meet',\n",
              " 254: \"goin'\",\n",
              " 255: 'hear',\n",
              " 256: 'until',\n",
              " 257: 'jandro',\n",
              " 258: 'little',\n",
              " 259: 'speak',\n",
              " 260: 'brown',\n",
              " 261: 'clair',\n",
              " 262: 'aus',\n",
              " 263: 'summer',\n",
              " 264: 'yes',\n",
              " 265: 'cut',\n",
              " 266: 'kiss',\n",
              " 267: 'friends',\n",
              " 268: 'said',\n",
              " 269: 'new',\n",
              " 270: 'its',\n",
              " 271: 'speechless',\n",
              " 272: 'feels',\n",
              " 273: 'happy',\n",
              " 274: 'someone',\n",
              " 275: 'greatest',\n",
              " 276: 'wrong',\n",
              " 277: 'would',\n",
              " 278: 'leather',\n",
              " 279: 'mah',\n",
              " 280: 'home',\n",
              " 281: 'live',\n",
              " 282: 'belong',\n",
              " 283: 'those',\n",
              " 284: 'both',\n",
              " 285: 'whoa',\n",
              " 286: 'while',\n",
              " 287: 'lady',\n",
              " 288: 'feeling',\n",
              " 289: 'wonder',\n",
              " 290: 'ma',\n",
              " 291: 'pray',\n",
              " 292: 'believe',\n",
              " 293: 'work',\n",
              " 294: 'talk',\n",
              " 295: 'wear',\n",
              " 296: 'disco',\n",
              " 297: 'fall',\n",
              " 298: 'okay',\n",
              " 299: 'seem',\n",
              " 300: 'hundred',\n",
              " 301: 'mean',\n",
              " 302: 'mine',\n",
              " 303: 'club',\n",
              " 304: 'high',\n",
              " 305: 'place',\n",
              " 306: 'over',\n",
              " 307: 'follow',\n",
              " 308: 'kind',\n",
              " 309: 'fun',\n",
              " 310: 'they',\n",
              " 311: 'control',\n",
              " 312: 'why',\n",
              " 313: 'judas',\n",
              " 314: 'mind',\n",
              " 315: 'damn',\n",
              " 316: 'huh',\n",
              " 317: 'each',\n",
              " 318: 'blow',\n",
              " 319: 'er',\n",
              " 320: 'loves',\n",
              " 321: 'swine',\n",
              " 322: 'handle',\n",
              " 323: 'care',\n",
              " 324: 'bow',\n",
              " 325: 'worst',\n",
              " 326: 'lord',\n",
              " 327: 'worn',\n",
              " 328: 'might',\n",
              " 329: 'hard',\n",
              " 330: 'record',\n",
              " 331: 'only',\n",
              " 332: 'cherry',\n",
              " 333: 'glory',\n",
              " 334: 'e',\n",
              " 335: 'lay',\n",
              " 336: 'own',\n",
              " 337: 'prayer',\n",
              " 338: 'apart',\n",
              " 339: 'venus',\n",
              " 340: 'light',\n",
              " 341: 'top',\n",
              " 342: 'christmas',\n",
              " 343: 'by',\n",
              " 344: 'should',\n",
              " 345: 'crazy',\n",
              " 346: 'mama',\n",
              " 347: 'hold',\n",
              " 348: 'second',\n",
              " 349: \"callin'\",\n",
              " 350: 'telephone',\n",
              " 351: 'again',\n",
              " 352: 'two',\n",
              " 353: 'another',\n",
              " 354: 'hell',\n",
              " 355: 'red',\n",
              " 356: \"you've\",\n",
              " 357: 'strong',\n",
              " 358: 'loud',\n",
              " 359: 'catch',\n",
              " 360: 'may',\n",
              " 361: 'caught',\n",
              " 362: 'sick',\n",
              " 363: \"ain't\",\n",
              " 364: 'party',\n",
              " 365: 'smoke',\n",
              " 366: 'fool',\n",
              " 367: 'an',\n",
              " 368: 'happens',\n",
              " 369: 'verse',\n",
              " 370: 'thought',\n",
              " 371: 'into',\n",
              " 372: 'these',\n",
              " 373: 'boots',\n",
              " 374: 'day',\n",
              " 375: 'living',\n",
              " 376: 'mirror',\n",
              " 377: \"smokin'\",\n",
              " 378: 'full',\n",
              " 379: 'starstruck',\n",
              " 380: 'downtown',\n",
              " 381: 'cured',\n",
              " 382: 'matter',\n",
              " 383: 'heal',\n",
              " 384: 'song',\n",
              " 385: 'rah',\n",
              " 386: 'ro',\n",
              " 387: 'floor',\n",
              " 388: 'lonely',\n",
              " 389: 'sure',\n",
              " 390: 'lights',\n",
              " 391: 'fernando',\n",
              " 392: \"we'll\",\n",
              " 393: 'duh',\n",
              " 394: 'looked',\n",
              " 395: \"'til\",\n",
              " 396: 'nasty',\n",
              " 397: 'heard',\n",
              " 398: 'making',\n",
              " 399: 'act',\n",
              " 400: 'maybe',\n",
              " 401: 'dum',\n",
              " 402: 'ye',\n",
              " 403: 'aha',\n",
              " 404: 'boom',\n",
              " 405: 'tap',\n",
              " 406: 'funk',\n",
              " 407: 'cover',\n",
              " 408: 'ever',\n",
              " 409: 'bitch',\n",
              " 410: 'sorry',\n",
              " 411: 'girls',\n",
              " 412: 'sometimes',\n",
              " 413: 'please',\n",
              " 414: 'cool',\n",
              " 415: 'drinks',\n",
              " 416: 'forgive',\n",
              " 417: 'fine',\n",
              " 418: 'guess',\n",
              " 419: 'bed',\n",
              " 420: '2',\n",
              " 421: 'sexxx',\n",
              " 422: 'wait',\n",
              " 423: 'best',\n",
              " 424: 'diamond',\n",
              " 425: 'dope',\n",
              " 426: \"bleedin'\",\n",
              " 427: \"needin'\",\n",
              " 428: 'every',\n",
              " 429: 'write',\n",
              " 430: 'made',\n",
              " 431: 'god',\n",
              " 432: 'truth',\n",
              " 433: 'religion',\n",
              " 434: 'any',\n",
              " 435: 'anymore',\n",
              " 436: 'reach',\n",
              " 437: \"dancin'\",\n",
              " 438: 'gold',\n",
              " 439: 'shit',\n",
              " 440: 'cigarette',\n",
              " 441: 'shot',\n",
              " 442: 'lost',\n",
              " 443: 'break',\n",
              " 444: 'fame',\n",
              " 445: 'telling',\n",
              " 446: 'ass',\n",
              " 447: \"doin'\",\n",
              " 448: 'forget',\n",
              " 449: \"wasn't\",\n",
              " 450: 'john',\n",
              " 451: \"lookin'\",\n",
              " 452: 'goddess',\n",
              " 453: 'ich',\n",
              " 454: 'schleiban',\n",
              " 455: 'austa',\n",
              " 456: 'es',\n",
              " 457: 'kumpent',\n",
              " 458: 'üske',\n",
              " 459: 'monstère',\n",
              " 460: 'flaugen',\n",
              " 461: 'fräulein',\n",
              " 462: 'uske',\n",
              " 463: 'ceiling',\n",
              " 464: 'sign',\n",
              " 465: 'hurt',\n",
              " 466: 'underneath',\n",
              " 467: 'brooklyn',\n",
              " 468: 'sing',\n",
              " 469: 'hush',\n",
              " 470: \"i'd\",\n",
              " 471: 'young',\n",
              " 472: 'lover',\n",
              " 473: 'drink',\n",
              " 474: 'nights',\n",
              " 475: 'lot',\n",
              " 476: 'buy',\n",
              " 477: 'papa',\n",
              " 478: 'paparazzi',\n",
              " 479: 'en',\n",
              " 480: 'broken',\n",
              " 481: 'fight',\n",
              " 482: \"hangin'\",\n",
              " 483: 'moment',\n",
              " 484: 'hit',\n",
              " 485: 'much',\n",
              " 486: 'holy',\n",
              " 487: 'l',\n",
              " 488: 'pop',\n",
              " 489: 'ride',\n",
              " 490: 'because',\n",
              " 491: 'leader',\n",
              " 492: 'squealer',\n",
              " 493: 'met',\n",
              " 494: 'americano',\n",
              " 495: 'flawless',\n",
              " 496: 'open',\n",
              " 497: 'used',\n",
              " 498: 'harder',\n",
              " 499: 'electric',\n",
              " 500: 'chapel',\n",
              " 501: 'ho',\n",
              " 502: 'side',\n",
              " 503: 'anything',\n",
              " 504: 'hills',\n",
              " 505: 'hand',\n",
              " 506: 'move',\n",
              " 507: 'yourself',\n",
              " 508: 'mi',\n",
              " 509: 'white',\n",
              " 510: 'busy',\n",
              " 511: 'three',\n",
              " 512: 'roberto',\n",
              " 513: \"that's\",\n",
              " 514: 'spin',\n",
              " 515: 'use',\n",
              " 516: 'ga',\n",
              " 517: 'end',\n",
              " 518: 'doing',\n",
              " 519: 'stick',\n",
              " 520: 'wants',\n",
              " 521: 'dont',\n",
              " 522: 'hope',\n",
              " 523: 'princess',\n",
              " 524: 'wayne',\n",
              " 525: 'blue',\n",
              " 526: 'falls',\n",
              " 527: 'music',\n",
              " 528: 'looking',\n",
              " 529: 'slay',\n",
              " 530: 'old',\n",
              " 531: 'pig',\n",
              " 532: 'cold',\n",
              " 533: 'america',\n",
              " 534: 'law',\n",
              " 535: 'sun',\n",
              " 536: 'nein',\n",
              " 537: 'zedd',\n",
              " 538: 'peek',\n",
              " 539: 'lives',\n",
              " 540: 'unpredictable',\n",
              " 541: 'unemotional',\n",
              " 542: 'donatella',\n",
              " 543: 'bite',\n",
              " 544: 'meat',\n",
              " 545: 'fangs',\n",
              " 546: 'pam',\n",
              " 547: 'tree',\n",
              " 548: 'quit',\n",
              " 549: 'highway',\n",
              " 550: 'stuck',\n",
              " 551: 'revenge',\n",
              " 552: 'lipstick',\n",
              " 553: 'kinda',\n",
              " 554: 'nebraska',\n",
              " 555: 'cars',\n",
              " 556: 'choose',\n",
              " 557: 'everybody',\n",
              " 558: 'knows',\n",
              " 559: 'same',\n",
              " 560: 'remember',\n",
              " 561: 'mouth',\n",
              " 562: 'bars',\n",
              " 563: 'cruel',\n",
              " 564: 'future',\n",
              " 565: \"something's\",\n",
              " 566: 'r',\n",
              " 567: 'boyfriend',\n",
              " 568: 'denim',\n",
              " 569: 'american',\n",
              " 570: 'wild',\n",
              " 571: 'seen',\n",
              " 572: 'mess',\n",
              " 573: 'space',\n",
              " 574: 'voice',\n",
              " 575: 'low',\n",
              " 576: 'funny',\n",
              " 577: 'groove',\n",
              " 578: 'flavor',\n",
              " 579: 'sound',\n",
              " 580: 'arms',\n",
              " 581: 'anyway',\n",
              " 582: 'rub',\n",
              " 583: 'favorite',\n",
              " 584: 'dry',\n",
              " 585: 'which',\n",
              " 586: 'parts',\n",
              " 587: 'faith',\n",
              " 588: 'lovers',\n",
              " 589: 'set',\n",
              " 590: 'rejoice',\n",
              " 591: 'did',\n",
              " 592: \"sippin'\",\n",
              " 593: 'bub',\n",
              " 594: 'faster',\n",
              " 595: 'number',\n",
              " 596: 'rock',\n",
              " 597: 'money',\n",
              " 598: 'woman',\n",
              " 599: 'ready',\n",
              " 600: 'lose',\n",
              " 601: 'dad',\n",
              " 602: 'start',\n",
              " 603: 'going',\n",
              " 604: \"tryin'\",\n",
              " 605: 'tomorrow',\n",
              " 606: 'stand',\n",
              " 607: 'friend',\n",
              " 608: 'king',\n",
              " 609: 'plause',\n",
              " 610: 'scream',\n",
              " 611: 'art',\n",
              " 612: 'weekend',\n",
              " 613: 'naked',\n",
              " 614: 'streets',\n",
              " 615: 'burn',\n",
              " 616: 'hairspray',\n",
              " 617: 'school',\n",
              " 618: 'change',\n",
              " 619: 'bare',\n",
              " 620: 'mistaken',\n",
              " 621: 'somewhere',\n",
              " 622: 'ya',\n",
              " 623: 'stars',\n",
              " 624: 'single',\n",
              " 625: 'fare',\n",
              " 626: 'gone',\n",
              " 627: \"body's\",\n",
              " 628: \"pleadin'\",\n",
              " 629: 'breathe',\n",
              " 630: \"sinner's\",\n",
              " 631: 'slam',\n",
              " 632: 'save',\n",
              " 633: 'pain',\n",
              " 634: \"singin'\",\n",
              " 635: 'circles',\n",
              " 636: 'lift',\n",
              " 637: 'beating',\n",
              " 638: \"ev'ry\",\n",
              " 639: 'voodoo',\n",
              " 640: \"that'll\",\n",
              " 641: 'delicious',\n",
              " 642: 'manicured',\n",
              " 643: 'fancy',\n",
              " 644: 'yours',\n",
              " 645: 'close',\n",
              " 646: 'cycle',\n",
              " 647: 'stare',\n",
              " 648: 'stopped',\n",
              " 649: 'breathing',\n",
              " 650: 'completely',\n",
              " 651: 'aware',\n",
              " 652: 'fathom',\n",
              " 653: 'heartbreak',\n",
              " 654: 'glass',\n",
              " 655: 'listen',\n",
              " 656: 'hide',\n",
              " 657: 'queen',\n",
              " 658: 'insecure',\n",
              " 659: 'black',\n",
              " 660: 'today',\n",
              " 661: 'straight',\n",
              " 662: 'check',\n",
              " 663: 'heels',\n",
              " 664: 'first',\n",
              " 665: 'years',\n",
              " 666: 'clothes',\n",
              " 667: 'whole',\n",
              " 668: 'pay',\n",
              " 669: 'jesus',\n",
              " 670: 'chase',\n",
              " 671: \"we'd\",\n",
              " 672: 'famous',\n",
              " 673: 'point',\n",
              " 674: 'fire',\n",
              " 675: 'rush',\n",
              " 676: \"isn't\",\n",
              " 677: 'gun',\n",
              " 678: \"what's\",\n",
              " 679: 'done',\n",
              " 680: 'shawty',\n",
              " 681: 'round',\n",
              " 682: 'half',\n",
              " 683: 'psychotic',\n",
              " 684: 'lies',\n",
              " 685: 'bring',\n",
              " 686: 'pull',\n",
              " 687: '1',\n",
              " 688: 'bridge',\n",
              " 689: 'bust',\n",
              " 690: 'mission',\n",
              " 691: 'street',\n",
              " 692: 'has',\n",
              " 693: 'german',\n",
              " 694: 'their',\n",
              " 695: 'dream',\n",
              " 696: 'ecstasy',\n",
              " 697: 'cowboy',\n",
              " 698: 'girlfriend',\n",
              " 699: 'bikini',\n",
              " 700: 'paint',\n",
              " 701: 'somebody',\n",
              " 702: 'stones',\n",
              " 703: 'mountain',\n",
              " 704: 'sweet',\n",
              " 705: 're',\n",
              " 706: 'marlboro',\n",
              " 707: 'em',\n",
              " 708: 'drop',\n",
              " 709: 'though',\n",
              " 710: 'nice',\n",
              " 711: 'sad',\n",
              " 712: 'goes',\n",
              " 713: \"didn't\",\n",
              " 714: 'air',\n",
              " 715: 'rich',\n",
              " 716: 'ill',\n",
              " 717: 'wont',\n",
              " 718: 'drum',\n",
              " 719: 'champagne',\n",
              " 720: 'figure',\n",
              " 721: 'onto',\n",
              " 722: 'addicted',\n",
              " 723: 'desire',\n",
              " 724: 'lo',\n",
              " 725: 'je',\n",
              " 726: 'h',\n",
              " 727: 'far',\n",
              " 728: 'drag',\n",
              " 729: 'must',\n",
              " 730: 'broke',\n",
              " 731: 'cannot',\n",
              " 732: \"telephonin'\",\n",
              " 733: 'since',\n",
              " 734: 'came',\n",
              " 735: 'leaving',\n",
              " 736: 'sit',\n",
              " 737: 'bar',\n",
              " 738: 'roll',\n",
              " 739: 'c',\n",
              " 740: 'coming',\n",
              " 741: 'biggest',\n",
              " 742: 'fan',\n",
              " 743: 'dancing',\n",
              " 744: 'mexico',\n",
              " 745: 'bother',\n",
              " 746: 'does',\n",
              " 747: 'hypnotic',\n",
              " 748: 'blueprint',\n",
              " 749: 'clean',\n",
              " 750: 'bleed',\n",
              " 751: 'tight',\n",
              " 752: 'line',\n",
              " 753: 'wow',\n",
              " 754: \"we've\",\n",
              " 755: 'death',\n",
              " 756: 'crown',\n",
              " 757: 'dead',\n",
              " 758: 'beyond',\n",
              " 759: 'gets',\n",
              " 760: 'shoes',\n",
              " 761: 'saying',\n",
              " 762: 'cheer',\n",
              " 763: 'thinking',\n",
              " 764: 'trashy',\n",
              " 765: 'pre',\n",
              " 766: 'miss',\n",
              " 767: 'sexy',\n",
              " 768: 'kick',\n",
              " 769: 'road',\n",
              " 770: 'goodbye',\n",
              " 771: 'trying',\n",
              " 772: \"watchin'\",\n",
              " 773: 'falling',\n",
              " 774: 'modern',\n",
              " 775: 'fast',\n",
              " 776: 'big',\n",
              " 777: 'tramp',\n",
              " 778: 'vamp',\n",
              " 779: 'aphrodite',\n",
              " 780: 'alive',\n",
              " 781: 'human',\n",
              " 782: 'squeal',\n",
              " 783: 'disgusting',\n",
              " 784: 'above',\n",
              " 785: 'tops',\n",
              " 786: 'son',\n",
              " 787: 'rain',\n",
              " 788: 'walks',\n",
              " 789: 'bottle',\n",
              " 790: 'wine',\n",
              " 791: 'having',\n",
              " 792: 'clouds',\n",
              " 793: 'higher',\n",
              " 794: 'getting',\n",
              " 795: 'shoot',\n",
              " 796: 'great',\n",
              " 797: 'filter',\n",
              " 798: 'bump',\n",
              " 799: 'forth',\n",
              " 800: 'star',\n",
              " 801: 'wake',\n",
              " 802: 'sexual',\n",
              " 803: 'power',\n",
              " 804: 'cosmic',\n",
              " 805: \"talkin'\",\n",
              " 806: 'press',\n",
              " 807: 'film',\n",
              " 808: 'cameo',\n",
              " 809: \"gon'\",\n",
              " 810: 'ones',\n",
              " 811: 'tried',\n",
              " 812: 'easy',\n",
              " 813: 'cher',\n",
              " 814: 'wings',\n",
              " 815: 'whose',\n",
              " 816: 'monkey',\n",
              " 817: 'papers',\n",
              " 818: 'business',\n",
              " 819: 'interested',\n",
              " 820: 'fakers',\n",
              " 821: 'voo',\n",
              " 822: 'don',\n",
              " 823: 'ra',\n",
              " 824: 'pa',\n",
              " 825: 'falalalalalalala',\n",
              " 826: 'tired',\n",
              " 827: 'asleep',\n",
              " 828: 'feet',\n",
              " 829: 'legs',\n",
              " 830: 'wrote',\n",
              " 831: 'passion',\n",
              " 832: \"doesn't\",\n",
              " 833: \"lovin'\",\n",
              " 834: 'beautiful',\n",
              " 835: 'mistakes',\n",
              " 836: 'regret',\n",
              " 837: 'different',\n",
              " 838: 'called',\n",
              " 839: 'answer',\n",
              " 840: \"takin'\",\n",
              " 841: 'calls',\n",
              " 842: \"couldn't\",\n",
              " 843: 'sang',\n",
              " 844: 'men',\n",
              " 845: 'york',\n",
              " 846: 'jeans',\n",
              " 847: 'means',\n",
              " 848: 'superstar',\n",
              " 849: 'flames',\n",
              " 850: 'reason',\n",
              " 851: 'dangerous',\n",
              " 852: 'raise',\n",
              " 853: 'spades',\n",
              " 854: 'pair',\n",
              " 855: 'russian',\n",
              " 856: 'many',\n",
              " 857: 'electronic',\n",
              " 858: 'slow',\n",
              " 859: 'ow',\n",
              " 860: 'brain',\n",
              " 861: 'sense',\n",
              " 862: 'burns',\n",
              " 863: 'being',\n",
              " 864: 'dirty',\n",
              " 865: 'aah',\n",
              " 866: 'naughty',\n",
              " 867: 'stone',\n",
              " 868: 'color',\n",
              " 869: 'couple',\n",
              " 870: '3',\n",
              " 871: 'loose',\n",
              " 872: 'climb',\n",
              " 873: 'special',\n",
              " 874: 'morning',\n",
              " 875: 'wandering',\n",
              " 876: 'took',\n",
              " 877: 'nowhere',\n",
              " 878: 'asked',\n",
              " 879: 'honey',\n",
              " 880: 'freak',\n",
              " 881: 'swear',\n",
              " 882: 'spirit',\n",
              " 883: 'least',\n",
              " 884: 'city',\n",
              " 885: 'fucked',\n",
              " 886: 'tells',\n",
              " 887: 'instead',\n",
              " 888: 'looks',\n",
              " 889: 'bedroom',\n",
              " 890: 'galaxy',\n",
              " 891: 'oyster',\n",
              " 892: 'serve',\n",
              " 893: 'mars',\n",
              " 894: 'sweat',\n",
              " 895: 'dress',\n",
              " 896: 'couture',\n",
              " 897: 'word',\n",
              " 898: 'deep',\n",
              " 899: 'skin',\n",
              " 900: 'permission',\n",
              " 901: 'blonde',\n",
              " 902: 'crucify',\n",
              " 903: 'bloody',\n",
              " 904: 'mary',\n",
              " 905: 'jesús',\n",
              " 906: 'cristo',\n",
              " 907: \"ceilin'\",\n",
              " 908: 'hate',\n",
              " 909: \"go'n\",\n",
              " 910: 'five',\n",
              " 911: 'ten',\n",
              " 912: \"c'mon\",\n",
              " 913: 'empty',\n",
              " 914: 'feast',\n",
              " 915: 'rhyme',\n",
              " 916: 'bitches',\n",
              " 917: 'pussy',\n",
              " 918: 'd',\n",
              " 919: 'lines',\n",
              " 920: 'waist',\n",
              " 921: 'fader',\n",
              " 922: 'original',\n",
              " 923: 'trip',\n",
              " 924: 'suppose',\n",
              " 925: 'green',\n",
              " 926: 'taking',\n",
              " 927: 'lets',\n",
              " 928: 'cute',\n",
              " 929: 'well',\n",
              " 930: 'lie',\n",
              " 931: 'wondering',\n",
              " 932: 'ford',\n",
              " 933: 'scared',\n",
              " 934: 'outro',\n",
              " 935: 'former',\n",
              " 936: 'trunk',\n",
              " 937: 'hahahaha',\n",
              " 938: 'size',\n",
              " 939: 'burqa',\n",
              " 940: 'pleasure',\n",
              " 941: 'hustlas',\n",
              " 942: \"walkin'\",\n",
              " 943: \"sayin'\",\n",
              " 944: 'smell',\n",
              " 945: 'repeat',\n",
              " 946: 'hurting',\n",
              " 947: 'bones',\n",
              " 948: \"in'\",\n",
              " 949: 'youre',\n",
              " 950: 'permanently',\n",
              " 951: 'thoughts',\n",
              " 952: 'ways',\n",
              " 953: 'learn',\n",
              " 954: 'laugh',\n",
              " 955: 'till',\n",
              " 956: 'such',\n",
              " 957: 'dita',\n",
              " 958: 'diva',\n",
              " 959: 'rainbow',\n",
              " 960: 'spring',\n",
              " 961: 'season',\n",
              " 962: 'radiate',\n",
              " 963: 'magic',\n",
              " 964: 'misunderstood',\n",
              " 965: 'nah',\n",
              " 966: 'direction',\n",
              " 967: 'tied',\n",
              " 968: 'whatcha',\n",
              " 969: 'salvation',\n",
              " 970: 'steal',\n",
              " 971: 'safe',\n",
              " 972: 'ground',\n",
              " 973: 'awful',\n",
              " 974: \"salon's\",\n",
              " 975: 'manicure',\n",
              " 976: \"care'n\",\n",
              " 977: 'garner',\n",
              " 978: 'serial',\n",
              " 979: 'killer',\n",
              " 980: 'undress',\n",
              " 981: 'goner',\n",
              " 982: 'lullaby',\n",
              " 983: 'ugly',\n",
              " 984: 'sand',\n",
              " 985: 'rear',\n",
              " 986: \"j'veux\",\n",
              " 987: 'ton',\n",
              " 988: 'amour',\n",
              " 989: 'veux',\n",
              " 990: 'capital',\n",
              " 991: 'paws',\n",
              " 992: 'told',\n",
              " 993: 'boudoir',\n",
              " 994: \"nothin'\",\n",
              " 995: 'subway',\n",
              " 996: 'whether',\n",
              " 997: 'beige',\n",
              " 998: 'chola',\n",
              " 999: 'orient',\n",
              " 1000: 'gay',\n",
              " ...}"
            ]
          },
          "metadata": {},
          "execution_count": 50
        }
      ]
    },
    {
      "cell_type": "code",
      "metadata": {
        "id": "gJgVhq1zwEpf",
        "colab": {
          "base_uri": "https://localhost:8080/"
        },
        "outputId": "57bf1407-3438-45c4-fe56-0b7d582db685"
      },
      "source": [
        "# Cantidad de palabras en el vocabulario\n",
        "vocab_size = len(tok.word_counts)\n",
        "vocab_size"
      ],
      "execution_count": 33,
      "outputs": [
        {
          "output_type": "execute_result",
          "data": {
            "text/plain": [
              "2270"
            ]
          },
          "metadata": {},
          "execution_count": 33
        }
      ]
    },
    {
      "cell_type": "code",
      "metadata": {
        "id": "wKV85M2uwKJ9",
        "colab": {
          "base_uri": "https://localhost:8080/",
          "height": 304
        },
        "outputId": "a714ca21-3dcb-4244-a4e4-2fd728a39648"
      },
      "source": [
        "# Transformar los datos a oneHotEncoding\n",
        "y_data = to_categorical(y_data_int, num_classes=vocab_size)"
      ],
      "execution_count": 61,
      "outputs": [
        {
          "output_type": "error",
          "ename": "IndexError",
          "evalue": "ignored",
          "traceback": [
            "\u001b[0;31m---------------------------------------------------------------------------\u001b[0m",
            "\u001b[0;31mIndexError\u001b[0m                                Traceback (most recent call last)",
            "\u001b[0;32m<ipython-input-61-51c0d3e0c52c>\u001b[0m in \u001b[0;36m<module>\u001b[0;34m()\u001b[0m\n\u001b[1;32m      1\u001b[0m \u001b[0;31m# Transformar los datos a oneHotEncoding\u001b[0m\u001b[0;34m\u001b[0m\u001b[0;34m\u001b[0m\u001b[0;34m\u001b[0m\u001b[0m\n\u001b[0;32m----> 2\u001b[0;31m \u001b[0my_data\u001b[0m \u001b[0;34m=\u001b[0m \u001b[0mto_categorical\u001b[0m\u001b[0;34m(\u001b[0m\u001b[0my_data_int\u001b[0m\u001b[0;34m,\u001b[0m \u001b[0mnum_classes\u001b[0m\u001b[0;34m=\u001b[0m\u001b[0mvocab_size\u001b[0m\u001b[0;34m)\u001b[0m\u001b[0;34m\u001b[0m\u001b[0;34m\u001b[0m\u001b[0m\n\u001b[0m",
            "\u001b[0;32m/usr/local/lib/python3.7/dist-packages/keras/utils/np_utils.py\u001b[0m in \u001b[0;36mto_categorical\u001b[0;34m(y, num_classes, dtype)\u001b[0m\n\u001b[1;32m     69\u001b[0m   \u001b[0mn\u001b[0m \u001b[0;34m=\u001b[0m \u001b[0my\u001b[0m\u001b[0;34m.\u001b[0m\u001b[0mshape\u001b[0m\u001b[0;34m[\u001b[0m\u001b[0;36m0\u001b[0m\u001b[0;34m]\u001b[0m\u001b[0;34m\u001b[0m\u001b[0;34m\u001b[0m\u001b[0m\n\u001b[1;32m     70\u001b[0m   \u001b[0mcategorical\u001b[0m \u001b[0;34m=\u001b[0m \u001b[0mnp\u001b[0m\u001b[0;34m.\u001b[0m\u001b[0mzeros\u001b[0m\u001b[0;34m(\u001b[0m\u001b[0;34m(\u001b[0m\u001b[0mn\u001b[0m\u001b[0;34m,\u001b[0m \u001b[0mnum_classes\u001b[0m\u001b[0;34m)\u001b[0m\u001b[0;34m,\u001b[0m \u001b[0mdtype\u001b[0m\u001b[0;34m=\u001b[0m\u001b[0mdtype\u001b[0m\u001b[0;34m)\u001b[0m\u001b[0;34m\u001b[0m\u001b[0;34m\u001b[0m\u001b[0m\n\u001b[0;32m---> 71\u001b[0;31m   \u001b[0mcategorical\u001b[0m\u001b[0;34m[\u001b[0m\u001b[0mnp\u001b[0m\u001b[0;34m.\u001b[0m\u001b[0marange\u001b[0m\u001b[0;34m(\u001b[0m\u001b[0mn\u001b[0m\u001b[0;34m)\u001b[0m\u001b[0;34m,\u001b[0m \u001b[0my\u001b[0m\u001b[0;34m]\u001b[0m \u001b[0;34m=\u001b[0m \u001b[0;36m1\u001b[0m\u001b[0;34m\u001b[0m\u001b[0;34m\u001b[0m\u001b[0m\n\u001b[0m\u001b[1;32m     72\u001b[0m   \u001b[0moutput_shape\u001b[0m \u001b[0;34m=\u001b[0m \u001b[0minput_shape\u001b[0m \u001b[0;34m+\u001b[0m \u001b[0;34m(\u001b[0m\u001b[0mnum_classes\u001b[0m\u001b[0;34m,\u001b[0m\u001b[0;34m)\u001b[0m\u001b[0;34m\u001b[0m\u001b[0;34m\u001b[0m\u001b[0m\n\u001b[1;32m     73\u001b[0m   \u001b[0mcategorical\u001b[0m \u001b[0;34m=\u001b[0m \u001b[0mnp\u001b[0m\u001b[0;34m.\u001b[0m\u001b[0mreshape\u001b[0m\u001b[0;34m(\u001b[0m\u001b[0mcategorical\u001b[0m\u001b[0;34m,\u001b[0m \u001b[0moutput_shape\u001b[0m\u001b[0;34m)\u001b[0m\u001b[0;34m\u001b[0m\u001b[0;34m\u001b[0m\u001b[0m\n",
            "\u001b[0;31mIndexError\u001b[0m: index 2270 is out of bounds for axis 1 with size 2270"
          ]
        }
      ]
    },
    {
      "cell_type": "code",
      "metadata": {
        "id": "qWjNrNx9wM1b",
        "colab": {
          "base_uri": "https://localhost:8080/"
        },
        "outputId": "bdf32634-11a9-4be6-acb1-296101e0f311"
      },
      "source": [
        "# En el caso anterior explota porque y_data_int comienza en \"1\" en vez de \"0\"\n",
        "# valor minimo:\n",
        "min(y_data_int)"
      ],
      "execution_count": 62,
      "outputs": [
        {
          "output_type": "execute_result",
          "data": {
            "text/plain": [
              "1"
            ]
          },
          "metadata": {},
          "execution_count": 62
        }
      ]
    },
    {
      "cell_type": "code",
      "metadata": {
        "id": "gIg2e2WCwXbG",
        "colab": {
          "base_uri": "https://localhost:8080/"
        },
        "outputId": "4d260ab7-a69c-4629-f6a9-e468c2059838"
      },
      "source": [
        "y_data_int_offset = y_data_int - 1\n",
        "y_data = to_categorical(y_data_int_offset, num_classes=vocab_size) \n",
        "y_data.shape"
      ],
      "execution_count": 63,
      "outputs": [
        {
          "output_type": "execute_result",
          "data": {
            "text/plain": [
              "(30296, 2270)"
            ]
          },
          "metadata": {},
          "execution_count": 63
        }
      ]
    },
    {
      "cell_type": "markdown",
      "metadata": {
        "id": "GmJWNyxQwfCE"
      },
      "source": [
        "### 4 - Entrenar el modelo"
      ]
    },
    {
      "cell_type": "code",
      "metadata": {
        "id": "0cOmNZT_weK2",
        "colab": {
          "base_uri": "https://localhost:8080/"
        },
        "outputId": "bfae3546-2673-4878-8c58-9d4a2f366fa7"
      },
      "source": [
        "# largo de la secuencia de entrada\n",
        "input_seq_len = x_data.shape[1] \n",
        "input_seq_len"
      ],
      "execution_count": 64,
      "outputs": [
        {
          "output_type": "execute_result",
          "data": {
            "text/plain": [
              "3"
            ]
          },
          "metadata": {},
          "execution_count": 64
        }
      ]
    },
    {
      "cell_type": "code",
      "metadata": {
        "id": "qtwITjgnwlgp",
        "colab": {
          "base_uri": "https://localhost:8080/"
        },
        "outputId": "7e2cfac5-404f-4956-d4c4-8dd8ea589c4a"
      },
      "source": [
        "# Largo del vector de salida --> vocab_size\n",
        "output_size = vocab_size\n",
        "output_size"
      ],
      "execution_count": 65,
      "outputs": [
        {
          "output_type": "execute_result",
          "data": {
            "text/plain": [
              "2270"
            ]
          },
          "metadata": {},
          "execution_count": 65
        }
      ]
    },
    {
      "cell_type": "code",
      "metadata": {
        "id": "jzTZRXrrwrvi",
        "colab": {
          "base_uri": "https://localhost:8080/"
        },
        "outputId": "1aeba9a1-2d9d-4f62-ed2e-2550b1d88248"
      },
      "source": [
        "model = Sequential()\n",
        "\n",
        "# Embedding:\n",
        "# input_seq_len = 3 --> ingreso 3 palabras\n",
        "# input_dim = vocab_size --> 1628 palabras distintas\n",
        "# output_dim = 5 --> crear embeddings de tamaño 3 (tamaño variable y ajustable)\n",
        "model.add(Embedding(input_dim=vocab_size+1, output_dim=5, input_length=input_seq_len))\n",
        "\n",
        "model.add(LSTM(128, return_sequences=True))\n",
        "model.add(Dropout(0.2))\n",
        "model.add(LSTM(128)) # La última capa LSTM no lleva return_sequences\n",
        "model.add(Dense(64, activation='LeakyReLU'))\n",
        "\n",
        "# Predicción de clasificación con softmax\n",
        "# La salida vuelve al espacio de 1628 palabras posibles\n",
        "model.add(Dense(vocab_size, activation='softmax'))\n",
        "\n",
        "# Clasificación multiple categórica --> loss = categorical_crossentropy\n",
        "model.compile(loss='categorical_crossentropy', optimizer= keras.optimizers.Adam(learning_rate=0.005), metrics=['accuracy'])\n",
        "\n",
        "model.summary()"
      ],
      "execution_count": 101,
      "outputs": [
        {
          "output_type": "stream",
          "name": "stdout",
          "text": [
            "Model: \"sequential_15\"\n",
            "_________________________________________________________________\n",
            " Layer (type)                Output Shape              Param #   \n",
            "=================================================================\n",
            " embedding_15 (Embedding)    (None, 3, 5)              11355     \n",
            "                                                                 \n",
            " lstm_41 (LSTM)              (None, 3, 128)            68608     \n",
            "                                                                 \n",
            " dropout_26 (Dropout)        (None, 3, 128)            0         \n",
            "                                                                 \n",
            " lstm_42 (LSTM)              (None, 128)               131584    \n",
            "                                                                 \n",
            " dense_30 (Dense)            (None, 64)                8256      \n",
            "                                                                 \n",
            " dense_31 (Dense)            (None, 2270)              147550    \n",
            "                                                                 \n",
            "=================================================================\n",
            "Total params: 367,353\n",
            "Trainable params: 367,353\n",
            "Non-trainable params: 0\n",
            "_________________________________________________________________\n"
          ]
        }
      ]
    },
    {
      "cell_type": "code",
      "metadata": {
        "id": "oQq1PHDkxDvN",
        "colab": {
          "base_uri": "https://localhost:8080/"
        },
        "outputId": "8b181f34-d385-475c-c365-a4c34b3002fa"
      },
      "source": [
        "hist = model.fit(x_data, y_data, epochs=50, validation_split=0.2)"
      ],
      "execution_count": 102,
      "outputs": [
        {
          "output_type": "stream",
          "name": "stdout",
          "text": [
            "Epoch 1/50\n",
            "758/758 [==============================] - 11s 10ms/step - loss: 5.9142 - accuracy: 0.0492 - val_loss: 6.4337 - val_accuracy: 0.0411\n",
            "Epoch 2/50\n",
            "758/758 [==============================] - 7s 9ms/step - loss: 4.8729 - accuracy: 0.1398 - val_loss: 6.3753 - val_accuracy: 0.0888\n",
            "Epoch 3/50\n",
            "758/758 [==============================] - 6s 8ms/step - loss: 4.0885 - accuracy: 0.2377 - val_loss: 6.5302 - val_accuracy: 0.1129\n",
            "Epoch 4/50\n",
            "758/758 [==============================] - 6s 8ms/step - loss: 3.4618 - accuracy: 0.3258 - val_loss: 6.7436 - val_accuracy: 0.1262\n",
            "Epoch 5/50\n",
            "758/758 [==============================] - 7s 9ms/step - loss: 2.9690 - accuracy: 0.3983 - val_loss: 7.3299 - val_accuracy: 0.1368\n",
            "Epoch 6/50\n",
            "758/758 [==============================] - 6s 8ms/step - loss: 2.5899 - accuracy: 0.4576 - val_loss: 7.5967 - val_accuracy: 0.1587\n",
            "Epoch 7/50\n",
            "758/758 [==============================] - 7s 9ms/step - loss: 2.2805 - accuracy: 0.5033 - val_loss: 8.0438 - val_accuracy: 0.1561\n",
            "Epoch 8/50\n",
            "758/758 [==============================] - 6s 8ms/step - loss: 2.0351 - accuracy: 0.5438 - val_loss: 8.4308 - val_accuracy: 0.1612\n",
            "Epoch 9/50\n",
            "758/758 [==============================] - 6s 8ms/step - loss: 1.8378 - accuracy: 0.5767 - val_loss: 8.4766 - val_accuracy: 0.1667\n",
            "Epoch 10/50\n",
            "758/758 [==============================] - 7s 9ms/step - loss: 1.6584 - accuracy: 0.6070 - val_loss: 9.0079 - val_accuracy: 0.1743\n",
            "Epoch 11/50\n",
            "758/758 [==============================] - 7s 10ms/step - loss: 1.5180 - accuracy: 0.6345 - val_loss: 8.9100 - val_accuracy: 0.1736\n",
            "Epoch 12/50\n",
            "758/758 [==============================] - 7s 9ms/step - loss: 1.4033 - accuracy: 0.6537 - val_loss: 9.3537 - val_accuracy: 0.1789\n",
            "Epoch 13/50\n",
            "758/758 [==============================] - 7s 9ms/step - loss: 1.3106 - accuracy: 0.6722 - val_loss: 9.6815 - val_accuracy: 0.1794\n",
            "Epoch 14/50\n",
            "758/758 [==============================] - 6s 8ms/step - loss: 1.2141 - accuracy: 0.6911 - val_loss: 9.7820 - val_accuracy: 0.1795\n",
            "Epoch 15/50\n",
            "758/758 [==============================] - 6s 8ms/step - loss: 1.1410 - accuracy: 0.7071 - val_loss: 10.1597 - val_accuracy: 0.1785\n",
            "Epoch 16/50\n",
            "758/758 [==============================] - 7s 9ms/step - loss: 1.0809 - accuracy: 0.7171 - val_loss: 10.2340 - val_accuracy: 0.1858\n",
            "Epoch 17/50\n",
            "758/758 [==============================] - 7s 9ms/step - loss: 1.0289 - accuracy: 0.7259 - val_loss: 10.5559 - val_accuracy: 0.1757\n",
            "Epoch 18/50\n",
            "758/758 [==============================] - 7s 9ms/step - loss: 0.9804 - accuracy: 0.7374 - val_loss: 10.7154 - val_accuracy: 0.1851\n",
            "Epoch 19/50\n",
            "758/758 [==============================] - 7s 9ms/step - loss: 0.9461 - accuracy: 0.7468 - val_loss: 11.0812 - val_accuracy: 0.1883\n",
            "Epoch 20/50\n",
            "758/758 [==============================] - 7s 9ms/step - loss: 0.9007 - accuracy: 0.7573 - val_loss: 11.1151 - val_accuracy: 0.1853\n",
            "Epoch 21/50\n",
            "758/758 [==============================] - 7s 9ms/step - loss: 0.8671 - accuracy: 0.7650 - val_loss: 11.1218 - val_accuracy: 0.1860\n",
            "Epoch 22/50\n",
            "758/758 [==============================] - 7s 9ms/step - loss: 0.8344 - accuracy: 0.7702 - val_loss: 11.6842 - val_accuracy: 0.1827\n",
            "Epoch 23/50\n",
            "758/758 [==============================] - 7s 9ms/step - loss: 0.8145 - accuracy: 0.7759 - val_loss: 11.4805 - val_accuracy: 0.1880\n",
            "Epoch 24/50\n",
            "758/758 [==============================] - 7s 9ms/step - loss: 0.7825 - accuracy: 0.7844 - val_loss: 11.8081 - val_accuracy: 0.1898\n",
            "Epoch 25/50\n",
            "758/758 [==============================] - 7s 9ms/step - loss: 0.7575 - accuracy: 0.7871 - val_loss: 11.6458 - val_accuracy: 0.1906\n",
            "Epoch 26/50\n",
            "758/758 [==============================] - 7s 9ms/step - loss: 0.7470 - accuracy: 0.7912 - val_loss: 12.1470 - val_accuracy: 0.1911\n",
            "Epoch 27/50\n",
            "758/758 [==============================] - 7s 9ms/step - loss: 0.7227 - accuracy: 0.7973 - val_loss: 12.1577 - val_accuracy: 0.1913\n",
            "Epoch 28/50\n",
            "758/758 [==============================] - 6s 8ms/step - loss: 0.7119 - accuracy: 0.7974 - val_loss: 12.4427 - val_accuracy: 0.1983\n",
            "Epoch 29/50\n",
            "758/758 [==============================] - 6s 8ms/step - loss: 0.7068 - accuracy: 0.8040 - val_loss: 12.1058 - val_accuracy: 0.1955\n",
            "Epoch 30/50\n",
            "758/758 [==============================] - 7s 9ms/step - loss: 0.6856 - accuracy: 0.8044 - val_loss: 12.3783 - val_accuracy: 0.1932\n",
            "Epoch 31/50\n",
            "758/758 [==============================] - 7s 9ms/step - loss: 0.6635 - accuracy: 0.8126 - val_loss: 12.3636 - val_accuracy: 0.1916\n",
            "Epoch 32/50\n",
            "758/758 [==============================] - 7s 9ms/step - loss: 0.6578 - accuracy: 0.8126 - val_loss: 12.4398 - val_accuracy: 0.1950\n",
            "Epoch 33/50\n",
            "758/758 [==============================] - 6s 8ms/step - loss: 0.6554 - accuracy: 0.8135 - val_loss: 12.1691 - val_accuracy: 0.1964\n",
            "Epoch 34/50\n",
            "758/758 [==============================] - 6s 8ms/step - loss: 0.6339 - accuracy: 0.8191 - val_loss: 12.4228 - val_accuracy: 0.1954\n",
            "Epoch 35/50\n",
            "758/758 [==============================] - 6s 8ms/step - loss: 0.6295 - accuracy: 0.8180 - val_loss: 12.5535 - val_accuracy: 0.1932\n",
            "Epoch 36/50\n",
            "758/758 [==============================] - 6s 8ms/step - loss: 0.6248 - accuracy: 0.8192 - val_loss: 12.7528 - val_accuracy: 0.1919\n",
            "Epoch 37/50\n",
            "758/758 [==============================] - 7s 9ms/step - loss: 0.6154 - accuracy: 0.8233 - val_loss: 12.7058 - val_accuracy: 0.1993\n",
            "Epoch 38/50\n",
            "758/758 [==============================] - 6s 8ms/step - loss: 0.6035 - accuracy: 0.8273 - val_loss: 12.4315 - val_accuracy: 0.2021\n",
            "Epoch 39/50\n",
            "758/758 [==============================] - 6s 8ms/step - loss: 0.5916 - accuracy: 0.8278 - val_loss: 13.0149 - val_accuracy: 0.1924\n",
            "Epoch 40/50\n",
            "758/758 [==============================] - 6s 8ms/step - loss: 0.5938 - accuracy: 0.8273 - val_loss: 12.7111 - val_accuracy: 0.1979\n",
            "Epoch 41/50\n",
            "758/758 [==============================] - 6s 8ms/step - loss: 0.5800 - accuracy: 0.8310 - val_loss: 12.5758 - val_accuracy: 0.1993\n",
            "Epoch 42/50\n",
            "758/758 [==============================] - 6s 8ms/step - loss: 0.5773 - accuracy: 0.8327 - val_loss: 13.1061 - val_accuracy: 0.1916\n",
            "Epoch 43/50\n",
            "758/758 [==============================] - 6s 8ms/step - loss: 0.5604 - accuracy: 0.8349 - val_loss: 13.0246 - val_accuracy: 0.1972\n",
            "Epoch 44/50\n",
            "758/758 [==============================] - 7s 9ms/step - loss: 0.5627 - accuracy: 0.8353 - val_loss: 12.9589 - val_accuracy: 0.2005\n",
            "Epoch 45/50\n",
            "758/758 [==============================] - 7s 9ms/step - loss: 0.5722 - accuracy: 0.8349 - val_loss: 12.9414 - val_accuracy: 0.1957\n",
            "Epoch 46/50\n",
            "758/758 [==============================] - 7s 9ms/step - loss: 0.5576 - accuracy: 0.8356 - val_loss: 12.6452 - val_accuracy: 0.2002\n",
            "Epoch 47/50\n",
            "758/758 [==============================] - 7s 9ms/step - loss: 0.5476 - accuracy: 0.8409 - val_loss: 13.2184 - val_accuracy: 0.1972\n",
            "Epoch 48/50\n",
            "758/758 [==============================] - 7s 9ms/step - loss: 0.5474 - accuracy: 0.8392 - val_loss: 13.0946 - val_accuracy: 0.1949\n",
            "Epoch 49/50\n",
            "758/758 [==============================] - 6s 9ms/step - loss: 0.5379 - accuracy: 0.8402 - val_loss: 12.9061 - val_accuracy: 0.1960\n",
            "Epoch 50/50\n",
            "758/758 [==============================] - 7s 9ms/step - loss: 0.5418 - accuracy: 0.8377 - val_loss: 12.5782 - val_accuracy: 0.1960\n"
          ]
        }
      ]
    },
    {
      "cell_type": "code",
      "metadata": {
        "id": "q_orBXOrCsNn",
        "colab": {
          "base_uri": "https://localhost:8080/",
          "height": 265
        },
        "outputId": "cfd33992-f1ad-41cd-ea35-4c07e1fe1a16"
      },
      "source": [
        "import matplotlib.pyplot as plt\n",
        "import seaborn as sns\n",
        "\n",
        "# Entrenamiento\n",
        "epoch_count = range(1, len(hist.history['accuracy']) + 1)\n",
        "sns.lineplot(x=epoch_count,  y=hist.history['accuracy'], label='train')\n",
        "sns.lineplot(x=epoch_count,  y=hist.history['val_accuracy'], label='valid')\n",
        "plt.show()"
      ],
      "execution_count": 103,
      "outputs": [
        {
          "output_type": "display_data",
          "data": {
            "text/plain": [
              "<Figure size 432x288 with 1 Axes>"
            ],
            "image/png": "[encoded data removed]"
          },
          "metadata": {
            "needs_background": "light"
          }
        }
      ]
    },
    {
      "cell_type": "markdown",
      "metadata": {
        "id": "KN6Fg_BsxJe6"
      },
      "source": [
        "### 5 - Predicción de próxima palabra"
      ]
    },
    {
      "cell_type": "code",
      "metadata": {
        "id": "iy_AXWQWzeeE"
      },
      "source": [
        "# Keras pad_sequences\n",
        "# https://www.tensorflow.org/api_docs/python/tf/keras/preprocessing/sequence/pad_sequences\n",
        "# Si la secuencia de entrada supera al input_seq_len (3) se trunca\n",
        "# Si la secuencia es más corta se agregna ceros al comienzo"
      ],
      "execution_count": null,
      "outputs": []
    },
    {
      "cell_type": "code",
      "metadata": {
        "id": "IBvKHFPmzpy2"
      },
      "source": [
        "# Se utilizará gradio para ensayar el modelo\n",
        "# Herramienta poderosa para crear interfaces rápidas para ensayar modelos\n",
        "# https://gradio.app/\n",
        "import sys\n",
        "!{sys.executable} -m pip install gradio --quiet"
      ],
      "execution_count": 104,
      "outputs": []
    },
    {
      "cell_type": "code",
      "metadata": {
        "id": "HNyBykvhzs7-",
        "colab": {
          "base_uri": "https://localhost:8080/",
          "height": 695
        },
        "outputId": "096bab8b-c3ab-44ff-db84-b236804679c0"
      },
      "source": [
        "import gradio as gr\n",
        "\n",
        "def model_response(human_text):\n",
        "\n",
        "    # Encodeamos\n",
        "    encoded = tok.texts_to_sequences([human_text])[0]\n",
        "    # Si tienen distinto largo\n",
        "    encoded = pad_sequences([encoded], maxlen=3, padding='pre')\n",
        "    \n",
        "    # Predicción softmax\n",
        "    y_hat = model.predict(encoded).argmax(axis=-1)\n",
        "\n",
        "    # Debemos buscar en el vocabulario la palabra\n",
        "    # que corresopnde al indice (y_hat) predicho por le modelo\n",
        "    out_word = ''\n",
        "    for word, index in tok.word_index.items():\n",
        "        if index == y_hat:\n",
        "            out_word = word\n",
        "            break\n",
        "\n",
        "    # Agrego la palabra a la frase predicha\n",
        "    return human_text + ' ' + out_word\n",
        "\n",
        "iface = gr.Interface(\n",
        "    fn=model_response,\n",
        "    inputs=[\"textbox\"],\n",
        "    outputs=\"text\",\n",
        "    layout=\"vertical\")\n",
        "\n",
        "iface.launch(debug=True)"
      ],
      "execution_count": 70,
      "outputs": [
        {
          "output_type": "stream",
          "name": "stderr",
          "text": [
            "/usr/local/lib/python3.7/dist-packages/gradio/deprecation.py:40: UserWarning: `layout` parameter is deprecated, and it has no effect\n",
            "  warnings.warn(value)\n"
          ]
        },
        {
          "output_type": "stream",
          "name": "stdout",
          "text": [
            "Colab notebook detected. This cell will run indefinitely so that you can see errors and logs. To turn off, set debug=False in launch().\n",
            "Running on public URL: https://36038.gradio.app\n",
            "\n",
            "This share link expires in 72 hours. For free permanent hosting, check out Spaces: https://huggingface.co/spaces\n"
          ]
        },
        {
          "output_type": "display_data",
          "data": {
            "text/plain": [
              "<IPython.core.display.HTML object>"
            ],
            "text/html": [
              "<div><iframe src=\"https://36038.gradio.app\" width=\"900\" height=\"500\" allow=\"autoplay; camera; microphone;\" frameborder=\"0\" allowfullscreen></iframe></div>"
            ]
          },
          "metadata": {}
        },
        {
          "output_type": "stream",
          "name": "stdout",
          "text": [
            "Keyboard interruption in main thread... closing server.\n"
          ]
        },
        {
          "output_type": "execute_result",
          "data": {
            "text/plain": [
              "(<gradio.routes.App at 0x7f151403ea10>,\n",
              " 'http://127.0.0.1:7860/',\n",
              " 'https://36038.gradio.app')"
            ]
          },
          "metadata": {},
          "execution_count": 70
        }
      ]
    },
    {
      "cell_type": "markdown",
      "metadata": {
        "id": "mCeMWWupxN1-"
      },
      "source": [
        "### 6 - Generación de secuencias nuevas"
      ]
    },
    {
      "cell_type": "code",
      "metadata": {
        "id": "bwbS_pfhxvB3"
      },
      "source": [
        "def generate_seq(model, tokenizer, seed_text, max_length, n_words):\n",
        "    \"\"\"\n",
        "        Exec model sequence prediction\n",
        "\n",
        "        Args:\n",
        "            model (keras): modelo entrenado\n",
        "            tokenizer (keras tokenizer): tonenizer utilizado en el preprocesamiento\n",
        "            seed_text (string): texto de entrada (input_seq)\n",
        "            max_length (int): máxima longitud de la sequencia de entrada\n",
        "            n_words (int): números de palabras a agregar a la sequencia de entrada\n",
        "        returns:\n",
        "            output_text (string): sentencia con las \"n_words\" agregadas\n",
        "    \"\"\"\n",
        "    output_text = seed_text\n",
        "\t# generate a fixed number of words\n",
        "    for _ in range(n_words):\n",
        "\t\t# Encodeamos\n",
        "        encoded = tokenizer.texts_to_sequences([output_text])[0]\n",
        "\t\t# Si tienen distinto largo\n",
        "        encoded = pad_sequences([encoded], maxlen=max_length, padding='pre')\n",
        "\t\t\n",
        "\t\t# Predicción softmax\n",
        "        y_hat = model.predict(encoded).argmax(axis=-1)\n",
        "\t\t# Vamos concatenando las predicciones\n",
        "        out_word = ''\n",
        "\n",
        "        # Debemos buscar en el vocabulario la palabra\n",
        "        # que corresopnde al indice (y_hat) predicho por le modelo\n",
        "        for word, index in tokenizer.word_index.items():\n",
        "            if index == y_hat:\n",
        "                out_word = word\n",
        "                break\n",
        "\n",
        "\t\t# Agrego las palabras a la frase predicha\n",
        "        output_text += ' ' + out_word\n",
        "    return output_text"
      ],
      "execution_count": 105,
      "outputs": []
    },
    {
      "cell_type": "code",
      "metadata": {
        "id": "JoFqRC5pxzqS",
        "colab": {
          "base_uri": "https://localhost:8080/",
          "height": 36
        },
        "outputId": "1b21e694-f8d0-4d10-c35c-7e0fcff70f5a"
      },
      "source": [
        "input_text='this is your'\n",
        "\n",
        "generate_seq(model, tok, input_text, max_length=3, n_words=2)"
      ],
      "execution_count": 116,
      "outputs": [
        {
          "output_type": "execute_result",
          "data": {
            "text/plain": [
              "'this is your own baby'"
            ],
            "application/vnd.google.colaboratory.intrinsic+json": {
              "type": "string"
            }
          },
          "metadata": {},
          "execution_count": 116
        }
      ]
    },
    {
      "cell_type": "markdown",
      "metadata": {
        "id": "T2SHmXbgxQH9"
      },
      "source": [
        "### 7 - Conclusiones\n",
        "En este caso se entreno le modelo con el dataset de las canciones de lady gaga.\n",
        "Como en el ejercicio visto en clase, el modelo no presenta una buena performance en la etapa de entrenamiento.\n",
        "\n"
      ]
    }
  ]
}