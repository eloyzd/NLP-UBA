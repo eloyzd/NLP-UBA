{
  "cells": [
    {
      "cell_type": "markdown",
      "metadata": {
        "id": "kBLpTr7plguX"
      },
      "source": [
        "<img src=\"https://github.com/hernancontigiani/ceia_memorias_especializacion/raw/master/Figures/logoFIUBA.jpg\" width=\"500\" align=\"center\">\n",
        "\n",
        "\n",
        "# Procesamiento de lenguaje natural\n",
        "## Sentiment analysis con Embeddings + LSTM"
      ]
    },
    {
      "cell_type": "markdown",
      "metadata": {
        "id": "9W6nuajhlqZD"
      },
      "source": [
        "### Objetivo\n",
        "El objetivo es utilizar las críticas de compradores de ropa para que el sistema determine la evaluación del comprador y su crítica (cuantas estrellas le asigna al producto)."
      ]
    },
    {
      "cell_type": "code",
      "execution_count": 1,
      "metadata": {
        "colab": {
          "base_uri": "https://localhost:8080/"
        },
        "id": "i6zvzv3qZ6xS",
        "outputId": "32ee5d98-feff-4b71-a795-b4ad6512bb8e"
      },
      "outputs": [],
      "source": [
        "!pip install --upgrade --no-cache-dir gdown --quiet"
      ]
    },
    {
      "cell_type": "code",
      "execution_count": 2,
      "metadata": {
        "id": "hCpOVzJdl8_p"
      },
      "outputs": [],
      "source": [
        "import numpy as np\n",
        "import random\n",
        "import io\n",
        "import pickle\n",
        "import pandas as pd\n",
        "\n",
        "import matplotlib.pyplot as plt\n",
        "import seaborn as sns\n",
        "\n",
        "from tensorflow import keras\n",
        "from tensorflow.keras import layers\n",
        "\n",
        "from keras.utils.np_utils import to_categorical\n",
        "from keras_preprocessing.sequence import pad_sequences\n",
        "from keras.models import Sequential\n",
        "from keras.layers import Dense\n",
        "from keras.layers import LSTM\n",
        "from keras.layers import Embedding\n",
        "from keras.layers import Dropout\n",
        "import tensorflow as tf\n",
        "physical_devices = tf.config.list_physical_devices('GPU')"
      ]
    },
    {
      "cell_type": "markdown",
      "metadata": {
        "id": "8UPeRkrAmbF3"
      },
      "source": [
        "### Datos\n",
        "Utilizaremos como dataset críticas de compradores de ropa (eCommerce) los cuales puntuaron a cada prenda con un puntaje de 1 a 5 estrellas.\\\n",
        "Referencia del dataset: [LINK](https://www.kaggle.com/nicapotato/womens-ecommerce-clothing-reviews/version/1)"
      ]
    },
    {
      "cell_type": "code",
      "execution_count": 3,
      "metadata": {
        "colab": {
          "base_uri": "https://localhost:8080/"
        },
        "id": "C7jLvTU3lSyL",
        "outputId": "2a16a040-ed15-4960-ad52-99a250911780"
      },
      "outputs": [
        {
          "name": "stdout",
          "output_type": "stream",
          "text": [
            "El dataset ya se encuentra descargado\n"
          ]
        }
      ],
      "source": [
        "# Descargar la carpeta de dataset\n",
        "import os\n",
        "import gdown\n",
        "if os.access('clothing_ecommerce_reviews.csv', os.F_OK) is False:\n",
        "    url = 'https://drive.google.com/uc?id=1k2Dz4oY5uxI3JEaT6m-L2T2HvLkECYIP'\n",
        "    output = 'clothing_ecommerce_reviews.csv'\n",
        "    gdown.download(url, output, quiet=False)\n",
        "else:\n",
        "    print(\"El dataset ya se encuentra descargado\")"
      ]
    },
    {
      "cell_type": "code",
      "execution_count": 4,
      "metadata": {
        "colab": {
          "base_uri": "https://localhost:8080/",
          "height": 354
        },
        "id": "o-SV1P3dnD1J",
        "outputId": "d399101f-4cd5-4f56-c316-c1376ecc9d84"
      },
      "outputs": [
        {
          "data": {
            "text/html": [
              "<div>\n",
              "<style scoped>\n",
              "    .dataframe tbody tr th:only-of-type {\n",
              "        vertical-align: middle;\n",
              "    }\n",
              "\n",
              "    .dataframe tbody tr th {\n",
              "        vertical-align: top;\n",
              "    }\n",
              "\n",
              "    .dataframe thead th {\n",
              "        text-align: right;\n",
              "    }\n",
              "</style>\n",
              "<table border=\"1\" class=\"dataframe\">\n",
              "  <thead>\n",
              "    <tr style=\"text-align: right;\">\n",
              "      <th></th>\n",
              "      <th>Clothing ID</th>\n",
              "      <th>Age</th>\n",
              "      <th>Title</th>\n",
              "      <th>Review Text</th>\n",
              "      <th>Rating</th>\n",
              "      <th>Recommended IND</th>\n",
              "      <th>Positive Feedback Count</th>\n",
              "      <th>Division Name</th>\n",
              "      <th>Department Name</th>\n",
              "      <th>Class Name</th>\n",
              "    </tr>\n",
              "  </thead>\n",
              "  <tbody>\n",
              "    <tr>\n",
              "      <th>0</th>\n",
              "      <td>767</td>\n",
              "      <td>33</td>\n",
              "      <td>NaN</td>\n",
              "      <td>Absolutely wonderful - silky and sexy and comf...</td>\n",
              "      <td>4</td>\n",
              "      <td>1</td>\n",
              "      <td>0</td>\n",
              "      <td>Initmates</td>\n",
              "      <td>Intimate</td>\n",
              "      <td>Intimates</td>\n",
              "    </tr>\n",
              "    <tr>\n",
              "      <th>1</th>\n",
              "      <td>1080</td>\n",
              "      <td>34</td>\n",
              "      <td>NaN</td>\n",
              "      <td>Love this dress!  it's sooo pretty.  i happene...</td>\n",
              "      <td>5</td>\n",
              "      <td>1</td>\n",
              "      <td>4</td>\n",
              "      <td>General</td>\n",
              "      <td>Dresses</td>\n",
              "      <td>Dresses</td>\n",
              "    </tr>\n",
              "    <tr>\n",
              "      <th>2</th>\n",
              "      <td>1077</td>\n",
              "      <td>60</td>\n",
              "      <td>Some major design flaws</td>\n",
              "      <td>I had such high hopes for this dress and reall...</td>\n",
              "      <td>3</td>\n",
              "      <td>0</td>\n",
              "      <td>0</td>\n",
              "      <td>General</td>\n",
              "      <td>Dresses</td>\n",
              "      <td>Dresses</td>\n",
              "    </tr>\n",
              "    <tr>\n",
              "      <th>3</th>\n",
              "      <td>1049</td>\n",
              "      <td>50</td>\n",
              "      <td>My favorite buy!</td>\n",
              "      <td>I love, love, love this jumpsuit. it's fun, fl...</td>\n",
              "      <td>5</td>\n",
              "      <td>1</td>\n",
              "      <td>0</td>\n",
              "      <td>General Petite</td>\n",
              "      <td>Bottoms</td>\n",
              "      <td>Pants</td>\n",
              "    </tr>\n",
              "    <tr>\n",
              "      <th>4</th>\n",
              "      <td>847</td>\n",
              "      <td>47</td>\n",
              "      <td>Flattering shirt</td>\n",
              "      <td>This shirt is very flattering to all due to th...</td>\n",
              "      <td>5</td>\n",
              "      <td>1</td>\n",
              "      <td>6</td>\n",
              "      <td>General</td>\n",
              "      <td>Tops</td>\n",
              "      <td>Blouses</td>\n",
              "    </tr>\n",
              "  </tbody>\n",
              "</table>\n",
              "</div>"
            ],
            "text/plain": [
              "   Clothing ID  Age                    Title  \\\n",
              "0          767   33                      NaN   \n",
              "1         1080   34                      NaN   \n",
              "2         1077   60  Some major design flaws   \n",
              "3         1049   50         My favorite buy!   \n",
              "4          847   47         Flattering shirt   \n",
              "\n",
              "                                         Review Text  Rating  Recommended IND  \\\n",
              "0  Absolutely wonderful - silky and sexy and comf...       4                1   \n",
              "1  Love this dress!  it's sooo pretty.  i happene...       5                1   \n",
              "2  I had such high hopes for this dress and reall...       3                0   \n",
              "3  I love, love, love this jumpsuit. it's fun, fl...       5                1   \n",
              "4  This shirt is very flattering to all due to th...       5                1   \n",
              "\n",
              "   Positive Feedback Count   Division Name Department Name Class Name  \n",
              "0                        0       Initmates        Intimate  Intimates  \n",
              "1                        4         General         Dresses    Dresses  \n",
              "2                        0         General         Dresses    Dresses  \n",
              "3                        0  General Petite         Bottoms      Pants  \n",
              "4                        6         General            Tops    Blouses  "
            ]
          },
          "execution_count": 4,
          "metadata": {},
          "output_type": "execute_result"
        }
      ],
      "source": [
        "# Armar el dataset\n",
        "df = pd.read_csv('clothing_ecommerce_reviews.csv')\n",
        "df.drop(columns = ['Unnamed: 0'], inplace = True)\n",
        "df.head()"
      ]
    },
    {
      "cell_type": "markdown",
      "metadata": {
        "id": "q-OwSePKm-FK"
      },
      "source": [
        "### 1 - Limpieza de datos\n",
        "Alumno:\n",
        "- Del dataset unicamente utilizar las columnas \"Review Text\" y \"Rating.\n",
        "- Tranformar el rating 1-5 a una escala numérica de 0 a 4.\n",
        "\n"
      ]
    },
    {
      "cell_type": "code",
      "execution_count": 5,
      "metadata": {
        "colab": {
          "base_uri": "https://localhost:8080/",
          "height": 206
        },
        "id": "-hc7-AmYnPC3",
        "outputId": "7430c94d-28e7-4cfd-8738-83be4c829d39"
      },
      "outputs": [
        {
          "data": {
            "text/html": [
              "<div>\n",
              "<style scoped>\n",
              "    .dataframe tbody tr th:only-of-type {\n",
              "        vertical-align: middle;\n",
              "    }\n",
              "\n",
              "    .dataframe tbody tr th {\n",
              "        vertical-align: top;\n",
              "    }\n",
              "\n",
              "    .dataframe thead th {\n",
              "        text-align: right;\n",
              "    }\n",
              "</style>\n",
              "<table border=\"1\" class=\"dataframe\">\n",
              "  <thead>\n",
              "    <tr style=\"text-align: right;\">\n",
              "      <th></th>\n",
              "      <th>Review Text</th>\n",
              "      <th>Rating</th>\n",
              "    </tr>\n",
              "  </thead>\n",
              "  <tbody>\n",
              "    <tr>\n",
              "      <th>0</th>\n",
              "      <td>Absolutely wonderful - silky and sexy and comf...</td>\n",
              "      <td>3</td>\n",
              "    </tr>\n",
              "    <tr>\n",
              "      <th>1</th>\n",
              "      <td>Love this dress!  it's sooo pretty.  i happene...</td>\n",
              "      <td>4</td>\n",
              "    </tr>\n",
              "    <tr>\n",
              "      <th>2</th>\n",
              "      <td>I had such high hopes for this dress and reall...</td>\n",
              "      <td>2</td>\n",
              "    </tr>\n",
              "    <tr>\n",
              "      <th>3</th>\n",
              "      <td>I love, love, love this jumpsuit. it's fun, fl...</td>\n",
              "      <td>4</td>\n",
              "    </tr>\n",
              "    <tr>\n",
              "      <th>4</th>\n",
              "      <td>This shirt is very flattering to all due to th...</td>\n",
              "      <td>4</td>\n",
              "    </tr>\n",
              "  </tbody>\n",
              "</table>\n",
              "</div>"
            ],
            "text/plain": [
              "                                         Review Text  Rating\n",
              "0  Absolutely wonderful - silky and sexy and comf...       3\n",
              "1  Love this dress!  it's sooo pretty.  i happene...       4\n",
              "2  I had such high hopes for this dress and reall...       2\n",
              "3  I love, love, love this jumpsuit. it's fun, fl...       4\n",
              "4  This shirt is very flattering to all due to th...       4"
            ]
          },
          "execution_count": 5,
          "metadata": {},
          "output_type": "execute_result"
        }
      ],
      "source": [
        "df_reviews = df.loc[:, ['Review Text', 'Rating']].dropna()\n",
        "df_reviews['Rating'] = df_reviews['Rating'] - 1\n",
        "df_reviews.head()"
      ]
    },
    {
      "cell_type": "code",
      "execution_count": 6,
      "metadata": {
        "id": "sZtvASVOn3ty"
      },
      "outputs": [],
      "source": [
        "# Alumno: Observar como está distribuido el dataset respecto a la columna Rating\n",
        "# es decir, observar que tan balanceado se encuentra respecot a cada clase"
      ]
    },
    {
      "cell_type": "code",
      "execution_count": 7,
      "metadata": {
        "colab": {
          "base_uri": "https://localhost:8080/",
          "height": 279
        },
        "id": "Cd7WSyeDnMZh",
        "outputId": "b4ad1792-e24a-44c1-e03b-9d38c17b835f"
      },
      "outputs": [
        {
          "data": {
            "image/png": "[encoded data removed]",
            "text/plain": [
              "<Figure size 432x288 with 1 Axes>"
            ]
          },
          "metadata": {
            "needs_background": "light"
          },
          "output_type": "display_data"
        }
      ],
      "source": [
        "df_reviews['Rating'].value_counts()\n",
        "sns.countplot(x='Rating', data=df_reviews)\n",
        "plt.show()"
      ]
    },
    {
      "cell_type": "code",
      "execution_count": 8,
      "metadata": {
        "id": "KUtM6Zgo5C3n"
      },
      "outputs": [
        {
          "data": {
            "image/png": "[encoded data removed]",
            "text/plain": [
              "<Figure size 432x288 with 1 Axes>"
            ]
          },
          "metadata": {
            "needs_background": "light"
          },
          "output_type": "display_data"
        }
      ],
      "source": [
        "tag_0 = df_reviews[df_reviews['Rating'] == 0]\n",
        "tag_1 = df_reviews[df_reviews['Rating'] == 1].iloc[0:len(tag_0)]\n",
        "tag_2 = df_reviews[df_reviews['Rating'] == 2].iloc[0:len(tag_0)]\n",
        "tag_3 = df_reviews[df_reviews['Rating'] == 3].iloc[0:len(tag_0)]\n",
        "tag_4 = df_reviews[df_reviews['Rating'] == 4].iloc[0:len(tag_0)]\n",
        "df_reviews = pd.concat([tag_0,tag_1,tag_2,tag_3,tag_4])\n",
        "df_reviews['Rating'].value_counts()\n",
        "sns.countplot(x='Rating', data=df_reviews)\n",
        "plt.show()\n"
      ]
    },
    {
      "cell_type": "code",
      "execution_count": 9,
      "metadata": {
        "colab": {
          "base_uri": "https://localhost:8080/"
        },
        "id": "gVJ_RVi4o1h3",
        "outputId": "9fa70ad1-df11-4639-de23-afaecbc0722b"
      },
      "outputs": [
        {
          "data": {
            "text/plain": [
              "(4105,)"
            ]
          },
          "execution_count": 9,
          "metadata": {},
          "output_type": "execute_result"
        }
      ],
      "source": [
        "# Alumno: tomar la columna de las review y almacenarlo todo en un vector numpy de reviews\n",
        "text_sequences = df_reviews['Review Text'].values\n",
        "text_sequences.shape"
      ]
    },
    {
      "cell_type": "code",
      "execution_count": 10,
      "metadata": {
        "colab": {
          "base_uri": "https://localhost:8080/"
        },
        "id": "4nT5Un_co65Q",
        "outputId": "83d96538-3672-41fe-c622-3bbdd15df33e"
      },
      "outputs": [
        {
          "data": {
            "text/plain": [
              "4105"
            ]
          },
          "execution_count": 10,
          "metadata": {},
          "output_type": "execute_result"
        }
      ],
      "source": [
        "# Alumno: Cuantas reviews (rows) hay para evaluar?\n",
        "len(text_sequences)"
      ]
    },
    {
      "cell_type": "code",
      "execution_count": 11,
      "metadata": {
        "id": "HP5uN9tqpHu_"
      },
      "outputs": [],
      "source": [
        "# Alumno: Concatenar todas las reviews para armar el corpus\n",
        "corpus = ' '.join(text_sequences)\n"
      ]
    },
    {
      "cell_type": "code",
      "execution_count": 12,
      "metadata": {
        "colab": {
          "base_uri": "https://localhost:8080/"
        },
        "id": "FEzmePgdpf74",
        "outputId": "1d0e67a3-6a65-4090-841e-1ee8b8963649"
      },
      "outputs": [
        {
          "data": {
            "text/plain": [
              "1287596"
            ]
          },
          "execution_count": 12,
          "metadata": {},
          "output_type": "execute_result"
        }
      ],
      "source": [
        "# Alumno: ¿Cuál es la longitud de ese corpus?\n",
        "len(corpus)"
      ]
    },
    {
      "cell_type": "code",
      "execution_count": 13,
      "metadata": {
        "id": "MYeJLdDmpvOe"
      },
      "outputs": [],
      "source": [
        "# Alumno: Utilizar \"text_to_word_sequence\" para separar las palabras en tokens\n",
        "# recordar que text_to_word_sequence automaticamente quita los signos de puntuacion y pasa el texto a lowercase\n",
        "from keras.preprocessing.text import text_to_word_sequence\n",
        "tokens = text_to_word_sequence(corpus)"
      ]
    },
    {
      "cell_type": "code",
      "execution_count": 14,
      "metadata": {
        "colab": {
          "base_uri": "https://localhost:8080/"
        },
        "id": "M6L-fnWAp_lA",
        "outputId": "692ab006-104d-4f70-b97a-2bf5455e032f"
      },
      "outputs": [
        {
          "data": {
            "text/plain": [
              "['3',\n",
              " 'tags',\n",
              " 'sewn',\n",
              " 'in',\n",
              " '2',\n",
              " 'small',\n",
              " 'about',\n",
              " \"1''\",\n",
              " 'long',\n",
              " 'and',\n",
              " '1',\n",
              " 'huge',\n",
              " 'about',\n",
              " \"2''\",\n",
              " 'x',\n",
              " \"3''\",\n",
              " 'very',\n",
              " 'itchy',\n",
              " 'so',\n",
              " 'i']"
            ]
          },
          "execution_count": 14,
          "metadata": {},
          "output_type": "execute_result"
        }
      ],
      "source": [
        "# Alumno: Dar un vistazo a los primeros 20 tokens/palabras\n",
        "tokens[:20]"
      ]
    },
    {
      "cell_type": "code",
      "execution_count": 15,
      "metadata": {
        "colab": {
          "base_uri": "https://localhost:8080/"
        },
        "id": "-8QgwwMUqG0d",
        "outputId": "35634ef3-ac67-460a-9f90-372502e82d1a"
      },
      "outputs": [
        {
          "data": {
            "text/plain": [
              "251778"
            ]
          },
          "execution_count": 15,
          "metadata": {},
          "output_type": "execute_result"
        }
      ],
      "source": [
        "# Alumno: ¿Cuántos tokens/palabras hay?\n",
        "len(tokens)"
      ]
    },
    {
      "cell_type": "code",
      "execution_count": 16,
      "metadata": {
        "id": "TFukNZdOsZ8_"
      },
      "outputs": [],
      "source": [
        "# Alumno: Tokenizar las palabras con el Tokenizer de Keras\n",
        "# Definir una máxima cantidad de palabras a utilizar:\n",
        "# num_words --> the maximum number of words to keep, based on word frequency.\n",
        "# Only the most common num_words-1 words will be kept.\n",
        "from keras.preprocessing.text import Tokenizer\n",
        "num_words = 2000\n",
        "vocab_size = num_words\n",
        "tok = Tokenizer(num_words=2000) \n",
        "tok.fit_on_texts(tokens)"
      ]
    },
    {
      "cell_type": "code",
      "execution_count": 17,
      "metadata": {
        "colab": {
          "base_uri": "https://localhost:8080/"
        },
        "id": "JnR1tlqZy94X",
        "outputId": "04c613a1-c59f-4462-f95b-74ccd0af62e1"
      },
      "outputs": [
        {
          "data": {
            "text/plain": [
              "7201"
            ]
          },
          "execution_count": 17,
          "metadata": {},
          "output_type": "execute_result"
        }
      ],
      "source": [
        "# Alumno: Obtener el diccionario de palabra (word) a índice\n",
        "# y observar la cantidad total del vocabulario\n",
        "word_index = tok.word_index\n",
        "len(word_index)"
      ]
    },
    {
      "cell_type": "code",
      "execution_count": 37,
      "metadata": {},
      "outputs": [
        {
          "data": {
            "text/plain": [
              "\"3 tags sewn in, 2 small (about 1'' long) and 1 huge (about 2'' x 3''). very itchy so i cut them out. then the thread left behind was plasticy and even more itchy! how can you make an intimates item with such itchy tags? not comfortable at all! also - i love bralettes and wear them all the time including to work. i am a b cup. however, this one is so thin and flimsy that it gives no support even to a b cup - so for me this would only be a lounging bralette - if it wasn't so itchy!\""
            ]
          },
          "execution_count": 37,
          "metadata": {},
          "output_type": "execute_result"
        }
      ],
      "source": [
        "text_sequences[0]"
      ]
    },
    {
      "cell_type": "code",
      "execution_count": 18,
      "metadata": {
        "id": "AvWzzSretQXf"
      },
      "outputs": [],
      "source": [
        "# Alumno: Convertir las palabras/tokens a números\n",
        "sequences = tok.texts_to_sequences(text_sequences)"
      ]
    },
    {
      "cell_type": "code",
      "execution_count": 19,
      "metadata": {
        "colab": {
          "base_uri": "https://localhost:8080/"
        },
        "id": "za73M5SRtbrP",
        "outputId": "a32c55ba-427e-4552-b1e7-d39c90998553"
      },
      "outputs": [
        {
          "data": {
            "text/plain": [
              "110"
            ]
          },
          "execution_count": 19,
          "metadata": {},
          "output_type": "execute_result"
        }
      ],
      "source": [
        "# Alumno: Determinar cual es la oración más larga\n",
        "max(len(s) for s in sequences)"
      ]
    },
    {
      "cell_type": "code",
      "execution_count": 21,
      "metadata": {
        "id": "oCkO9Wc9tls1"
      },
      "outputs": [],
      "source": [
        "# Alumno: Realizar padding de las sentencias al mismo tamaño\n",
        "# tomando de referencia la máxima sentencia\n",
        "# from keras_preprocessing.sequence import pad_sequences\n",
        "\n",
        "maxlen = max(len(s) for s in sequences)\n",
        "\n",
        "X = pad_sequences(sequences, padding='pre', maxlen=maxlen)"
      ]
    },
    {
      "cell_type": "code",
      "execution_count": 22,
      "metadata": {
        "colab": {
          "base_uri": "https://localhost:8080/"
        },
        "id": "kGHHabVdt_aa",
        "outputId": "42141676-b8e6-42b3-8e98-fde27afb7698"
      },
      "outputs": [
        {
          "data": {
            "text/plain": [
              "(4105, 110)"
            ]
          },
          "execution_count": 22,
          "metadata": {},
          "output_type": "execute_result"
        }
      ],
      "source": [
        "# Alumno: Observar las dimensiones de la variable input\n",
        "X.shape\n"
      ]
    },
    {
      "cell_type": "code",
      "execution_count": 23,
      "metadata": {
        "id": "llVM-tzQo9_F"
      },
      "outputs": [],
      "source": [
        "# Alumno tomar la columna rating y alcemacenarla en una variable \"y\" transformada a oneHotEncoding\n",
        "# Su shape debe ser equivalente la cantidad de rows del corpus y a la cantidad\n",
        "# de clases que se deseen predecir (en este ejemplo son 5)\n",
        "\n",
        "from keras.utils.np_utils import to_categorical   \n",
        "\n",
        "y = to_categorical(df_reviews['Rating'], num_classes=5)"
      ]
    },
    {
      "cell_type": "code",
      "execution_count": 24,
      "metadata": {
        "colab": {
          "base_uri": "https://localhost:8080/"
        },
        "id": "RYmYdQvkpz-6",
        "outputId": "cb164233-5cc5-4582-d203-5ddcc28966c3"
      },
      "outputs": [
        {
          "data": {
            "text/plain": [
              "array([[1., 0., 0., 0., 0.],\n",
              "       [1., 0., 0., 0., 0.],\n",
              "       [1., 0., 0., 0., 0.],\n",
              "       ...,\n",
              "       [0., 0., 0., 0., 1.],\n",
              "       [0., 0., 0., 0., 1.],\n",
              "       [0., 0., 0., 0., 1.]], dtype=float32)"
            ]
          },
          "execution_count": 24,
          "metadata": {},
          "output_type": "execute_result"
        }
      ],
      "source": [
        "y"
      ]
    },
    {
      "cell_type": "code",
      "execution_count": 121,
      "metadata": {
        "id": "Rmz9A6n4uK4V"
      },
      "outputs": [],
      "source": [
        "# Alumno: Dividir los datos en train y test\n",
        "from sklearn.model_selection import train_test_split\n",
        "X_train, X_test, y_train, y_test = train_test_split(X, y, test_size=0.2, random_state=54, stratify=y, shuffle=True)"
      ]
    },
    {
      "cell_type": "code",
      "execution_count": 122,
      "metadata": {
        "colab": {
          "base_uri": "https://localhost:8080/"
        },
        "id": "EcDPlhEouQ9E",
        "outputId": "bef46bc0-cdef-4d55-b38f-5e553d3813af"
      },
      "outputs": [
        {
          "name": "stdout",
          "output_type": "stream",
          "text": [
            "in_shape 110 , out_shape 5\n"
          ]
        }
      ],
      "source": [
        "# Alumno: determinar la dimensiones de entrada y salida\n",
        "in_shape = X_train.shape[1] # max input sentence len\n",
        "out_shape = y_train.shape[1] # categorical classification\n",
        "print(\"in_shape\", in_shape, \", out_shape\", out_shape)"
      ]
    },
    {
      "cell_type": "markdown",
      "metadata": {
        "id": "NpbQHExL6OTu"
      },
      "source": [
        "### 2 - Entrenar el modelo con Embeddings + LSTM"
      ]
    },
    {
      "cell_type": "code",
      "execution_count": 127,
      "metadata": {},
      "outputs": [
        {
          "name": "stderr",
          "output_type": "stream",
          "text": [
            "Downloading...\n",
            "From: https://drive.google.com/uc?id=1KU5qmAYh3LATMvVgocFDfW-PK3prm1WU&export=download\n",
            "To: c:\\Users\\zerba\\Documents\\UBA\\Repos\\Repositorios de Eloy\\NLP-UBA\\clase_5\\fasttext.pkl\n",
            "100%|██████████| 2.88G/2.88G [04:22<00:00, 11.0MB/s]\n"
          ]
        }
      ],
      "source": [
        "# Descargar los embeddings desde un gogle drive (es la forma más rápida)\n",
        "# NOTA: No hay garantía de que estos links perduren, en caso de que no estén\n",
        "# disponibles descargar de la página oficial como se explica en el siguiente bloque\n",
        "import os\n",
        "import gdown\n",
        "if os.access('fasttext.pkl', os.F_OK) is False:\n",
        "    url = 'https://drive.google.com/uc?id=1KU5qmAYh3LATMvVgocFDfW-PK3prm1WU&export=download'\n",
        "    output = 'fasttext.pkl'\n",
        "    gdown.download(url, output, quiet=False)\n",
        "else:\n",
        "    print(\"Los embeddings fasttext.pkl ya están descargados\")"
      ]
    },
    {
      "cell_type": "code",
      "execution_count": 128,
      "metadata": {},
      "outputs": [],
      "source": [
        "import logging\n",
        "import os\n",
        "from pathlib import Path\n",
        "from io import StringIO\n",
        "import pickle\n",
        "\n",
        "class WordsEmbeddings(object):\n",
        "    logger = logging.getLogger(__name__)\n",
        "\n",
        "    def __init__(self):\n",
        "        # load the embeddings\n",
        "        words_embedding_pkl = Path(self.PKL_PATH)\n",
        "        if not words_embedding_pkl.is_file():\n",
        "            words_embedding_txt = Path(self.WORD_TO_VEC_MODEL_TXT_PATH)\n",
        "            assert words_embedding_txt.is_file(), 'Words embedding not available'\n",
        "            embeddings = self.convert_model_to_pickle()\n",
        "        else:\n",
        "            embeddings = self.load_model_from_pickle()\n",
        "        self.embeddings = embeddings\n",
        "        # build the vocabulary hashmap\n",
        "        index = np.arange(self.embeddings.shape[0])\n",
        "        # Dicctionarios para traducir de embedding a IDX de la palabra\n",
        "        self.word2idx = dict(zip(self.embeddings['word'], index))\n",
        "        self.idx2word = dict(zip(index, self.embeddings['word']))\n",
        "\n",
        "    def get_words_embeddings(self, words):\n",
        "        words_idxs = self.words2idxs(words)\n",
        "        return self.embeddings[words_idxs]['embedding']\n",
        "\n",
        "    def words2idxs(self, words):\n",
        "        return np.array([self.word2idx.get(word, -1) for word in words])\n",
        "\n",
        "    def idxs2words(self, idxs):\n",
        "        return np.array([self.idx2word.get(idx, '-1') for idx in idxs])\n",
        "\n",
        "    def load_model_from_pickle(self):\n",
        "        self.logger.debug(\n",
        "            'loading words embeddings from pickle {}'.format(\n",
        "                self.PKL_PATH\n",
        "            )\n",
        "        )\n",
        "        max_bytes = 2**28 - 1 # 256MB\n",
        "        bytes_in = bytearray(0)\n",
        "        input_size = os.path.getsize(self.PKL_PATH)\n",
        "        with open(self.PKL_PATH, 'rb') as f_in:\n",
        "            for _ in range(0, input_size, max_bytes):\n",
        "                bytes_in += f_in.read(max_bytes)\n",
        "        embeddings = pickle.loads(bytes_in)\n",
        "        self.logger.debug('words embeddings loaded')\n",
        "        return embeddings\n",
        "\n",
        "    def convert_model_to_pickle(self):\n",
        "        # create a numpy strctured array:\n",
        "        # word     embedding\n",
        "        # U50      np.float32[]\n",
        "        # word_1   a, b, c\n",
        "        # word_2   d, e, f\n",
        "        # ...\n",
        "        # word_n   g, h, i\n",
        "        self.logger.debug(\n",
        "            'converting and loading words embeddings from text file {}'.format(\n",
        "                self.WORD_TO_VEC_MODEL_TXT_PATH\n",
        "            )\n",
        "        )\n",
        "        structure = [('word', np.dtype('U' + str(self.WORD_MAX_SIZE))),\n",
        "                     ('embedding', np.float32, (self.N_FEATURES,))]\n",
        "        structure = np.dtype(structure)\n",
        "        # load numpy array from disk using a generator\n",
        "        with open(self.WORD_TO_VEC_MODEL_TXT_PATH, encoding=\"utf8\") as words_embeddings_txt:\n",
        "            embeddings_gen = (\n",
        "                (line.split()[0], line.split()[1:]) for line in words_embeddings_txt\n",
        "                if len(line.split()[1:]) == self.N_FEATURES\n",
        "            )\n",
        "            embeddings = np.fromiter(embeddings_gen, structure)\n",
        "        # add a null embedding\n",
        "        null_embedding = np.array(\n",
        "            [('null_embedding', np.zeros((self.N_FEATURES,), dtype=np.float32))],\n",
        "            dtype=structure\n",
        "        )\n",
        "        embeddings = np.concatenate([embeddings, null_embedding])\n",
        "        # dump numpy array to disk using pickle\n",
        "        max_bytes = 2**28 - 1 # # 256MB\n",
        "        bytes_out = pickle.dumps(embeddings, protocol=pickle.HIGHEST_PROTOCOL)\n",
        "        with open(self.PKL_PATH, 'wb') as f_out:\n",
        "            for idx in range(0, len(bytes_out), max_bytes):\n",
        "                f_out.write(bytes_out[idx:idx+max_bytes])\n",
        "        self.logger.debug('words embeddings loaded')\n",
        "        return embeddings\n",
        "\n",
        "\n",
        "class GloveEmbeddings(WordsEmbeddings):\n",
        "    WORD_TO_VEC_MODEL_TXT_PATH = 'glove.twitter.27B.50d.txt'\n",
        "    PKL_PATH = 'gloveembedding.pkl'\n",
        "    N_FEATURES = 50\n",
        "    WORD_MAX_SIZE = 60\n",
        "\n",
        "\n",
        "class FasttextEmbeddings(WordsEmbeddings):\n",
        "    WORD_TO_VEC_MODEL_TXT_PATH = 'cc.en.300.vec'\n",
        "    PKL_PATH = 'fasttext.pkl'\n",
        "    N_FEATURES = 300\n",
        "    WORD_MAX_SIZE = 60"
      ]
    },
    {
      "cell_type": "code",
      "execution_count": 129,
      "metadata": {},
      "outputs": [],
      "source": [
        "model_fasttext = FasttextEmbeddings()"
      ]
    },
    {
      "cell_type": "code",
      "execution_count": 130,
      "metadata": {},
      "outputs": [
        {
          "name": "stdout",
          "output_type": "stream",
          "text": [
            "preparing embedding matrix...\n",
            "number of null word embeddings: 2\n"
          ]
        }
      ],
      "source": [
        "# Crear la Embedding matrix\n",
        "\n",
        "print('preparing embedding matrix...')\n",
        "embed_dim = 300 # fasttext\n",
        "words_not_found = []\n",
        "\n",
        "# word_index provieen del tokenizer\n",
        "\n",
        "nb_words = min(num_words, len(word_index)) # vocab_size\n",
        "embedding_matrix = np.zeros((nb_words, embed_dim))\n",
        "for word, i in word_index.items():\n",
        "    if i >= nb_words:\n",
        "        continue\n",
        "    embedding_vector = model_fasttext.get_words_embeddings(word)[0]\n",
        "    if (embedding_vector is not None) and len(embedding_vector) > 0:\n",
        "        embedding_matrix[i] = embedding_vector\n",
        "    else:\n",
        "        # words not found in embedding index will be all-zeros.\n",
        "        words_not_found.append(word)\n",
        "        print(word)\n",
        "\n",
        "print('number of null word embeddings:', np.sum(np.sum(embedding_matrix, axis=1) == 0))"
      ]
    },
    {
      "cell_type": "code",
      "execution_count": 131,
      "metadata": {},
      "outputs": [
        {
          "data": {
            "text/plain": [
              "<keras.layers.core.embedding.Embedding at 0x1a07c553d60>"
            ]
          },
          "execution_count": 131,
          "metadata": {},
          "output_type": "execute_result"
        }
      ],
      "source": [
        "Embedding(input_dim=vocab_size,  # definido en el Tokenizador\n",
        "          output_dim=embed_dim,  # dimensión de los embeddings utilizados\n",
        "          input_length=in_shape, # máxima sentencia de entrada\n",
        "          weights=[embedding_matrix],  # matrix de embeddings\n",
        "          trainable=False)      # marcar como layer no entrenable"
      ]
    },
    {
      "cell_type": "code",
      "execution_count": 136,
      "metadata": {
        "colab": {
          "base_uri": "https://localhost:8080/"
        },
        "id": "dl62OE0ZRJqI",
        "outputId": "4f826d39-fd79-45ee-fe79-866d7b97ea7f"
      },
      "outputs": [
        {
          "name": "stdout",
          "output_type": "stream",
          "text": [
            "Model: \"sequential_15\"\n",
            "_________________________________________________________________\n",
            " Layer (type)                Output Shape              Param #   \n",
            "=================================================================\n",
            " embedding_16 (Embedding)    (None, 110, 300)          600000    \n",
            "                                                                 \n",
            " lstm_33 (LSTM)              (None, 110, 64)           93440     \n",
            "                                                                 \n",
            " dropout_32 (Dropout)        (None, 110, 64)           0         \n",
            "                                                                 \n",
            " lstm_34 (LSTM)              (None, 64)                33024     \n",
            "                                                                 \n",
            " dense_28 (Dense)            (None, 128)               8320      \n",
            "                                                                 \n",
            " dropout_33 (Dropout)        (None, 128)               0         \n",
            "                                                                 \n",
            " dense_29 (Dense)            (None, 5)                 645       \n",
            "                                                                 \n",
            "=================================================================\n",
            "Total params: 735,429\n",
            "Trainable params: 135,429\n",
            "Non-trainable params: 600,000\n",
            "_________________________________________________________________\n"
          ]
        }
      ],
      "source": [
        "# Entrenar un modelo con LSTM entrenando sus propios embeddings\n",
        "# o utilizando embeddings pre-entrenados.\n",
        "from keras.layers import LSTM\n",
        "from keras.layers import Embedding\n",
        "from keras.layers import Dropout\n",
        "\n",
        "opt = keras.optimizers.Adam(\n",
        "    learning_rate=0.001,\n",
        "    beta_1=0.9,\n",
        "    beta_2=0.999,\n",
        "    epsilon=1e-07,\n",
        "    amsgrad=False,\n",
        "    name='Adam',\n",
        ")\n",
        "\n",
        "model2 = Sequential()\n",
        "# input_dim = vocab_size (max n_words)\n",
        "# input_length = setencias con padding a 200\n",
        "# output_dim = embed_dim (depende que embeddings pre entrenados utilizamos)\n",
        "model2.add(Embedding(input_dim=vocab_size, output_dim=embed_dim, input_length=in_shape,\n",
        "                     weights=[embedding_matrix], trainable=False))\n",
        "\n",
        "model2.add(LSTM(units=64, return_sequences=True))\n",
        "model2.add(Dropout(0.2))\n",
        "model2.add(LSTM(units=64)) # La última capa LSTM no lleva return_sequences\n",
        "\n",
        "model2.add(Dense(units=128, activation='relu'))\n",
        "model2.add(Dropout(rate=0.2))\n",
        "model2.add(Dense(units=out_shape, activation='softmax'))\n",
        "\n",
        "model2.compile(optimizer=opt,\n",
        "              loss='categorical_crossentropy',\n",
        "              metrics=['accuracy'])\n",
        "\n",
        "model2.summary()\n",
        "\n"
      ]
    },
    {
      "cell_type": "code",
      "execution_count": 137,
      "metadata": {
        "colab": {
          "base_uri": "https://localhost:8080/",
          "height": 519
        },
        "id": "cqhzvpcqRP5e",
        "outputId": "4fe55c9f-b896-4824-8f3d-0dc09f84def3"
      },
      "outputs": [
        {
          "name": "stdout",
          "output_type": "stream",
          "text": [
            "Epoch 1/30\n",
            "83/83 [==============================] - 12s 109ms/step - loss: 1.6133 - accuracy: 0.2059 - val_loss: 1.6163 - val_accuracy: 0.1796\n",
            "Epoch 2/30\n",
            "83/83 [==============================] - 8s 100ms/step - loss: 1.6063 - accuracy: 0.2059 - val_loss: 1.6176 - val_accuracy: 0.1933\n",
            "Epoch 3/30\n",
            "83/83 [==============================] - 9s 114ms/step - loss: 1.5994 - accuracy: 0.2215 - val_loss: 1.6297 - val_accuracy: 0.2344\n",
            "Epoch 4/30\n",
            "83/83 [==============================] - 9s 111ms/step - loss: 1.6052 - accuracy: 0.2231 - val_loss: 1.6055 - val_accuracy: 0.2207\n",
            "Epoch 5/30\n",
            "83/83 [==============================] - 9s 112ms/step - loss: 1.5842 - accuracy: 0.2432 - val_loss: 1.5848 - val_accuracy: 0.2572\n",
            "Epoch 6/30\n",
            "83/83 [==============================] - 9s 107ms/step - loss: 1.5714 - accuracy: 0.2653 - val_loss: 1.5811 - val_accuracy: 0.2451\n",
            "Epoch 7/30\n",
            "83/83 [==============================] - 10s 115ms/step - loss: 1.5508 - accuracy: 0.2752 - val_loss: 1.5666 - val_accuracy: 0.2420\n",
            "Epoch 8/30\n",
            "83/83 [==============================] - 9s 112ms/step - loss: 1.5403 - accuracy: 0.2840 - val_loss: 1.6069 - val_accuracy: 0.2405\n",
            "Epoch 9/30\n",
            "83/83 [==============================] - 9s 106ms/step - loss: 1.5359 - accuracy: 0.2813 - val_loss: 1.5647 - val_accuracy: 0.2725\n",
            "Epoch 10/30\n",
            "83/83 [==============================] - 8s 100ms/step - loss: 1.5168 - accuracy: 0.3045 - val_loss: 1.5675 - val_accuracy: 0.2618\n",
            "Epoch 11/30\n",
            "83/83 [==============================] - 8s 101ms/step - loss: 1.5093 - accuracy: 0.3083 - val_loss: 1.6283 - val_accuracy: 0.2694\n",
            "Epoch 12/30\n",
            "83/83 [==============================] - 8s 100ms/step - loss: 1.4776 - accuracy: 0.3289 - val_loss: 1.5679 - val_accuracy: 0.2877\n",
            "Epoch 13/30\n",
            "83/83 [==============================] - 8s 101ms/step - loss: 1.4498 - accuracy: 0.3552 - val_loss: 1.5904 - val_accuracy: 0.2816\n",
            "Epoch 14/30\n",
            "83/83 [==============================] - 9s 104ms/step - loss: 1.4181 - accuracy: 0.3769 - val_loss: 1.6103 - val_accuracy: 0.2648\n",
            "Epoch 15/30\n",
            "83/83 [==============================] - 8s 102ms/step - loss: 1.3790 - accuracy: 0.3986 - val_loss: 1.6298 - val_accuracy: 0.2846\n",
            "Epoch 16/30\n",
            "83/83 [==============================] - 8s 102ms/step - loss: 1.3330 - accuracy: 0.4153 - val_loss: 1.6434 - val_accuracy: 0.2953\n",
            "Epoch 17/30\n",
            "83/83 [==============================] - 8s 102ms/step - loss: 1.2840 - accuracy: 0.4450 - val_loss: 1.6904 - val_accuracy: 0.2770\n",
            "Epoch 18/30\n",
            "83/83 [==============================] - 9s 112ms/step - loss: 1.2170 - accuracy: 0.4846 - val_loss: 1.7592 - val_accuracy: 0.2664\n",
            "Epoch 19/30\n",
            "83/83 [==============================] - 8s 99ms/step - loss: 1.1606 - accuracy: 0.5108 - val_loss: 1.7508 - val_accuracy: 0.2968\n",
            "Epoch 20/30\n",
            "83/83 [==============================] - 8s 93ms/step - loss: 1.0678 - accuracy: 0.5588 - val_loss: 1.8551 - val_accuracy: 0.2998\n",
            "Epoch 21/30\n",
            "83/83 [==============================] - 8s 92ms/step - loss: 0.9879 - accuracy: 0.5973 - val_loss: 2.0039 - val_accuracy: 0.2572\n",
            "Epoch 22/30\n",
            "83/83 [==============================] - 11s 131ms/step - loss: 0.9011 - accuracy: 0.6479 - val_loss: 2.0056 - val_accuracy: 0.2785\n",
            "Epoch 23/30\n",
            "83/83 [==============================] - 8s 91ms/step - loss: 0.8098 - accuracy: 0.6802 - val_loss: 2.0882 - val_accuracy: 0.2846\n",
            "Epoch 24/30\n",
            "83/83 [==============================] - 7s 90ms/step - loss: 0.7509 - accuracy: 0.7096 - val_loss: 2.1788 - val_accuracy: 0.2755\n",
            "Epoch 25/30\n",
            "83/83 [==============================] - 7s 89ms/step - loss: 0.6619 - accuracy: 0.7495 - val_loss: 2.4632 - val_accuracy: 0.2588\n",
            "Epoch 26/30\n",
            "83/83 [==============================] - 7s 89ms/step - loss: 0.6421 - accuracy: 0.7476 - val_loss: 2.4390 - val_accuracy: 0.2953\n",
            "Epoch 27/30\n",
            "83/83 [==============================] - 7s 89ms/step - loss: 0.5016 - accuracy: 0.8180 - val_loss: 2.6112 - val_accuracy: 0.2679\n",
            "Epoch 28/30\n",
            "83/83 [==============================] - 7s 90ms/step - loss: 0.4240 - accuracy: 0.8485 - val_loss: 2.8572 - val_accuracy: 0.2603\n",
            "Epoch 29/30\n",
            "83/83 [==============================] - 7s 90ms/step - loss: 0.3801 - accuracy: 0.8679 - val_loss: 2.9639 - val_accuracy: 0.2740\n",
            "Epoch 30/30\n",
            "83/83 [==============================] - 7s 89ms/step - loss: 0.3581 - accuracy: 0.8691 - val_loss: 3.0901 - val_accuracy: 0.2877\n"
          ]
        }
      ],
      "source": [
        "hist = model2.fit(X_train, y_train, epochs=30, validation_split=0.2)"
      ]
    },
    {
      "cell_type": "code",
      "execution_count": 138,
      "metadata": {
        "id": "dGWr73FHRTIl"
      },
      "outputs": [
        {
          "data": {
            "image/png": "[encoded data removed]",
            "text/plain": [
              "<Figure size 432x288 with 1 Axes>"
            ]
          },
          "metadata": {
            "needs_background": "light"
          },
          "output_type": "display_data"
        }
      ],
      "source": [
        "import matplotlib.pyplot as plt\n",
        "import seaborn as sns\n",
        "epoch_count = range(1, len(hist.history['accuracy']) + 1)\n",
        "sns.lineplot(x=epoch_count,  y=hist.history['accuracy'], label='train')\n",
        "sns.lineplot(x=epoch_count,  y=hist.history['val_accuracy'], label='valid')\n",
        "plt.show()"
      ]
    },
    {
      "cell_type": "code",
      "execution_count": 139,
      "metadata": {},
      "outputs": [
        {
          "name": "stdout",
          "output_type": "stream",
          "text": [
            "26/26 [==============================] - 1s 42ms/step - loss: 3.1542 - accuracy: 0.2643\n"
          ]
        },
        {
          "data": {
            "text/plain": [
              "[3.1542391777038574, 0.264311820268631]"
            ]
          },
          "execution_count": 139,
          "metadata": {},
          "output_type": "execute_result"
        }
      ],
      "source": [
        "model2.evaluate(X_test, y_test)"
      ]
    },
    {
      "cell_type": "code",
      "execution_count": 146,
      "metadata": {},
      "outputs": [
        {
          "name": "stdout",
          "output_type": "stream",
          "text": [
            "1/1 [==============================] - 0s 25ms/step\n",
            "[[0.08352753 0.01194332 0.08734768 0.45794874 0.35923275]]\n",
            "I am very happy-> ****\n"
          ]
        }
      ],
      "source": [
        "text_input = ['I am very happy']\n",
        "sequences = tok.texts_to_sequences(text_input)\n",
        "X_input = pad_sequences(sequences, padding='pre', maxlen=maxlen)\n",
        "pred = model2.predict(X_input)\n",
        "print(pred)\n",
        "print(text_input[0] + '-> '+'*'*(np.argmax(pred)+1))"
      ]
    },
    {
      "cell_type": "code",
      "execution_count": 148,
      "metadata": {},
      "outputs": [
        {
          "name": "stdout",
          "output_type": "stream",
          "text": [
            "1/1 [==============================] - 0s 27ms/step\n",
            "[[0.63463026 0.22582698 0.01766499 0.00875944 0.11311827]]\n",
            "I will not recomend this place-> *\n"
          ]
        }
      ],
      "source": [
        "text_input = ['I will not recomend this place']\n",
        "sequences = tok.texts_to_sequences(text_input)\n",
        "X_input = pad_sequences(sequences, padding='pre', maxlen=maxlen)\n",
        "pred = model2.predict(X_input)\n",
        "print(pred)\n",
        "print(text_input[0] + '-> '+'*'*(np.argmax(pred)+1))"
      ]
    },
    {
      "cell_type": "code",
      "execution_count": 149,
      "metadata": {},
      "outputs": [
        {
          "name": "stdout",
          "output_type": "stream",
          "text": [
            "1/1 [==============================] - 0s 50ms/step\n",
            "[[0.3949866  0.17904612 0.03669126 0.29910094 0.090175  ]]\n",
            "this is the worst shoes in the world-> *\n"
          ]
        }
      ],
      "source": [
        "text_input = ['this is the worst shoes in the world']\n",
        "sequences = tok.texts_to_sequences(text_input)\n",
        "X_input = pad_sequences(sequences, padding='pre', maxlen=maxlen)\n",
        "pred = model2.predict(X_input)\n",
        "print(pred)\n",
        "print(text_input[0] + '-> '+'*'*(np.argmax(pred)+1))"
      ]
    },
    {
      "cell_type": "code",
      "execution_count": 150,
      "metadata": {},
      "outputs": [
        {
          "name": "stdout",
          "output_type": "stream",
          "text": [
            "1/1 [==============================] - 0s 27ms/step\n",
            "[[0.30488962 0.20574458 0.0800201  0.05732782 0.35201785]]\n",
            "this is the bes shoes in the world-> *****\n"
          ]
        }
      ],
      "source": [
        "text_input = ['this is the bes shoes in the world']\n",
        "sequences = tok.texts_to_sequences(text_input)\n",
        "X_input = pad_sequences(sequences, padding='pre', maxlen=maxlen)\n",
        "pred = model2.predict(X_input)\n",
        "print(pred)\n",
        "print(text_input[0] + '-> '+'*'*(np.argmax(pred)+1))"
      ]
    }
  ],
  "metadata": {
    "accelerator": "GPU",
    "colab": {
      "collapsed_sections": [],
      "name": "5 - clothing_ecommerce_reviews.ipynb",
      "provenance": []
    },
    "gpuClass": "standard",
    "kernelspec": {
      "display_name": "Python 3.8.0 64-bit",
      "language": "python",
      "name": "python3"
    },
    "language_info": {
      "codemirror_mode": {
        "name": "ipython",
        "version": 3
      },
      "file_extension": ".py",
      "mimetype": "text/x-python",
      "name": "python",
      "nbconvert_exporter": "python",
      "pygments_lexer": "ipython3",
      "version": "3.8.0"
    },
    "vscode": {
      "interpreter": {
        "hash": "570feb405e2e27c949193ac68f46852414290d515b0ba6e5d90d076ed2284471"
      }
    }
  },
  "nbformat": 4,
  "nbformat_minor": 0
}
